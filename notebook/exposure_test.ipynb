{
 "cells": [
  {
   "cell_type": "code",
   "execution_count": null,
   "source": [
    "import numpy as np\r\n",
    "import matplotlib.pyplot as plt \r\n",
    "from tqdm.auto import tqdm as progressbar\r\n",
    "%matplotlib qt5"
   ],
   "outputs": [],
   "metadata": {}
  },
  {
   "cell_type": "code",
   "execution_count": null,
   "source": [
    "import subprocess\r\n",
    "access_str = r\"pi@ender3.local\"\r\n",
    "\r\n",
    "def ssh_command(cmd):\r\n",
    "    return subprocess.check_output([\r\n",
    "            \"ssh\",\r\n",
    "            access_str,\r\n",
    "            cmd\r\n",
    "        ]).decode()\r\n",
    "\r\n",
    "print(ssh_command(\"v4l2-ctl --all\").split(\"Flags:\")[-1])\r\n",
    "print(ssh_command(\"v4l2-ctl -cexposure_auto=1\")[-500:])"
   ],
   "outputs": [],
   "metadata": {}
  },
  {
   "cell_type": "code",
   "execution_count": null,
   "source": [
    "def set_exposure(value):\r\n",
    "    return ssh_command(f\"v4l2-ctl -cexposure_absolute={value}\")\r\n",
    "\r\n",
    "def set_temp(value):\r\n",
    "    return ssh_command(f\"v4l2-ctl -cwhite_balance_temperature={value}\")\r\n",
    "\r\n",
    "def set_gain(value):\r\n",
    "    return ssh_command(f\"v4l2-ctl -cset_gain={value}\")\r\n",
    "\r\n",
    "set_exposure(1)\r\n",
    "ssh_command(f\"v4l2-ctl -csaturation=32\")"
   ],
   "outputs": [],
   "metadata": {}
  },
  {
   "cell_type": "code",
   "execution_count": null,
   "source": [
    "import sys\r\n",
    "import time\r\n",
    "sys.path.append(r\"C:\\Users\\Pedro\\Desktop\\TCC\\ender-laser-scanner\\ender\")\r\n",
    "from snapshot import MjpgSnapshotter\r\n",
    "\r\n",
    "\r\n",
    "snap = MjpgSnapshotter(\"http://192.168.0.15/webcam/\")"
   ],
   "outputs": [],
   "metadata": {}
  },
  {
   "cell_type": "code",
   "execution_count": null,
   "source": [
    "images=[]\r\n",
    "exposure_range = range(1,200,5)\r\n",
    "for i in progressbar(exposure_range):\r\n",
    "    set_exposure(i)\r\n",
    "    ret, im = snap.read()\r\n",
    "    time.sleep(0.5)\r\n",
    "    if ret:\r\n",
    "        images.append(im)"
   ],
   "outputs": [],
   "metadata": {}
  },
  {
   "cell_type": "code",
   "execution_count": null,
   "source": [
    "fig, axs = plt.subplots(2)\r\n",
    "axs[0].imshow(images[0])\r\n",
    "axs[1].imshow(images[1])"
   ],
   "outputs": [],
   "metadata": {}
  },
  {
   "cell_type": "code",
   "execution_count": null,
   "source": [
    "red = np.array([ [ [ [1],[-0.5],[-0.5] ] ] ])\r\n",
    "white = np.array([ [ [ [1],[1],[1] ] ] ])\r\n",
    "white=white/np.linalg.norm(white)"
   ],
   "outputs": [],
   "metadata": {}
  },
  {
   "cell_type": "code",
   "execution_count": null,
   "source": [
    "I = np.stack(images)\r\n",
    "I = I / 255 / (3**(1/3))\r\n",
    "plt.figure()\r\n",
    "red_contrast = I@red\r\n",
    "white_value = I@white\r\n",
    "plt.figure()\r\n",
    "plt.plot(np.max(red_contrast,axis=(1,2)))\r\n",
    "plt.plot(np.max(white_value, axis=(1,2)) )\r\n",
    "plt.show()\r\n",
    "print(np.argmax(np.max(red_contrast, axis=(1,2)) ))"
   ],
   "outputs": [],
   "metadata": {}
  },
  {
   "cell_type": "code",
   "execution_count": null,
   "source": [
    "del ids\r\n",
    "ids = []\r\n",
    "print(I.shape)\r\n",
    "for img in np.linalg.norm(I, axis=-1):\r\n",
    "    ids.append( np.unravel_index(img.flatten().argmax(), img.shape) )\r\n",
    "print(ids)\r\n",
    "max_norm_vecs = [ I[n, i[0], i[1]] for n, i in enumerate(ids) ]\r\n",
    "\r\n",
    "for m in max_norm_vecs:\r\n",
    "    print(np.round(m,2)*(3*(1/3)))\r\n"
   ],
   "outputs": [],
   "metadata": {}
  },
  {
   "cell_type": "code",
   "execution_count": null,
   "source": [
    "x = np.stack(max_norm_vecs) * 255 * 3**(1/3)\r\n",
    "plt.plot(exposure_range, x[:,0], label=\"r\", color =\"red\")\r\n",
    "plt.plot(exposure_range, x[:,1], label=\"g\", color =\"green\")\r\n",
    "plt.plot(exposure_range, x[:,2], label=\"b\", color =\"blue\")\r\n",
    "plt.xlabel(\"exposure\")\r\n",
    "plt.legend()"
   ],
   "outputs": [],
   "metadata": {}
  },
  {
   "cell_type": "code",
   "execution_count": null,
   "source": [
    "import pandas as pd\r\n",
    "\r\n",
    "x = pd.Series(max_norm_vecs)\r\n",
    "x.apply(lambda y: np.round(y,2)).to_csv(\"x.csv\")"
   ],
   "outputs": [],
   "metadata": {}
  },
  {
   "cell_type": "code",
   "execution_count": null,
   "source": [
    "plt.imshow(images[4])\r\n",
    "plt.figure()\r\n",
    "plt.imshow(images[10])"
   ],
   "outputs": [],
   "metadata": {}
  },
  {
   "cell_type": "code",
   "execution_count": null,
   "source": [
    "\r\n",
    "plt.plot(im)"
   ],
   "outputs": [],
   "metadata": {}
  }
 ],
 "metadata": {
  "orig_nbformat": 4,
  "language_info": {
   "name": "python",
   "version": "3.8.8",
   "mimetype": "text/x-python",
   "codemirror_mode": {
    "name": "ipython",
    "version": 3
   },
   "pygments_lexer": "ipython3",
   "nbconvert_exporter": "python",
   "file_extension": ".py"
  },
  "kernelspec": {
   "name": "python3",
   "display_name": "Python 3.8.8 64-bit"
  },
  "interpreter": {
   "hash": "de010e02af0182a46e1d4f2d3d86aae38d696d8da1f8c0cf72b589afff73eac1"
  }
 },
 "nbformat": 4,
 "nbformat_minor": 2
}