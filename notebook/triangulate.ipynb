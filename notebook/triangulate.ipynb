{
 "cells": [
  {
   "cell_type": "markdown",
   "source": [
    "# Setup"
   ],
   "metadata": {}
  },
  {
   "cell_type": "code",
   "execution_count": 1,
   "source": [
    "import matplotlib.pyplot as plt\n",
    "import matplotlib\n",
    "%matplotlib qt\n",
    "# matplotlib.backend\n",
    "# matplotlib.validate_backend(\"GTK3Ag\")"
   ],
   "outputs": [],
   "metadata": {}
  },
  {
   "cell_type": "code",
   "execution_count": 2,
   "source": [
    "import numpy as np\n",
    "import pickle\n",
    "from tqdm.auto import tqdm as progressbar\n",
    "import matplotlib.pyplot as plt\n",
    "import matplotlib.animation as animation\n",
    "import cv2\n",
    "import cv2.aruco as aruco\n",
    "import common as co\n",
    "from os.path import join\n",
    "from calib import calibrate_charuco_local, load_board, load_coefficients, save_coefficients"
   ],
   "outputs": [],
   "metadata": {}
  },
  {
   "cell_type": "markdown",
   "source": [
    "## Load calib"
   ],
   "metadata": {}
  },
  {
   "cell_type": "code",
   "execution_count": 3,
   "source": [
    "data_path=\"/home/freitas/TCC/ender-laser-scanner/pics/scan_4_close/exposures/exp_\""
   ],
   "outputs": [],
   "metadata": {}
  },
  {
   "cell_type": "code",
   "execution_count": 4,
   "source": [
    "import json\n",
    "\n",
    "# Calib params\n",
    "with open(\"calib.pkl\", \"rb\") as f:\n",
    "    calib = pickle.load(f)\n",
    "mtx = calib[\"mtx\"]\n",
    "dist_original = calib[\"dist\"]\n",
    "dist = None\n",
    "n = calib[\"n\"]\n",
    "\n",
    "board, aruco_dict = load_board(\"board.pkl\")\n",
    "\n",
    "print(board.getChessboardSize())\n",
    "print(board.getMarkerLength())\n",
    "print(board.getSquareLength())"
   ],
   "outputs": [
    {
     "output_type": "stream",
     "name": "stdout",
     "text": [
      "(16, 16)\n",
      "9.375\n",
      "12.5\n"
     ]
    }
   ],
   "metadata": {}
  },
  {
   "cell_type": "code",
   "execution_count": 5,
   "source": [
    "def load(path):\n",
    "    info = {}\n",
    "    data = []\n",
    "    with open(join(path,\"points.json\")) as f:\n",
    "        info = json.loads(f.read())\n",
    "\n",
    "    for fig, point in info.items():\n",
    "        image =  cv2.cvtColor(cv2.imread(join(path, fig)), cv2.COLOR_BGR2RGB)\n",
    "        image = cv2.undistort(image, mtx, dist_original, None, mtx)\n",
    "        data.append( (point, image) )\n",
    "\n",
    "    return data\n",
    "\n",
    "\n",
    "arucoParams = aruco.DetectorParameters_create()\n",
    "def find_charuco_pose(image):\n",
    "    gray = cv2.cvtColor(image, cv2.COLOR_RGB2GRAY)\n",
    "\n",
    "    corners, ids, rejected = aruco.detectMarkers( gray, aruco_dict, cameraMatrix=mtx, parameters=arucoParams)\n",
    "    resp, charuco_corners, charuco_ids = aruco.interpolateCornersCharuco( markerCorners=corners, markerIds=ids, image=gray, board=board, cameraMatrix=mtx)\n",
    "\n",
    "    retval, rvec, tvec\t=\tcv2.aruco.estimatePoseCharucoBoard(charuco_corners, charuco_ids, board, mtx, dist, None,None)\n",
    "    return rvec, tvec"
   ],
   "outputs": [],
   "metadata": {}
  },
  {
   "cell_type": "code",
   "execution_count": 6,
   "source": [
    "data = load(data_path+\"3\")\n",
    "coords = []\n",
    "\n",
    "for point, image in data:\n",
    "    rvec, tvec = find_charuco_pose(image)\n",
    "    if rvec is None or tvec is None:\n",
    "        print(\"DROP, \", end=\" \")\n",
    "    coords.append((rvec, tvec))\n",
    "\n",
    "data = load(data_path+\"1\")\n",
    "\n",
    "data_bright = load(data_path+\"3\")\n",
    "\n",
    "new_coords = []\n",
    "new_data = []\n",
    "good_images = []\n",
    "for i, ( (point, image), (rvec, tvec) ) in enumerate(zip(data, coords)):\n",
    "    if rvec is None or tvec is None:\n",
    "        print(f\"dropped {i}\")\n",
    "        continue\n",
    "\n",
    "    good_images.append(data_bright[i])\n",
    "\n",
    "    new_data.append((point, image))\n",
    "    new_coords.append((rvec, tvec))\n",
    "\n",
    "data = new_data\n",
    "coords = new_coords"
   ],
   "outputs": [
    {
     "output_type": "stream",
     "name": "stdout",
     "text": [
      "DROP,  DROP,  DROP,  DROP,  DROP,  DROP,  DROP,  DROP,  DROP,  DROP,  DROP,  DROP,  DROP,  DROP,  DROP,  DROP,  DROP,  dropped 1\n",
      "dropped 2\n",
      "dropped 3\n",
      "dropped 4\n",
      "dropped 7\n",
      "dropped 21\n",
      "dropped 22\n",
      "dropped 23\n",
      "dropped 24\n",
      "dropped 25\n",
      "dropped 36\n",
      "dropped 37\n",
      "dropped 38\n",
      "dropped 39\n",
      "dropped 40\n",
      "dropped 42\n",
      "dropped 43\n"
     ]
    }
   ],
   "metadata": {}
  },
  {
   "cell_type": "code",
   "execution_count": 7,
   "source": [
    "from matplotlib import animation\n",
    "\n",
    "# First set up the figure, the axis, and the plot element we want to animate\n",
    "fig = plt.figure()\n",
    "# animation function.  This is called sequentially\n",
    "imgplot = None\n",
    "pointsplot = None\n",
    "\n",
    "def init():\n",
    "    global imgplot, pointsplot\n",
    "    imgplot = plt.imshow(data[0][1], animated=True)\n",
    "    pointsplot, = plt.plot(range(data[0][1].shape[0]), \"r.\", animated=True)\n",
    "    return pointsplot, imgplot\n",
    "\n",
    "\n",
    "def laser_points_img_gen(i):\n",
    "    global imgplot, pointsplot\n",
    "    # Find board and laser\n",
    "    point, image =data[i]\n",
    "\n",
    "    blur = cv2.GaussianBlur(image, ksize=(5,5), sigmaX=1)\n",
    "\n",
    "    centroids = co.column_centroids(co.red_contrast(blur), mask=co.red_contrast(blur)>50)\n",
    "    # centroids = co.column_argmaxes(co.red_contrast(image), mask=co.red_contrast(image)>50)\n",
    "    p_centroids = np.stack(list((i, p, 1) for i,p in enumerate(centroids) if not np.isnan(p))).T\n",
    "\n",
    "    # Update anim\n",
    "    imgplot.set_data(data[i][1])\n",
    "    pointsplot.set_data(p_centroids[0], p_centroids[1])\n",
    "    return pointsplot, imgplot\n",
    "\n",
    "# call the animator.  blit=True means only re-draw the parts that have changed.\n",
    "anim = animation.FuncAnimation(fig, laser_points_img_gen, init_func=init,\n",
    "                               frames=len(data), interval=20, blit=True)"
   ],
   "outputs": [],
   "metadata": {}
  },
  {
   "cell_type": "code",
   "execution_count": 8,
   "source": [
    "def ray_plane_intersect_vectorized(img_points, plane, cam_mtx):\n",
    "\t\"\"\"\n",
    "\tCalculate 3d-intersection between image rays defined by `img_ponts` and `cam_mtx`\n",
    "\tand a plane defined by the 4-vec `plane`\n",
    "\t@param img_points np.array with shape (3, N), N= number of points, homegeneous coords\n",
    "\t@param plane np.array with shape = (4,)\n",
    "\t@param cam_mtx np.array with shape = (3,3), intrinsic camera parameters\n",
    "\t@returns np.array with shape (4, N) with 3d points\n",
    "\t\"\"\"\n",
    "\tassert plane.shape == (4,)\n",
    "\tassert len(img_points.shape) == 2\n",
    "\tassert img_points.shape[0] == 3\n",
    "\n",
    "\trays = np.linalg.inv(cam_mtx)@img_points\n",
    "\tp = plane[-1]\n",
    "\tn = plane[:3]\n",
    "\tout = (-p/(n@rays)) * rays\n",
    "\tout = np.vstack((out, np.ones((1, out.shape[-1])))) # homogeneous coords\n",
    "\treturn out"
   ],
   "outputs": [],
   "metadata": {}
  },
  {
   "cell_type": "code",
   "execution_count": 11,
   "source": [
    "def triangulate_pts(image):\n",
    "    blur = cv2.GaussianBlur(image, ksize=(5,5), sigmaX=1)\n",
    "    centroids = co.column_centroids(co.red_contrast(blur), mask=co.red_contrast(blur)>50)\n",
    "    p_centroids = np.stack(list((i, p, 1) for i,p in enumerate(centroids) if not np.isnan(p))).T\n",
    "\n",
    "    pts_3d = ray_plane_intersect_vectorized(p_centroids, n, mtx)\n",
    "    return pts_3d\n",
    "def chess_plane(rvec, tvec):\n",
    "\t# Find p\n",
    "\tn_chessboard = np.array([0, 0, 1])\n",
    "\tM,_ = cv2.Rodrigues(rvec)\n",
    "\tn3 = M@n_chessboard\n",
    "\tp = -1 * n3@tvec\n",
    "\tn = np.hstack((n3,p))\n",
    "\treturn n"
   ],
   "outputs": [],
   "metadata": {}
  },
  {
   "cell_type": "code",
   "execution_count": 12,
   "source": [
    "W = np.eye(4)\n",
    "Xlist = []\n",
    "XcList=[]\n",
    "for (point, image), (rvec, tvec) in zip(data, coords):\n",
    "    # 3d pts in camera frame\n",
    "    pts_3d = triangulate_pts(image)\n",
    "    # Extrinsic params\n",
    "    rot, jac = cv2.Rodrigues(rvec)\n",
    "    W[:3, -1] = tvec.flatten()\n",
    "    W[:3,:3] = rot\n",
    "\n",
    "    # Concat points\n",
    "    XcList.append(pts_3d)\n",
    "    Xlist.append(np.linalg.inv(W)@pts_3d)\n",
    "X = np.hstack(Xlist)"
   ],
   "outputs": [],
   "metadata": {}
  },
  {
   "cell_type": "markdown",
   "source": [
    "## Plot"
   ],
   "metadata": {}
  },
  {
   "cell_type": "code",
   "execution_count": 13,
   "source": [
    "import matplotlib.pyplot as plt\n",
    "from mpl_toolkits.mplot3d import Axes3D\n",
    "import importlib\n",
    "import common as co\n",
    "importlib.reload(co)"
   ],
   "outputs": [
    {
     "output_type": "execute_result",
     "data": {
      "text/plain": [
       "<module 'common' from '/home/freitas/TCC/ender-laser-scanner/notebook/common.py'>"
      ]
     },
     "metadata": {},
     "execution_count": 13
    }
   ],
   "metadata": {}
  },
  {
   "cell_type": "markdown",
   "source": [
    "### Gauss Laser"
   ],
   "metadata": {}
  },
  {
   "cell_type": "code",
   "execution_count": null,
   "source": [],
   "outputs": [],
   "metadata": {}
  },
  {
   "cell_type": "code",
   "execution_count": 14,
   "source": [
    "fig, axs = plt.subplots(2,2, sharey=True, sharex=\"col\")\n",
    "i = 15\n",
    "img_1 = data[i][ 1 ]\n",
    "img_2 = data_bright[i][ 1 ]\n",
    "\n",
    "axs[0,0].imshow(img_1)\n",
    "axs[0,0].axvline(500)\n",
    "axs[0,0].set_title(r\"$\\tau = 10^*$\")\n",
    "axs[0,1].plot(np.mean(img_1, axis=-1)[:,500],range(720), label = \"Intensidade\")\n",
    "axs[0,1].plot(co.red_contrast(img_1)[:,500],range(720), label=\"Contraste Vermelho (Taubin, 2014)\")\n",
    "\n",
    "red = co.red_contrast(img_1)\n",
    "red[red<1] = 0\n",
    "centers = co.column_centroids(red)\n",
    "\n",
    "c = centers[500]\n",
    "# axs[0,0].plot(500, c, \"r.\")\n",
    "#axs[0,1].axhline(c,  color=\"r\",label=\"Centróide\")\n",
    "\n",
    "#axs[0,0].axvline(np.argmax(np.mean(img_1, axis=-1)[:,500]))\n",
    "#axs[0,1].set_xlabel(\"Valor do Pixel\")\n",
    "axs[0,1].set_ylabel(\"Linha\")\n",
    "axs[0,1].invert_yaxis()\n",
    "axs[0,1].legend().set_draggable(True)\n",
    "\n",
    "axs[1,0].set_title(r\"$\\tau = 500^*$\")\n",
    "\n",
    "axs[1,0].imshow(img_2)\n",
    "axs[1,0].axvline(500)\n",
    "axs[1,1].plot(np.mean(img_2, axis=-1)[:,500], range(720),label = \"Intensidade\")\n",
    "axs[1,1].plot(co.red_contrast(img_2)[:,500], range(720), label=\"Contraste Vermelho (Taubin, 2014)\")\n",
    "\n",
    "print(c)\n",
    "\n",
    "red = np.mean(img_2, axis=-1)\n",
    "red[red<150] = 0\n",
    "centers = co.column_centroids(red)\n",
    "c = centers[500]\n",
    "# axs[1,0].plot(500, c, \"r.\")\n",
    "#axs[1,1].axhline(c,  color=\"r\", label=\"Centróide\")\n",
    "\n",
    "print(c)\n",
    "\n",
    "axs[1,1].set_xlabel(\"Valor do Pixel\")\n",
    "axs[1,1].set_ylabel(\"Linha\")\n",
    "axs[1,1].invert_yaxis()\n",
    "axs[1,1].legend(loc=\"center right\").set_draggable(True)\n",
    "#axs[1].axvline(np.argmax(co.red_contrast(img_1)[:,500]))\n",
    "\n",
    "fig.suptitle(\"Comparação de Tempos de Exposição\")\n"
   ],
   "outputs": [
    {
     "output_type": "stream",
     "name": "stdout",
     "text": [
      "84.53933624223191\n",
      "85.5311192235776\n"
     ]
    },
    {
     "output_type": "execute_result",
     "data": {
      "text/plain": [
       "Text(0.5, 0.98, 'Comparação de Tempos de Exposição')"
      ]
     },
     "metadata": {},
     "execution_count": 14
    }
   ],
   "metadata": {}
  },
  {
   "cell_type": "markdown",
   "source": [
    "### Profiles"
   ],
   "metadata": {}
  },
  {
   "cell_type": "code",
   "execution_count": 15,
   "source": [
    "import matplotlib.ticker as plticker\n",
    "\n",
    "fig, ax = co.plot3d(proj_type=\"ortho\")\n",
    "for i, x in enumerate(XcList[3:-3*2:3]):\n",
    "    #x = x.copy()\n",
    "    x = x[:,x[2] < 110]\n",
    "    ax.scatter(x[0], i + x[1] + 24, x[2], label=f\"{i}\")\n",
    "\n",
    "#co.set_axes_equal(ax)\n",
    "ax.set_xlabel(\"$X_c ~[mm]$\")\n",
    "ax.set_ylabel(\"$i_p + Y_c ~[mm]$\")\n",
    "ax.set_zlabel(\"$Z_c ~[mm]$\")\n",
    "\n",
    "ax.invert_zaxis()\n",
    "\n",
    "#ax.set_ylim(-0.5, i)\n",
    "#ax.set_zlim(90, 100)\n",
    "#ax.set_xlim(-60, 0)\n",
    "\n",
    "#ax.xaxis.set_major_locator(plticker.MultipleLocator(base=1.0))\n",
    "ax.yaxis.set_major_locator(plticker.MultipleLocator(base=1.0))\n",
    "ax.zaxis.set_major_locator(plticker.MultipleLocator(base=1.0))\n",
    "\n",
    "ax.legend(loc=\"upper right\", ncol=2, title=\"Perfil ($i_p$)\").set_draggable(True)\n",
    "plt.title(\"Visualização 3D dos Perfis\")\n",
    "fig.tight_layout()"
   ],
   "outputs": [],
   "metadata": {}
  },
  {
   "cell_type": "code",
   "execution_count": 16,
   "source": [
    "for i, x in enumerate(XcList[3:-3*2:3]):\n",
    "    x = x[:,x[2] < 110]\n",
    "    plt.plot(x[0], x[2], \"--.\", label=f\"{i}\")\n",
    "\n",
    "plt.gca().invert_yaxis()\n",
    "\n",
    "plt.xlabel(r\"$X_c~ [mm]$\")\n",
    "plt.ylabel(r\"$Z_c~ [mm]$\")\n",
    "ax.legend(loc=\"best\", ncol=2, title=\"Perfil ($i_p$)\")\n",
    "plt.grid()\n",
    "plt.title(\"Projeção dos Perfis em XZ\")\n",
    "plt.legend().set_draggable(True)\n",
    "plt.tight_layout()"
   ],
   "outputs": [
    {
     "output_type": "stream",
     "name": "stderr",
     "text": [
      "The PostScript backend does not support transparency; partially transparent artists will be rendered opaque.\n",
      "The PostScript backend does not support transparency; partially transparent artists will be rendered opaque.\n",
      "The PostScript backend does not support transparency; partially transparent artists will be rendered opaque.\n",
      "The PostScript backend does not support transparency; partially transparent artists will be rendered opaque.\n",
      "The PostScript backend does not support transparency; partially transparent artists will be rendered opaque.\n",
      "The PostScript backend does not support transparency; partially transparent artists will be rendered opaque.\n"
     ]
    }
   ],
   "metadata": {}
  },
  {
   "cell_type": "code",
   "execution_count": 46,
   "source": [
    "chosen_pics = slice(3,-3*2,3)\n",
    "\n",
    "d = data[chosen_pics]\n",
    "d2 = good_images[chosen_pics]\n",
    "\n",
    "cols = 2\n",
    "fig, axs = plt.subplots(len(d)//cols,cols, sharex=True, sharey=True)\n",
    "\n",
    "colors = plt.rcParams['axes.prop_cycle'].by_key()['color']\n",
    "\n",
    "for i, ( ax, (point, image) ) in enumerate( zip(axs.T.flatten(), d) ):\n",
    "\n",
    "    # Axes\n",
    "    ax.imshow(d2[i][1])\n",
    "    ax.axis(\"off\")\n",
    "    ax.set_title(f\"Perfil {i}\", color=colors[i])\n",
    "\n",
    "    blur = cv2.GaussianBlur(image, ksize=(5,5), sigmaX=1)\n",
    "    centroids = co.column_centroids(co.red_contrast(blur), mask=co.red_contrast(blur)>50)\n",
    "    p_centroids = np.stack(list((i, p, 1) for i,p in enumerate(centroids) if not np.isnan(p))).T\n",
    "\n",
    "    ax.plot(p_centroids[0], p_centroids[1], \"g.\", markersize=1)"
   ],
   "outputs": [],
   "metadata": {}
  },
  {
   "cell_type": "code",
   "execution_count": null,
   "source": [],
   "outputs": [],
   "metadata": {}
  },
  {
   "cell_type": "code",
   "execution_count": 94,
   "source": [
    "fig, ax = co.plot3d()\n",
    "\n",
    "for x in Xlist:\n",
    "    ax.scatter(x[0], x[1], x[2])\n",
    "\n",
    "for (point, image), (rvec, tvec) in zip(data, coords):\n",
    "    # Axes\n",
    "    co.plot_axes(ax, np.linalg.inv(co.vec2M(rvec, tvec)))\n",
    "\n",
    "co.set_axes_equal(ax)"
   ],
   "outputs": [],
   "metadata": {}
  },
  {
   "cell_type": "markdown",
   "source": [
    "### Axes"
   ],
   "metadata": {}
  },
  {
   "cell_type": "code",
   "execution_count": 12,
   "source": [
    "fig, ax = co.plot3d()\n",
    "\n",
    "for (point, image), (rvec, tvec) in zip(data, coords):\n",
    "    # Axes\n",
    "    co.plot_axes(ax, np.linalg.inv(co.vec2M(rvec, tvec)))\n",
    "\n",
    "# Board\n",
    "ax.scatter(board.chessboardCorners[:,0], board.chessboardCorners[:,1], board.chessboardCorners[:,2], color=\"k\", label=\"board\")\n",
    "co.set_axes_equal(ax)\n",
    "plt.legend()"
   ],
   "outputs": [
    {
     "output_type": "execute_result",
     "data": {
      "text/plain": [
       "<matplotlib.legend.Legend at 0x7fd6b803db20>"
      ]
     },
     "metadata": {},
     "execution_count": 12
    }
   ],
   "metadata": {}
  },
  {
   "cell_type": "markdown",
   "source": [
    "### Profiles"
   ],
   "metadata": {}
  },
  {
   "cell_type": "code",
   "execution_count": 13,
   "source": [
    "print(chess_plane(rvec, tvec))\n",
    "print(n)"
   ],
   "outputs": [
    {
     "output_type": "stream",
     "name": "stdout",
     "text": [
      "[-5.55399561e-02 -4.29357210e-01 -9.01425371e-01  9.70976568e+01]\n",
      "[ 5.13043375e-04  1.35863228e-02 -6.67223189e-03  9.99885308e-01]\n"
     ]
    }
   ],
   "metadata": {}
  },
  {
   "cell_type": "markdown",
   "source": [
    "### Reconstruct"
   ],
   "metadata": {}
  },
  {
   "cell_type": "code",
   "execution_count": 13,
   "source": [
    "fig = plt.figure()\n",
    "ax = fig.add_subplot(111, projection='3d')\n",
    "region = X[2] > -9999\n",
    "ax.plot_trisurf(X[0][region],X[1][region], X[2][region], color=\"r\")"
   ],
   "outputs": [
    {
     "output_type": "execute_result",
     "data": {
      "text/plain": [
       "<mpl_toolkits.mplot3d.art3d.Poly3DCollection at 0x7fd6a0da2370>"
      ]
     },
     "metadata": {},
     "execution_count": 13
    }
   ],
   "metadata": {}
  },
  {
   "cell_type": "markdown",
   "source": [
    "### Side view"
   ],
   "metadata": {}
  },
  {
   "cell_type": "code",
   "execution_count": 14,
   "source": [
    "region = X[2] != 9999\n",
    "plt.scatter(X[1][region], X[2][region])"
   ],
   "outputs": [
    {
     "output_type": "execute_result",
     "data": {
      "text/plain": [
       "<matplotlib.collections.PathCollection at 0x7fee17f02610>"
      ]
     },
     "metadata": {},
     "execution_count": 14
    }
   ],
   "metadata": {}
  },
  {
   "cell_type": "code",
   "execution_count": null,
   "source": [],
   "outputs": [],
   "metadata": {}
  }
 ],
 "metadata": {
  "orig_nbformat": 4,
  "language_info": {
   "name": "python",
   "version": "3.9.5",
   "mimetype": "text/x-python",
   "codemirror_mode": {
    "name": "ipython",
    "version": 3
   },
   "pygments_lexer": "ipython3",
   "nbconvert_exporter": "python",
   "file_extension": ".py"
  },
  "kernelspec": {
   "name": "python3",
   "display_name": "Python 3.9.5 64-bit ('tccenv': venv)"
  },
  "interpreter": {
   "hash": "703c8d1975e0ca36ce201e787f076003fab5e4e5ea7a33d5a755a2359f5bcf9b"
  }
 },
 "nbformat": 4,
 "nbformat_minor": 2
}