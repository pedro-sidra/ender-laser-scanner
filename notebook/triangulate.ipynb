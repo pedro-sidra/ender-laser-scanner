{
 "cells": [
  {
   "cell_type": "markdown",
   "metadata": {},
   "source": [
    "# Setup"
   ]
  },
  {
   "cell_type": "code",
   "execution_count": null,
   "metadata": {},
   "outputs": [],
   "source": [
    "import matplotlib.pyplot as plt\n",
    "import matplotlib\n",
    "%matplotlib qt\n",
    "# matplotlib.backend\n",
    "# matplotlib.validate_backend(\"GTK3Ag\")"
   ]
  },
  {
   "cell_type": "code",
   "execution_count": null,
   "metadata": {},
   "outputs": [],
   "source": [
    "import numpy as np\n",
    "import pickle\n",
    "from tqdm.auto import tqdm as progressbar\n",
    "import matplotlib.pyplot as plt\n",
    "import matplotlib.animation as animation\n",
    "import cv2\n",
    "import cv2.aruco as aruco\n",
    "import common as co\n",
    "from os.path import join\n",
    "from calib import calibrate_charuco_local, load_board, load_coefficients, save_coefficients"
   ]
  },
  {
   "cell_type": "markdown",
   "metadata": {},
   "source": [
    "## Load calib"
   ]
  },
  {
   "cell_type": "code",
   "execution_count": null,
   "metadata": {},
   "outputs": [],
   "source": [
    "data_path=\"/home/freitas/TCC/ender-laser-scanner/pics/v1_raspi/\""
   ]
  },
  {
   "cell_type": "code",
   "execution_count": null,
   "metadata": {},
   "outputs": [],
   "source": [
    "import json\n",
    "\n",
    "# Calib params\n",
    "with open(\"/home/freitas/TCC/ender-laser-scanner/calib_data/calib.pkl\", \"rb\") as f:\n",
    "    calib = pickle.load(f)\n",
    "mtx = calib[\"mtx\"]\n",
    "dist_original = calib[\"dist\"]\n",
    "dist = None\n",
    "n = calib[\"n\"]\n",
    "\n",
    "board, aruco_dict = load_board(\"board.pkl\")\n",
    "\n",
    "print(board.getChessboardSize())\n",
    "print(board.getMarkerLength())\n",
    "print(board.getSquareLength())"
   ]
  },
  {
   "cell_type": "code",
   "execution_count": null,
   "metadata": {},
   "outputs": [],
   "source": [
    "def load(path):\n",
    "    info = {}\n",
    "    data = []\n",
    "    with open(join(path,\"points.json\")) as f:\n",
    "        info = json.loads(f.read())\n",
    "\n",
    "    for fig, point in info.items():\n",
    "        image =  cv2.cvtColor(cv2.imread(join(path, fig)), cv2.COLOR_BGR2RGB)\n",
    "        image = cv2.undistort(image, mtx, dist_original, None, mtx)\n",
    "        data.append( (point, image) )\n",
    "\n",
    "    return data\n",
    "\n",
    "\n",
    "arucoParams = aruco.DetectorParameters_create()\n",
    "def find_charuco_pose(image, mtx, dist):\n",
    "    gray = cv2.cvtColor(image, cv2.COLOR_RGB2GRAY)\n",
    "\n",
    "    corners, ids, rejected = aruco.detectMarkers( gray, aruco_dict, cameraMatrix=mtx, parameters=arucoParams, distCoeff=dist)\n",
    "    resp, charuco_corners, charuco_ids = aruco.interpolateCornersCharuco( markerCorners=corners, markerIds=ids, image=gray, board=board, cameraMatrix=mtx, distCoeffs=dist)\n",
    "\n",
    "    if(resp > 6):\n",
    "        retval, rvec, tvec\t=\tcv2.aruco.estimatePoseCharucoBoard(charuco_corners, charuco_ids, board, mtx, dist, None,None)\n",
    "    else:\n",
    "        return None, None\n",
    "    if not retval:\n",
    "        print(\"erro\")\n",
    "    return rvec, tvec"
   ]
  },
  {
   "cell_type": "code",
   "execution_count": null,
   "metadata": {},
   "outputs": [],
   "source": [
    "data = load(data_path+\"auto_exp\")\n",
    "coords = []\n",
    "\n",
    "for point, image in data:\n",
    "    rvec, tvec = find_charuco_pose(image)\n",
    "    if rvec is None or tvec is None:\n",
    "        print(\"DROP, \", end=\" \")\n",
    "    coords.append((rvec, tvec))\n",
    "\n",
    "data = load(data_path+\"low_exp\")\n",
    "\n",
    "data_bright = load(data_path+\"auto_exp\")\n",
    "\n",
    "new_coords = []\n",
    "new_data = []\n",
    "good_images = []\n",
    "for i, ( (point, image), (rvec, tvec) ) in enumerate(zip(data, coords)):\n",
    "    if rvec is None or tvec is None:\n",
    "        print(f\"dropped {i}\")\n",
    "        continue\n",
    "\n",
    "    good_images.append(data_bright[i])\n",
    "\n",
    "    new_data.append((point, image))\n",
    "    new_coords.append((rvec, tvec))\n",
    "\n",
    "data = new_data\n",
    "coords = new_coords"
   ]
  },
  {
   "cell_type": "code",
   "execution_count": null,
   "metadata": {},
   "outputs": [],
   "source": [
    "from matplotlib import animation\n",
    "\n",
    "# First set up the figure, the axis, and the plot element we want to animate\n",
    "fig = plt.figure()\n",
    "# animation function.  This is called sequentially\n",
    "imgplot = None\n",
    "pointsplot = None\n",
    "\n",
    "def init():\n",
    "    global imgplot, pointsplot\n",
    "    imgplot = plt.imshow(data[0][1], animated=True)\n",
    "    pointsplot, = plt.plot(range(data[0][1].shape[0]), \"r.\", animated=True)\n",
    "    return pointsplot, imgplot\n",
    "\n",
    "\n",
    "def laser_points_img_gen(i):\n",
    "    global imgplot, pointsplot\n",
    "    # Find board and laser\n",
    "    point, image =data[i]\n",
    "\n",
    "    blur = cv2.GaussianBlur(image, ksize=(5,5), sigmaX=1)\n",
    "\n",
    "    centroids = co.column_centroids(co.red_contrast(blur), mask=co.red_contrast(blur)>50)\n",
    "    # centroids = co.column_argmaxes(co.red_contrast(image), mask=co.red_contrast(image)>50)\n",
    "    p_centroids = np.stack(list((i, p, 1) for i,p in enumerate(centroids) if not np.isnan(p))).T\n",
    "\n",
    "    # Update anim\n",
    "    imgplot.set_data(data[i][1])\n",
    "    pointsplot.set_data(p_centroids[0], p_centroids[1])\n",
    "    return pointsplot, imgplot\n",
    "\n",
    "# call the animator.  blit=True means only re-draw the parts that have changed.\n",
    "anim = animation.FuncAnimation(fig, laser_points_img_gen, init_func=init,\n",
    "                               frames=len(data), interval=20, blit=True)"
   ]
  },
  {
   "cell_type": "code",
   "execution_count": null,
   "metadata": {},
   "outputs": [],
   "source": [
    "def ray_plane_intersect_vectorized(img_points, plane, cam_mtx):\n",
    "\t\"\"\"\n",
    "\tCalculate 3d-intersection between image rays defined by `img_ponts` and `cam_mtx`\n",
    "\tand a plane defined by the 4-vec `plane`\n",
    "\t@param img_points np.array with shape (3, N), N= number of points, homegeneous coords\n",
    "\t@param plane np.array with shape = (4,)\n",
    "\t@param cam_mtx np.array with shape = (3,3), intrinsic camera parameters\n",
    "\t@returns np.array with shape (4, N) with 3d points\n",
    "\t\"\"\"\n",
    "\tassert plane.shape == (4,)\n",
    "\tassert len(img_points.shape) == 2\n",
    "\tassert img_points.shape[0] == 3\n",
    "\n",
    "\trays = np.linalg.inv(cam_mtx)@img_points\n",
    "\tp = plane[-1]\n",
    "\tn = plane[:3]\n",
    "\tout = (-p/(n@rays)) * rays\n",
    "\tout = np.vstack((out, np.ones((1, out.shape[-1])))) # homogeneous coords\n",
    "\treturn out"
   ]
  },
  {
   "cell_type": "code",
   "execution_count": null,
   "metadata": {},
   "outputs": [],
   "source": [
    "def triangulate_pts(image):\n",
    "    blur = cv2.GaussianBlur(image, ksize=(5,5), sigmaX=1)\n",
    "    centroids = co.column_centroids(co.red_contrast(blur), mask=co.red_contrast(blur)>50)\n",
    "    p_centroids = np.stack(list((i, p, 1) for i,p in enumerate(centroids) if not np.isnan(p))).T\n",
    "\n",
    "    pts_3d = ray_plane_intersect_vectorized(p_centroids, n, mtx)\n",
    "    return pts_3d\n",
    "def chess_plane(rvec, tvec):\n",
    "\t# Find p\n",
    "\tn_chessboard = np.array([0, 0, 1])\n",
    "\tM,_ = cv2.Rodrigues(rvec)\n",
    "\tn3 = M@n_chessboard\n",
    "\tp = -1 * n3@tvec\n",
    "\tn = np.hstack((n3,p))\n",
    "\treturn n"
   ]
  },
  {
   "cell_type": "code",
   "execution_count": null,
   "metadata": {},
   "outputs": [],
   "source": [
    "W = np.eye(4)\n",
    "Xlist = []\n",
    "XcList=[]\n",
    "for (point, image), (rvec, tvec) in zip(data, coords):\n",
    "    # 3d pts in camera frame\n",
    "    pts_3d = triangulate_pts(image)\n",
    "    # Extrinsic params\n",
    "    rot, jac = cv2.Rodrigues(rvec)\n",
    "    W[:3, -1] = tvec.flatten()\n",
    "    W[:3,:3] = rot\n",
    "\n",
    "    # Concat points\n",
    "    XcList.append(pts_3d)\n",
    "    Xlist.append(np.linalg.inv(W)@pts_3d)\n",
    "X = np.hstack(Xlist)"
   ]
  },
  {
   "cell_type": "markdown",
   "metadata": {},
   "source": [
    "## Plot"
   ]
  },
  {
   "cell_type": "code",
   "execution_count": null,
   "metadata": {},
   "outputs": [],
   "source": [
    "import matplotlib.pyplot as plt\n",
    "from mpl_toolkits.mplot3d import Axes3D\n",
    "import importlib\n",
    "import common as co\n",
    "importlib.reload(co)"
   ]
  },
  {
   "cell_type": "markdown",
   "metadata": {},
   "source": [
    "### Gauss Laser"
   ]
  },
  {
   "cell_type": "code",
   "execution_count": null,
   "metadata": {},
   "outputs": [],
   "source": []
  },
  {
   "cell_type": "code",
   "execution_count": null,
   "metadata": {},
   "outputs": [],
   "source": [
    "fig, axs = plt.subplots(2,2, sharey=True, sharex=\"col\")\n",
    "i = 15\n",
    "img_1 = data[i][ 1 ]\n",
    "img_2 = data_bright[i][ 1 ]\n",
    "\n",
    "axs[0,0].imshow(img_1)\n",
    "axs[0,0].axvline(500)\n",
    "axs[0,0].set_title(r\"$\\tau = 10^*$\")\n",
    "axs[0,1].plot(np.mean(img_1, axis=-1)[:,500],range(720), label = \"Intensidade\")\n",
    "axs[0,1].plot(co.red_contrast(img_1)[:,500],range(720), label=\"Contraste Vermelho (Taubin, 2014)\")\n",
    "\n",
    "red = co.red_contrast(img_1)\n",
    "red[red<1] = 0\n",
    "centers = co.column_centroids(red)\n",
    "\n",
    "c = centers[500]\n",
    "# axs[0,0].plot(500, c, \"r.\")\n",
    "#axs[0,1].axhline(c,  color=\"r\",label=\"Centróide\")\n",
    "\n",
    "#axs[0,0].axvline(np.argmax(np.mean(img_1, axis=-1)[:,500]))\n",
    "#axs[0,1].set_xlabel(\"Valor do Pixel\")\n",
    "axs[0,1].set_ylabel(\"Linha\")\n",
    "axs[0,1].invert_yaxis()\n",
    "axs[0,1].legend().set_draggable(True)\n",
    "\n",
    "axs[1,0].set_title(r\"$\\tau = 500^*$\")\n",
    "\n",
    "axs[1,0].imshow(img_2)\n",
    "axs[1,0].axvline(500)\n",
    "axs[1,1].plot(np.mean(img_2, axis=-1)[:,500], range(720),label = \"Intensidade\")\n",
    "axs[1,1].plot(co.red_contrast(img_2)[:,500], range(720), label=\"Contraste Vermelho (Taubin, 2014)\")\n",
    "\n",
    "print(c)\n",
    "\n",
    "red = np.mean(img_2, axis=-1)\n",
    "red[red<150] = 0\n",
    "centers = co.column_centroids(red)\n",
    "c = centers[500]\n",
    "# axs[1,0].plot(500, c, \"r.\")\n",
    "#axs[1,1].axhline(c,  color=\"r\", label=\"Centróide\")\n",
    "\n",
    "print(c)\n",
    "\n",
    "axs[1,1].set_xlabel(\"Valor do Pixel\")\n",
    "axs[1,1].set_ylabel(\"Linha\")\n",
    "axs[1,1].invert_yaxis()\n",
    "axs[1,1].legend(loc=\"center right\").set_draggable(True)\n",
    "#axs[1].axvline(np.argmax(co.red_contrast(img_1)[:,500]))\n",
    "\n",
    "fig.suptitle(\"Comparação de Tempos de Exposição\")\n"
   ]
  },
  {
   "cell_type": "markdown",
   "metadata": {},
   "source": [
    "### Profiles"
   ]
  },
  {
   "cell_type": "code",
   "execution_count": null,
   "metadata": {},
   "outputs": [],
   "source": [
    "import matplotlib.ticker as plticker\n",
    "\n",
    "fig, ax = co.plot3d(proj_type=\"ortho\")\n",
    "for i, x in enumerate(XcList[3:-3*2:3]):\n",
    "    #x = x.copy()\n",
    "    x = x[:,x[2] < 110]\n",
    "    ax.scatter(x[0], i + x[1] + 24, x[2], label=f\"{i}\")\n",
    "\n",
    "#co.set_axes_equal(ax)\n",
    "ax.set_xlabel(\"$X_c ~[mm]$\")\n",
    "ax.set_ylabel(\"$i_p + Y_c ~[mm]$\")\n",
    "ax.set_zlabel(\"$Z_c ~[mm]$\")\n",
    "\n",
    "ax.invert_zaxis()\n",
    "\n",
    "#ax.set_ylim(-0.5, i)\n",
    "#ax.set_zlim(90, 100)\n",
    "#ax.set_xlim(-60, 0)\n",
    "\n",
    "#ax.xaxis.set_major_locator(plticker.MultipleLocator(base=1.0))\n",
    "ax.yaxis.set_major_locator(plticker.MultipleLocator(base=1.0))\n",
    "ax.zaxis.set_major_locator(plticker.MultipleLocator(base=1.0))\n",
    "\n",
    "ax.legend(loc=\"upper right\", ncol=2, title=\"Perfil ($i_p$)\").set_draggable(True)\n",
    "plt.title(\"Visualização 3D dos Perfis\")\n",
    "fig.tight_layout()"
   ]
  },
  {
   "cell_type": "code",
   "execution_count": null,
   "metadata": {},
   "outputs": [],
   "source": [
    "for i, x in enumerate(XcList[3:-3*2:3]):\n",
    "    x = x[:,x[2] < 110]\n",
    "    plt.plot(x[0], x[2], \"--.\", label=f\"{i}\")\n",
    "\n",
    "plt.gca().invert_yaxis()\n",
    "\n",
    "plt.xlabel(r\"$X_c~ [mm]$\")\n",
    "plt.ylabel(r\"$Z_c~ [mm]$\")\n",
    "ax.legend(loc=\"best\", ncol=2, title=\"Perfil ($i_p$)\")\n",
    "plt.grid()\n",
    "plt.title(\"Projeção dos Perfis em XZ\")\n",
    "plt.legend().set_draggable(True)\n",
    "plt.tight_layout()"
   ]
  },
  {
   "cell_type": "code",
   "execution_count": null,
   "metadata": {},
   "outputs": [],
   "source": [
    "chosen_pics = slice(3,-3*2,3)\n",
    "\n",
    "d = data[chosen_pics]\n",
    "d2 = good_images[chosen_pics]\n",
    "\n",
    "cols = 2\n",
    "fig, axs = plt.subplots(len(d)//cols,cols, sharex=True, sharey=True)\n",
    "\n",
    "colors = plt.rcParams['axes.prop_cycle'].by_key()['color']\n",
    "\n",
    "for i, ( ax, (point, image) ) in enumerate( zip(axs.T.flatten(), d) ):\n",
    "\n",
    "    # Axes\n",
    "    ax.imshow(d2[i][1])\n",
    "    ax.axis(\"off\")\n",
    "    ax.set_title(f\"Perfil {i}\", color=colors[i])\n",
    "\n",
    "    blur = cv2.GaussianBlur(image, ksize=(5,5), sigmaX=1)\n",
    "    centroids = co.column_centroids(co.red_contrast(blur), mask=co.red_contrast(blur)>50)\n",
    "    p_centroids = np.stack(list((i, p, 1) for i,p in enumerate(centroids) if not np.isnan(p))).T\n",
    "\n",
    "    ax.plot(p_centroids[0], p_centroids[1], \"g.\", markersize=1)"
   ]
  },
  {
   "cell_type": "code",
   "execution_count": null,
   "metadata": {},
   "outputs": [],
   "source": []
  },
  {
   "cell_type": "code",
   "execution_count": null,
   "metadata": {},
   "outputs": [],
   "source": [
    "fig, ax = co.plot3d()\n",
    "\n",
    "for x in Xlist:\n",
    "    ax.scatter(x[0], x[1], x[2])\n",
    "\n",
    "for (point, image), (rvec, tvec) in zip(data, coords):\n",
    "    # Axes\n",
    "    co.plot_axes(ax, np.linalg.inv(co.vec2M(rvec, tvec)))\n",
    "\n",
    "co.set_axes_equal(ax)"
   ]
  },
  {
   "cell_type": "markdown",
   "metadata": {},
   "source": [
    "### Axes"
   ]
  },
  {
   "cell_type": "code",
   "execution_count": null,
   "metadata": {},
   "outputs": [],
   "source": [
    "fig, ax = co.plot3d()\n",
    "\n",
    "for (point, image), (rvec, tvec) in zip(data, coords):\n",
    "    # Axes\n",
    "    co.plot_axes(ax, np.linalg.inv(co.vec2M(rvec, tvec)))\n",
    "\n",
    "# Board\n",
    "ax.scatter(board.chessboardCorners[:,0], board.chessboardCorners[:,1], board.chessboardCorners[:,2], color=\"k\", label=\"board\")\n",
    "co.set_axes_equal(ax)\n",
    "plt.legend()"
   ]
  },
  {
   "cell_type": "markdown",
   "metadata": {},
   "source": [
    "### Profiles"
   ]
  },
  {
   "cell_type": "code",
   "execution_count": null,
   "metadata": {},
   "outputs": [],
   "source": [
    "print(chess_plane(rvec, tvec))\n",
    "print(n)"
   ]
  },
  {
   "cell_type": "markdown",
   "metadata": {},
   "source": [
    "### Reconstruct"
   ]
  },
  {
   "cell_type": "code",
   "execution_count": null,
   "metadata": {},
   "outputs": [],
   "source": [
    "fig = plt.figure()\n",
    "ax = fig.add_subplot(111, projection='3d')\n",
    "region = X[2] > -9999\n",
    "ax.plot_trisurf(X[0][region],X[1][region], X[2][region], color=\"r\")"
   ]
  },
  {
   "cell_type": "markdown",
   "metadata": {},
   "source": [
    "### Side view"
   ]
  },
  {
   "cell_type": "code",
   "execution_count": null,
   "metadata": {},
   "outputs": [],
   "source": [
    "region = X[2] != 9999\n",
    "plt.scatter(X[1][region], X[2][region])"
   ]
  },
  {
   "cell_type": "markdown",
   "metadata": {},
   "source": [
    "# Reconstruct with `cam_to_printer`"
   ]
  },
  {
   "cell_type": "code",
   "execution_count": null,
   "metadata": {},
   "outputs": [],
   "source": [
    "R = np.load(\"cam_to_printer.npy\")\n",
    "print(R)\n",
    "p0 = np.array(data[0][0])\n",
    "print(p0)\n",
    "\n",
    "cam2printer = np.eye(4)\n",
    "cam2printer[:3,:3] = R[:3,:3]\n",
    "print(cam2printer)"
   ]
  },
  {
   "cell_type": "code",
   "execution_count": null,
   "metadata": {},
   "outputs": [],
   "source": [
    "cam2printer"
   ]
  },
  {
   "cell_type": "code",
   "execution_count": null,
   "metadata": {},
   "outputs": [],
   "source": [
    "W = np.eye(4)\n",
    "Xlist = []\n",
    "XcList=[]\n",
    "\n",
    "for (point, image), (rvec, tvec) in zip(data, coords):\n",
    "    # 3d pts in camera frame\n",
    "    pts_3d = triangulate_pts(image)\n",
    "\n",
    "    # Transformation from first point to this one (printer coords)\n",
    "    B = np.eye(4)\n",
    "    B[:3,3] = np.array(point) - p0\n",
    "\n",
    "    # Transformation from the first camera to this one\n",
    "    A = cam2printer@B@np.linalg.inv(cam2printer)\n",
    "\n",
    "    # Concat points\n",
    "    XcList.append(pts_3d)\n",
    "    Xlist.append(A@pts_3d)\n",
    "X = np.hstack(Xlist)"
   ]
  },
  {
   "cell_type": "code",
   "execution_count": null,
   "metadata": {},
   "outputs": [],
   "source": [
    "fig = plt.figure()\n",
    "ax = fig.add_subplot(111, projection='3d')\n",
    "#region = X[2] > -9999\n",
    "ax.plot_trisurf(X[0],X[1], X[2], color=\"r\")"
   ]
  },
  {
   "cell_type": "code",
   "execution_count": null,
   "metadata": {},
   "outputs": [],
   "source": [
    "import matplotlib.ticker as plticker\n",
    "\n",
    "fig, ax = co.plot3d(proj_type=\"ortho\")\n",
    "for i, x in enumerate(Xlist):\n",
    "    #x = np.linalg.inv(cam2printer)@x\n",
    "    ax.scatter(x[0], x[1], x[2], label=f\"{i}\")\n",
    "\n",
    "#ax.set_ylim(-0.5, i)\n",
    "#ax.set_zlim(90, 100)\n",
    "#ax.set_xlim(-60, 0)\n",
    "\n",
    "#ax.xaxis.set_major_locator(plticker.MultipleLocator(base=1.0))\n",
    "#ax.yaxis.set_major_locator(plticker.MultipleLocator(base=1.0))\n",
    "#ax.zaxis.set_major_locator(plticker.MultipleLocator(base=1.0))\n",
    "\n",
    "fig.tight_layout()"
   ]
  },
  {
   "cell_type": "code",
   "execution_count": null,
   "metadata": {},
   "outputs": [],
   "source": []
  }
 ],
 "metadata": {
  "interpreter": {
   "hash": "703c8d1975e0ca36ce201e787f076003fab5e4e5ea7a33d5a755a2359f5bcf9b"
  },
  "kernelspec": {
   "display_name": "Python 3.9.5 64-bit ('tccenv': venv)",
   "name": "python3"
  },
  "language_info": {
   "codemirror_mode": {
    "name": "ipython",
    "version": 3
   },
   "file_extension": ".py",
   "mimetype": "text/x-python",
   "name": "python",
   "nbconvert_exporter": "python",
   "pygments_lexer": "ipython3",
   "version": "3.9.5"
  },
  "orig_nbformat": 4
 },
 "nbformat": 4,
 "nbformat_minor": 2
}
