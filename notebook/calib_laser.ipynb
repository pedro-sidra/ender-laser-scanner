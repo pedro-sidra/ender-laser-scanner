{
 "cells": [
  {
   "cell_type": "markdown",
   "source": [
    "## Setup"
   ],
   "metadata": {}
  },
  {
   "cell_type": "code",
   "execution_count": 2,
   "source": [
    "import matplotlib.pyplot as plt\n",
    "import matplotlib\n",
    "%matplotlib qt\n",
    "# matplotlib.backend\n",
    "# matplotlib.validate_backend(\"GTK3Ag\")"
   ],
   "outputs": [],
   "metadata": {}
  },
  {
   "cell_type": "code",
   "execution_count": 3,
   "source": [
    "import numpy as np\n",
    "from tqdm.auto import tqdm as progressbar\n",
    "import matplotlib.pyplot as plt\n",
    "import pickle\n",
    "import matplotlib.animation as animation\n",
    "import cv2\n",
    "import cv2.aruco as aruco\n",
    "import common as c\n",
    "from os.path import join\n",
    "from calib import calibrate_charuco_local, load_board, load_coefficients, save_coefficients"
   ],
   "outputs": [],
   "metadata": {}
  },
  {
   "cell_type": "code",
   "execution_count": 4,
   "source": [
    "data_path=\"/home/freitas/TCC/ender-laser-scanner/pics/v1_raspi/\"\n",
    "mtx, dist = load_coefficients(\"/home/freitas/TCC/ender-laser-scanner/calib_data/calibration_charuco.yml\")"
   ],
   "outputs": [],
   "metadata": {}
  },
  {
   "cell_type": "code",
   "execution_count": 5,
   "source": [
    "import json\n",
    "\n",
    "board, aruco_dict = load_board(\"board.pkl\")\n",
    "\n",
    "print(board.getChessboardSize())\n",
    "print(board.getMarkerLength())\n",
    "print(board.getSquareLength())"
   ],
   "outputs": [
    {
     "output_type": "stream",
     "name": "stdout",
     "text": [
      "(16, 16)\n",
      "9.375\n",
      "12.5\n"
     ]
    }
   ],
   "metadata": {}
  },
  {
   "cell_type": "code",
   "execution_count": 6,
   "source": [
    "def load(path):\n",
    "    info = {}\n",
    "    data = []\n",
    "    with open(join(path,\"points.json\")) as f:\n",
    "        info = json.loads(f.read())\n",
    "\n",
    "    for fig, point in info.items():\n",
    "        image =  cv2.cvtColor(cv2.imread(join(path, fig)), cv2.COLOR_BGR2RGB)\n",
    "        image = cv2.undistort(image, mtx, dist, None, mtx)\n",
    "        data.append( (point, image) )\n",
    "\n",
    "    return data\n",
    "\n",
    "\n",
    "arucoParams = aruco.DetectorParameters_create()\n",
    "\n",
    "def find_charuco_pose(image, mtx, dist):\n",
    "    gray = cv2.cvtColor(image, cv2.COLOR_RGB2GRAY)\n",
    "\n",
    "    corners, ids, rejected = aruco.detectMarkers( gray, aruco_dict, cameraMatrix=mtx, parameters=arucoParams, distCoeff=dist)\n",
    "    resp, charuco_corners, charuco_ids = aruco.interpolateCornersCharuco( markerCorners=corners, markerIds=ids, image=gray, board=board, cameraMatrix=mtx, distCoeffs=dist)\n",
    "\n",
    "    if(resp > 6):\n",
    "        retval, rvec, tvec\t=\tcv2.aruco.estimatePoseCharucoBoard(charuco_corners, charuco_ids, board, mtx, dist, None,None)\n",
    "    else:\n",
    "        return None, None\n",
    "    if not retval:\n",
    "        print(\"erro\")\n",
    "    return rvec, tvec"
   ],
   "outputs": [],
   "metadata": {}
  },
  {
   "cell_type": "code",
   "execution_count": 7,
   "source": [
    "data = load(data_path+\"auto_exp\")\n",
    "coords = []\n",
    "\n",
    "for point, image in data:\n",
    "    rvec, tvec = find_charuco_pose(image, mtx, None)\n",
    "    if rvec is None or tvec is None:\n",
    "        print(\"OOPS\")\n",
    "    coords.append((rvec, tvec))\n",
    "\n",
    "data = load(data_path+\"low_exp\")\n",
    "\n",
    "new_coords = []\n",
    "new_data = []\n",
    "for (point, image), (rvec, tvec) in zip(data, coords):\n",
    "    if rvec is None or tvec is None:\n",
    "        print(\"OOPS\")\n",
    "        continue\n",
    "    new_data.append((point,image))\n",
    "    new_coords.append((rvec, tvec))\n",
    "\n",
    "data = new_data\n",
    "coords = new_coords"
   ],
   "outputs": [],
   "metadata": {}
  },
  {
   "cell_type": "code",
   "execution_count": 25,
   "source": [
    "import common as c\n",
    "c.animate((g[1] for g in data))"
   ],
   "outputs": [
    {
     "output_type": "execute_result",
     "data": {
      "text/plain": [
       "<matplotlib.animation.ArtistAnimation at 0x7f3e93d9da30>"
      ]
     },
     "metadata": {},
     "execution_count": 25
    }
   ],
   "metadata": {}
  },
  {
   "cell_type": "markdown",
   "source": [
    "## Funcs"
   ],
   "metadata": {}
  },
  {
   "cell_type": "code",
   "execution_count": 8,
   "source": [
    "def find_charuco_corners(image, mtx, dist):\n",
    "    gray = cv2.cvtColor(image, cv2.COLOR_RGB2GRAY)\n",
    "\n",
    "    corners, ids, rejected = aruco.detectMarkers( gray, aruco_dict, cameraMatrix=mtx, distCoeff=dist, parameters=arucoParams)\n",
    "    resp, charuco_corners, charuco_ids = aruco.interpolateCornersCharuco( markerCorners=corners, markerIds=ids, image=gray, board=board, cameraMatrix=mtx, distCoeffs=dist)\n",
    "    return charuco_corners\n",
    "\n",
    "\n",
    "def mask_rgb(img, mask):\n",
    "\tret = np.zeros_like(img)\n",
    "\tfor i in range(ret.shape[-1]):\n",
    "\t\tret[:,:,i] = img[:,:,i] * mask\n",
    "\treturn ret\n",
    "\n",
    "def get_charuco_rect(board):\n",
    "\tdelim = np.max(board.chessboardCorners, axis=0)\n",
    "\tb =board.getSquareLength() \n",
    "\tcorner_points = [\n",
    "\t\t[b, b, 0],\n",
    "\t\t[delim[0], b, 0],\n",
    "\t\tdelim,\n",
    "\t\t[b, delim[1], 0],\n",
    "\t]\n",
    "\treturn np.array(corner_points)\n",
    "\n",
    "def get_charuco_mask(image, board, rvec, tvec, mtx, dist):\n",
    "\tif image.ndim==2:\n",
    "\t\tmask = np.zeros_like(image)\n",
    "\telif image.ndim==3:\n",
    "\t\tmask = np.zeros(image.shape[:2])\n",
    "\n",
    "\trect = get_charuco_rect(board)\n",
    "\tpoints, _ = cv2.projectPoints(rect, rvec, tvec, mtx, dist)\n",
    "\tproj_points_round = np.round(points, 0).astype(np.int32)\n",
    "\tcv2.fillPoly(mask, [proj_points_round], True, 255 )\n",
    "\treturn mask\n",
    "\n",
    "def crop_charuco_board(image, board, rvec, tvec, mtx, dist):\n",
    "\tmask = get_charuco_mask(image, board, rvec, tvec, mtx, dist)\n",
    "\tif image.ndim == 3:\n",
    "\t\treturn mask_rgb(image, mask)\n",
    "\telif image.ndim==2:\n",
    "\t\treturn mask*image\n",
    "\n",
    "def chess_plane(rvec, tvec):\n",
    "\t# Find p\n",
    "\tn_chessboard = np.array([0, 0, 1])\n",
    "\tM,_ = cv2.Rodrigues(rvec)\n",
    "\tn3 = M@n_chessboard\n",
    "\tp = -1 * n3@tvec\n",
    "\tn = np.hstack((n3,p))\n",
    "\treturn n"
   ],
   "outputs": [],
   "metadata": {}
  },
  {
   "cell_type": "markdown",
   "source": [
    "# Laser"
   ],
   "metadata": {}
  },
  {
   "cell_type": "markdown",
   "source": [
    "## Inspecionar Laser"
   ],
   "metadata": {}
  },
  {
   "cell_type": "code",
   "execution_count": 9,
   "source": [
    "def find_board_and_laser(image, rvec, tvec, mtx, dist):\n",
    "    \"\"\"Crop out the image to contain only charuco board, and find the laser points in this image\n",
    "    @param image original image\n",
    "    @param rvec rotation vec of the board\n",
    "    @param tvec translation vec of the board\n",
    "    @returns: (masked, centroids), tuple containing the masked image with only the board, and vector of laser points \"\"\"\n",
    "    masked = crop_charuco_board(image, board, rvec, tvec, mtx, dist)\n",
    "    centroids = c.column_centroids(c.red_contrast(masked), mask=c.red_contrast(masked)>50)\n",
    "    try:\n",
    "        p_centroids = np.stack(list((i, p, 1) for i,p in enumerate(centroids) if not np.isnan(p))).T\n",
    "    except ValueError:\n",
    "        p_centroids = np.array([[],[]])\n",
    "    return masked, p_centroids"
   ],
   "outputs": [],
   "metadata": {}
  },
  {
   "cell_type": "markdown",
   "source": [
    "### Plot de todas as linhas"
   ],
   "metadata": {}
  },
  {
   "cell_type": "code",
   "execution_count": 28,
   "source": [
    "n=0\n",
    "for (point, image), (rvec, tvec) in zip(data, coords):\n",
    "    masked, p_centroids = find_board_and_laser(image, rvec, tvec, mtx, None)\n",
    "    p_centroids = p_centroids[:,50:-50]\n",
    "    plt.plot(p_centroids[0], p_centroids[1], label=n)\n",
    "    n+=1\n",
    "plt.legend() "
   ],
   "outputs": [
    {
     "output_type": "execute_result",
     "data": {
      "text/plain": [
       "<matplotlib.legend.Legend at 0x7f3e502db9a0>"
      ]
     },
     "metadata": {},
     "execution_count": 28
    }
   ],
   "metadata": {}
  },
  {
   "cell_type": "markdown",
   "source": [
    "### Inspecionar linha específica"
   ],
   "metadata": {}
  },
  {
   "cell_type": "markdown",
   "source": [
    "### Animar Laser"
   ],
   "metadata": {}
  },
  {
   "cell_type": "code",
   "execution_count": 30,
   "source": [
    "from matplotlib import animation\n",
    "\n",
    "# First set up the figure, the axis, and the plot element we want to animate\n",
    "fig = plt.figure()\n",
    "# animation function.  This is called sequentially\n",
    "imgplot = None\n",
    "pointsplot = None\n",
    "\n",
    "def init():\n",
    "    global imgplot, pointsplot\n",
    "    imgplot = plt.imshow(data[0][1], animated=True)\n",
    "    pointsplot, = plt.plot(range(data[0][1].shape[0]), \"r\", animated=True)\n",
    "    return pointsplot, imgplot\n",
    "\n",
    "def laser_points_img_gen(i):\n",
    "    global imgplot, pointsplot\n",
    "    # Find board and laser\n",
    "    point, image = data[i]\n",
    "    masked, centroids = find_board_and_laser(image, *coords[i], mtx, None)\n",
    "    print(masked.shape)\n",
    "\n",
    "    # Update anim\n",
    "    imgplot.set_data(masked)\n",
    "    centroids = centroids[:,50:-50]\n",
    "    pointsplot.set_data(centroids[0], centroids[1])\n",
    "    return pointsplot, imgplot\n",
    "\n",
    "# call the animator.  blit=True means only re-draw the parts that have changed.\n",
    "anim = animation.FuncAnimation(fig, laser_points_img_gen, init_func=init,\n",
    "                               frames=len(data), interval=500, blit=True)"
   ],
   "outputs": [
    {
     "output_type": "stream",
     "name": "stdout",
     "text": [
      "(2464, 3280, 3)\n",
      "(2464, 3280, 3)\n",
      "(2464, 3280, 3)\n",
      "(2464, 3280, 3)\n",
      "(2464, 3280, 3)\n",
      "(2464, 3280, 3)\n",
      "(2464, 3280, 3)\n",
      "(2464, 3280, 3)\n",
      "(2464, 3280, 3)\n",
      "(2464, 3280, 3)\n",
      "(2464, 3280, 3)\n",
      "(2464, 3280, 3)\n",
      "(2464, 3280, 3)\n",
      "(2464, 3280, 3)\n",
      "(2464, 3280, 3)\n",
      "(2464, 3280, 3)\n",
      "(2464, 3280, 3)\n",
      "(2464, 3280, 3)\n",
      "(2464, 3280, 3)\n",
      "(2464, 3280, 3)\n",
      "(2464, 3280, 3)\n",
      "(2464, 3280, 3)\n",
      "(2464, 3280, 3)\n",
      "(2464, 3280, 3)\n",
      "(2464, 3280, 3)\n",
      "(2464, 3280, 3)\n",
      "(2464, 3280, 3)\n",
      "(2464, 3280, 3)\n",
      "(2464, 3280, 3)\n",
      "(2464, 3280, 3)\n",
      "(2464, 3280, 3)\n",
      "(2464, 3280, 3)\n",
      "(2464, 3280, 3)\n",
      "(2464, 3280, 3)\n",
      "(2464, 3280, 3)\n",
      "(2464, 3280, 3)\n",
      "(2464, 3280, 3)\n",
      "(2464, 3280, 3)\n",
      "(2464, 3280, 3)\n",
      "(2464, 3280, 3)\n",
      "(2464, 3280, 3)\n",
      "(2464, 3280, 3)\n",
      "(2464, 3280, 3)\n",
      "(2464, 3280, 3)\n",
      "(2464, 3280, 3)\n",
      "(2464, 3280, 3)\n",
      "(2464, 3280, 3)\n",
      "(2464, 3280, 3)\n",
      "(2464, 3280, 3)\n",
      "(2464, 3280, 3)\n",
      "(2464, 3280, 3)\n",
      "(2464, 3280, 3)\n",
      "(2464, 3280, 3)\n",
      "(2464, 3280, 3)\n",
      "(2464, 3280, 3)\n",
      "(2464, 3280, 3)\n",
      "(2464, 3280, 3)\n",
      "(2464, 3280, 3)\n",
      "(2464, 3280, 3)\n",
      "(2464, 3280, 3)\n",
      "(2464, 3280, 3)\n",
      "(2464, 3280, 3)\n",
      "(2464, 3280, 3)\n",
      "(2464, 3280, 3)\n",
      "(2464, 3280, 3)\n"
     ]
    }
   ],
   "metadata": {}
  },
  {
   "cell_type": "markdown",
   "source": [
    "## Animar pontos"
   ],
   "metadata": {}
  },
  {
   "cell_type": "code",
   "execution_count": 34,
   "source": [
    "# First set up the figure, the axis, and the plot element we want to animate\n",
    "fig = plt.figure()\n",
    "# animation function.  This is called sequentially\n",
    "imgplot = None\n",
    "pointsplot = None\n",
    "chessplot = None\n",
    "chessplot_reproj = None\n",
    "\n",
    "\n",
    "def init():\n",
    "    global imgplot, pointsplot, chessplot, chessplot_reproj\n",
    "    imgplot = plt.imshow(data[0][1], animated=True)\n",
    "    pointsplot, = plt.plot(range(data[0][1].shape[0]), \"r\", animated=True)\n",
    "    chessplot, = plt.plot(range(data[0][1].shape[0]), \"b.\", animated=True)\n",
    "    chessplot_reproj, = plt.plot(range(data[0][1].shape[0]), \"g.\", animated=True)\n",
    "    return pointsplot, imgplot, chessplot, chessplot_reproj\n",
    "\n",
    "def laser_points_img_gen(i):\n",
    "    global imgplot, pointsplot, chessplot, chessplot_reproj\n",
    "    # Find board and laser\n",
    "    point, image  = data[i]\n",
    "    masked, centroids = find_board_and_laser(image, *coords[i], mtx, None)\n",
    "    charuco_corners = find_charuco_corners(image, mtx, None)\n",
    "    rvec, tvec = find_charuco_pose(image, mtx, None)\n",
    "    proj_points, jacobian = cv2.projectPoints(board.chessboardCorners, rvec, tvec, mtx, None)\n",
    "\n",
    "    # Update anim\n",
    "    imgplot.set_data(image)\n",
    "    pointsplot.set_data(centroids[0], centroids[1])\n",
    "    chessplot.set_data(charuco_corners[..., 0], charuco_corners[..., 1])\n",
    "    chessplot_reproj.set_data(proj_points[..., 0], proj_points[..., 1])\n",
    "    return pointsplot, imgplot, chessplot, chessplot_reproj\n",
    "\n",
    "# call the animator.  blit=True means only re-draw the parts that have changed.\n",
    "anim = animation.FuncAnimation(fig, laser_points_img_gen, init_func=init,\n",
    "                               frames=200, interval=500, blit=True)"
   ],
   "outputs": [
    {
     "output_type": "stream",
     "name": "stderr",
     "text": [
      "Traceback (most recent call last):\n",
      "  File \"/home/freitas/TCC/ender-laser-scanner/tccenv/lib/python3.9/site-packages/matplotlib/backend_bases.py\", line 1216, in _on_timer\n",
      "    ret = func(*args, **kwargs)\n",
      "  File \"/home/freitas/TCC/ender-laser-scanner/tccenv/lib/python3.9/site-packages/matplotlib/animation.py\", line 1477, in _step\n",
      "    still_going = super()._step(*args)\n",
      "  File \"/home/freitas/TCC/ender-laser-scanner/tccenv/lib/python3.9/site-packages/matplotlib/animation.py\", line 1189, in _step\n",
      "    self._draw_next_frame(framedata, self._blit)\n",
      "  File \"/home/freitas/TCC/ender-laser-scanner/tccenv/lib/python3.9/site-packages/matplotlib/animation.py\", line 1208, in _draw_next_frame\n",
      "    self._draw_frame(framedata)\n",
      "  File \"/home/freitas/TCC/ender-laser-scanner/tccenv/lib/python3.9/site-packages/matplotlib/animation.py\", line 1776, in _draw_frame\n",
      "    self._drawn_artists = self._func(framedata, *self._args)\n",
      "  File \"/tmp/ipykernel_8887/154839419.py\", line 23, in laser_points_img_gen\n",
      "    charuco_corners = find_charuco_corners(image, mtx, None)\n",
      "  File \"/tmp/ipykernel_8887/37138897.py\", line 5, in find_charuco_corners\n",
      "    resp, charuco_corners, charuco_ids = aruco.interpolateCornersCharuco( markerCorners=corners, markerIds=ids, image=gray, board=board, cameraMatrix=mtx, distCoeffs=dist)\n",
      "cv2.error: OpenCV(4.5.3) /tmp/pip-req-build-agffqapq/opencv_contrib/modules/aruco/src/charuco.cpp:404: error: (-215:Assertion failed) _markerCorners.total() == _markerIds.getMat().total() && _markerIds.getMat().total() > 0 in function '_interpolateCornersCharucoApproxCalib'\n",
      "\n",
      "Traceback (most recent call last):\n",
      "  File \"/home/freitas/TCC/ender-laser-scanner/tccenv/lib/python3.9/site-packages/matplotlib/backend_bases.py\", line 1216, in _on_timer\n",
      "    ret = func(*args, **kwargs)\n",
      "  File \"/home/freitas/TCC/ender-laser-scanner/tccenv/lib/python3.9/site-packages/matplotlib/animation.py\", line 1477, in _step\n",
      "    still_going = super()._step(*args)\n",
      "  File \"/home/freitas/TCC/ender-laser-scanner/tccenv/lib/python3.9/site-packages/matplotlib/animation.py\", line 1189, in _step\n",
      "    self._draw_next_frame(framedata, self._blit)\n",
      "  File \"/home/freitas/TCC/ender-laser-scanner/tccenv/lib/python3.9/site-packages/matplotlib/animation.py\", line 1208, in _draw_next_frame\n",
      "    self._draw_frame(framedata)\n",
      "  File \"/home/freitas/TCC/ender-laser-scanner/tccenv/lib/python3.9/site-packages/matplotlib/animation.py\", line 1776, in _draw_frame\n",
      "    self._drawn_artists = self._func(framedata, *self._args)\n",
      "  File \"/tmp/ipykernel_8887/154839419.py\", line 23, in laser_points_img_gen\n",
      "    charuco_corners = find_charuco_corners(image, mtx, None)\n",
      "  File \"/tmp/ipykernel_8887/37138897.py\", line 5, in find_charuco_corners\n",
      "    resp, charuco_corners, charuco_ids = aruco.interpolateCornersCharuco( markerCorners=corners, markerIds=ids, image=gray, board=board, cameraMatrix=mtx, distCoeffs=dist)\n",
      "cv2.error: OpenCV(4.5.3) /tmp/pip-req-build-agffqapq/opencv_contrib/modules/aruco/src/charuco.cpp:404: error: (-215:Assertion failed) _markerCorners.total() == _markerIds.getMat().total() && _markerIds.getMat().total() > 0 in function '_interpolateCornersCharucoApproxCalib'\n",
      "\n",
      "Traceback (most recent call last):\n",
      "  File \"/home/freitas/TCC/ender-laser-scanner/tccenv/lib/python3.9/site-packages/matplotlib/backend_bases.py\", line 1216, in _on_timer\n",
      "    ret = func(*args, **kwargs)\n",
      "  File \"/home/freitas/TCC/ender-laser-scanner/tccenv/lib/python3.9/site-packages/matplotlib/animation.py\", line 1477, in _step\n",
      "    still_going = super()._step(*args)\n",
      "  File \"/home/freitas/TCC/ender-laser-scanner/tccenv/lib/python3.9/site-packages/matplotlib/animation.py\", line 1189, in _step\n",
      "    self._draw_next_frame(framedata, self._blit)\n",
      "  File \"/home/freitas/TCC/ender-laser-scanner/tccenv/lib/python3.9/site-packages/matplotlib/animation.py\", line 1208, in _draw_next_frame\n",
      "    self._draw_frame(framedata)\n",
      "  File \"/home/freitas/TCC/ender-laser-scanner/tccenv/lib/python3.9/site-packages/matplotlib/animation.py\", line 1776, in _draw_frame\n",
      "    self._drawn_artists = self._func(framedata, *self._args)\n",
      "  File \"/tmp/ipykernel_8887/154839419.py\", line 23, in laser_points_img_gen\n",
      "    charuco_corners = find_charuco_corners(image, mtx, None)\n",
      "  File \"/tmp/ipykernel_8887/37138897.py\", line 5, in find_charuco_corners\n",
      "    resp, charuco_corners, charuco_ids = aruco.interpolateCornersCharuco( markerCorners=corners, markerIds=ids, image=gray, board=board, cameraMatrix=mtx, distCoeffs=dist)\n",
      "cv2.error: OpenCV(4.5.3) /tmp/pip-req-build-agffqapq/opencv_contrib/modules/aruco/src/charuco.cpp:404: error: (-215:Assertion failed) _markerCorners.total() == _markerIds.getMat().total() && _markerIds.getMat().total() > 0 in function '_interpolateCornersCharucoApproxCalib'\n",
      "\n"
     ]
    }
   ],
   "metadata": {}
  },
  {
   "cell_type": "code",
   "execution_count": 15,
   "source": [
    "i = 19\n",
    "(point, image), rvec, tvec = images[i], rvecs[i], tvecs[i]\n",
    "masked, p_centroids = find_board_and_laser(image, rvec, tvec)\n",
    "charuco_corners=find_charuco_corners(image)\n",
    "\n",
    "proj_points, jacobian = cv2.projectPoints(board.chessboardCorners, rvec, tvec, mtx, dist)\n",
    "\n",
    "plt.imshow(masked)\n",
    "plt.plot(p_centroids[0],p_centroids[1])\n",
    "plt.plot(charuco_corners[..., 0],charuco_corners[..., 1], \"b.\")\n",
    "plt.plot(proj_points[..., 0],proj_points[..., 1], \"g.\")"
   ],
   "outputs": [
    {
     "output_type": "error",
     "ename": "NameError",
     "evalue": "name 'images' is not defined",
     "traceback": [
      "\u001b[0;31m---------------------------------------------------------------------------\u001b[0m",
      "\u001b[0;31mNameError\u001b[0m                                 Traceback (most recent call last)",
      "\u001b[0;32m/tmp/ipykernel_109994/2187319477.py\u001b[0m in \u001b[0;36m<module>\u001b[0;34m\u001b[0m\n\u001b[1;32m      1\u001b[0m \u001b[0mi\u001b[0m \u001b[0;34m=\u001b[0m \u001b[0;36m19\u001b[0m\u001b[0;34m\u001b[0m\u001b[0;34m\u001b[0m\u001b[0m\n\u001b[0;32m----> 2\u001b[0;31m \u001b[0;34m(\u001b[0m\u001b[0mpoint\u001b[0m\u001b[0;34m,\u001b[0m \u001b[0mimage\u001b[0m\u001b[0;34m)\u001b[0m\u001b[0;34m,\u001b[0m \u001b[0mrvec\u001b[0m\u001b[0;34m,\u001b[0m \u001b[0mtvec\u001b[0m \u001b[0;34m=\u001b[0m \u001b[0mimages\u001b[0m\u001b[0;34m[\u001b[0m\u001b[0mi\u001b[0m\u001b[0;34m]\u001b[0m\u001b[0;34m,\u001b[0m \u001b[0mrvecs\u001b[0m\u001b[0;34m[\u001b[0m\u001b[0mi\u001b[0m\u001b[0;34m]\u001b[0m\u001b[0;34m,\u001b[0m \u001b[0mtvecs\u001b[0m\u001b[0;34m[\u001b[0m\u001b[0mi\u001b[0m\u001b[0;34m]\u001b[0m\u001b[0;34m\u001b[0m\u001b[0;34m\u001b[0m\u001b[0m\n\u001b[0m\u001b[1;32m      3\u001b[0m \u001b[0mmasked\u001b[0m\u001b[0;34m,\u001b[0m \u001b[0mp_centroids\u001b[0m \u001b[0;34m=\u001b[0m \u001b[0mfind_board_and_laser\u001b[0m\u001b[0;34m(\u001b[0m\u001b[0mimage\u001b[0m\u001b[0;34m,\u001b[0m \u001b[0mrvec\u001b[0m\u001b[0;34m,\u001b[0m \u001b[0mtvec\u001b[0m\u001b[0;34m)\u001b[0m\u001b[0;34m\u001b[0m\u001b[0;34m\u001b[0m\u001b[0m\n\u001b[1;32m      4\u001b[0m \u001b[0mcharuco_corners\u001b[0m\u001b[0;34m=\u001b[0m\u001b[0mfind_charuco_corners\u001b[0m\u001b[0;34m(\u001b[0m\u001b[0mimage\u001b[0m\u001b[0;34m)\u001b[0m\u001b[0;34m\u001b[0m\u001b[0;34m\u001b[0m\u001b[0m\n\u001b[1;32m      5\u001b[0m \u001b[0;34m\u001b[0m\u001b[0m\n",
      "\u001b[0;31mNameError\u001b[0m: name 'images' is not defined"
     ]
    }
   ],
   "metadata": {}
  },
  {
   "cell_type": "markdown",
   "source": [
    "## Plotar Eixos coords"
   ],
   "metadata": {}
  },
  {
   "cell_type": "code",
   "execution_count": 10,
   "source": [
    "import matplotlib.pyplot as plt\n",
    "import importlib\n",
    "import common as co\n",
    "importlib.reload(co)\n",
    "from mpl_toolkits.mplot3d import Axes3D\n",
    "import pandas as pd\n",
    "\n",
    "fig, ax = co.plot3d()\n",
    "\n",
    "zs = []\n",
    "t0 = None\n",
    "points = pd.DataFrame(columns=[\"c1\",\"c2\",\"c3\",\"space\",\"p1\",\"p2\",\"p3\"])\n",
    "for (point, image), (rvec, tvec) in zip(data, coords):\n",
    "\n",
    "    inv = np.linalg.inv(co.vec2M(rvec, tvec))\n",
    "    co.plot_axes(ax, inv)\n",
    "\n",
    "    tvec = inv[:3,3]\n",
    "    if t0 is None:\n",
    "        t0 = tvec\n",
    "    cam = (tvec.T - t0.T).flatten()\n",
    "    p = point\n",
    "    row = dict(c1=cam[0],c2=cam[1],c3=cam[2], p1=p[0],p2=p[1],p3=p[2])\n",
    "    points = points.append(row, ignore_index=True)\n",
    "\n",
    "    zs.append(tvec[-1])\n",
    "\n",
    "# Chessboard\n",
    "ax.scatter(board.chessboardCorners[:,0], board.chessboardCorners[:,1], board.chessboardCorners[:,2], color=\"k\", label=\"board\")\n",
    "co.set_axes_equal(ax)\n",
    "plt.legend()"
   ],
   "outputs": [
    {
     "output_type": "execute_result",
     "data": {
      "text/plain": [
       "<matplotlib.legend.Legend at 0x7f8a799f3bb0>"
      ]
     },
     "metadata": {},
     "execution_count": 10
    }
   ],
   "metadata": {}
  },
  {
   "cell_type": "code",
   "execution_count": 36,
   "source": [
    "inv"
   ],
   "outputs": [
    {
     "output_type": "execute_result",
     "data": {
      "text/plain": [
       "array([[ 9.98715816e+00, -2.52820754e-02,  5.05996794e-01,\n",
       "         7.44844357e+01],\n",
       "       [-2.78614496e-01, -8.61572401e+00,  5.06869546e+00,\n",
       "         2.35200322e+01],\n",
       "       [ 4.23138159e-01, -5.07628413e+00, -8.60536423e+00,\n",
       "         1.54264969e+02],\n",
       "       [ 0.00000000e+00,  0.00000000e+00,  0.00000000e+00,\n",
       "         1.00000000e+00]])"
      ]
     },
     "metadata": {},
     "execution_count": 36
    }
   ],
   "metadata": {}
  },
  {
   "cell_type": "code",
   "execution_count": 37,
   "source": [
    "points[\"p1\"] -= 70.0\n",
    "points[\"p2\"] -= 50.0\n",
    "points[\"p3\"] -= 100.0"
   ],
   "outputs": [],
   "metadata": {}
  },
  {
   "cell_type": "code",
   "execution_count": 38,
   "source": [
    "points[\"space\"] = \"\"\n",
    "points.round(1).head(n=20)"
   ],
   "outputs": [
    {
     "output_type": "execute_result",
     "data": {
      "text/plain": [
       "       c1    c2    c3 space     p1    p2    p3\n",
       "0     0.0   0.0   0.0          0.0   0.0   0.0\n",
       "1    53.8   0.2  -1.0         55.0   0.0   0.0\n",
       "2   107.5   0.7  -0.5        110.0   0.0   0.0\n",
       "3   107.6  45.7  -0.4        110.0  45.0   0.0\n",
       "4    54.0  45.3  -0.8         55.0  45.0   0.0\n",
       "5     0.1  45.1   0.2          0.0  45.0   0.0\n",
       "6     0.4  90.2   0.5          0.0  90.0   0.0\n",
       "7    54.2  90.3  -0.7         55.0  90.0   0.0\n",
       "8   107.8  90.5  -0.5        110.0  90.0   0.0\n",
       "9     0.5   0.2  19.9          0.0   0.0  20.0\n",
       "10   53.8   0.3  18.7         55.0   0.0  20.0\n",
       "11  107.2   0.9  19.3        110.0   0.0  20.0\n",
       "12  107.5  45.5  19.1        110.0  45.0  20.0\n",
       "13   54.2  45.2  18.9         55.0  45.0  20.0\n",
       "14    0.7  45.2  20.1          0.0  45.0  20.0\n",
       "15    0.5  90.1  20.3          0.0  90.0  20.0\n",
       "16   54.2  90.0  19.0         55.0  90.0  20.0\n",
       "17  107.6  90.3  19.0        110.0  90.0  20.0\n",
       "18    1.0   0.1  39.8          0.0   0.0  40.0\n",
       "19   54.0   0.1  38.5         55.0   0.0  40.0"
      ],
      "text/html": [
       "<div>\n",
       "<style scoped>\n",
       "    .dataframe tbody tr th:only-of-type {\n",
       "        vertical-align: middle;\n",
       "    }\n",
       "\n",
       "    .dataframe tbody tr th {\n",
       "        vertical-align: top;\n",
       "    }\n",
       "\n",
       "    .dataframe thead th {\n",
       "        text-align: right;\n",
       "    }\n",
       "</style>\n",
       "<table border=\"1\" class=\"dataframe\">\n",
       "  <thead>\n",
       "    <tr style=\"text-align: right;\">\n",
       "      <th></th>\n",
       "      <th>c1</th>\n",
       "      <th>c2</th>\n",
       "      <th>c3</th>\n",
       "      <th>space</th>\n",
       "      <th>p1</th>\n",
       "      <th>p2</th>\n",
       "      <th>p3</th>\n",
       "    </tr>\n",
       "  </thead>\n",
       "  <tbody>\n",
       "    <tr>\n",
       "      <th>0</th>\n",
       "      <td>0.0</td>\n",
       "      <td>0.0</td>\n",
       "      <td>0.0</td>\n",
       "      <td></td>\n",
       "      <td>0.0</td>\n",
       "      <td>0.0</td>\n",
       "      <td>0.0</td>\n",
       "    </tr>\n",
       "    <tr>\n",
       "      <th>1</th>\n",
       "      <td>53.8</td>\n",
       "      <td>0.2</td>\n",
       "      <td>-1.0</td>\n",
       "      <td></td>\n",
       "      <td>55.0</td>\n",
       "      <td>0.0</td>\n",
       "      <td>0.0</td>\n",
       "    </tr>\n",
       "    <tr>\n",
       "      <th>2</th>\n",
       "      <td>107.5</td>\n",
       "      <td>0.7</td>\n",
       "      <td>-0.5</td>\n",
       "      <td></td>\n",
       "      <td>110.0</td>\n",
       "      <td>0.0</td>\n",
       "      <td>0.0</td>\n",
       "    </tr>\n",
       "    <tr>\n",
       "      <th>3</th>\n",
       "      <td>107.6</td>\n",
       "      <td>45.7</td>\n",
       "      <td>-0.4</td>\n",
       "      <td></td>\n",
       "      <td>110.0</td>\n",
       "      <td>45.0</td>\n",
       "      <td>0.0</td>\n",
       "    </tr>\n",
       "    <tr>\n",
       "      <th>4</th>\n",
       "      <td>54.0</td>\n",
       "      <td>45.3</td>\n",
       "      <td>-0.8</td>\n",
       "      <td></td>\n",
       "      <td>55.0</td>\n",
       "      <td>45.0</td>\n",
       "      <td>0.0</td>\n",
       "    </tr>\n",
       "    <tr>\n",
       "      <th>5</th>\n",
       "      <td>0.1</td>\n",
       "      <td>45.1</td>\n",
       "      <td>0.2</td>\n",
       "      <td></td>\n",
       "      <td>0.0</td>\n",
       "      <td>45.0</td>\n",
       "      <td>0.0</td>\n",
       "    </tr>\n",
       "    <tr>\n",
       "      <th>6</th>\n",
       "      <td>0.4</td>\n",
       "      <td>90.2</td>\n",
       "      <td>0.5</td>\n",
       "      <td></td>\n",
       "      <td>0.0</td>\n",
       "      <td>90.0</td>\n",
       "      <td>0.0</td>\n",
       "    </tr>\n",
       "    <tr>\n",
       "      <th>7</th>\n",
       "      <td>54.2</td>\n",
       "      <td>90.3</td>\n",
       "      <td>-0.7</td>\n",
       "      <td></td>\n",
       "      <td>55.0</td>\n",
       "      <td>90.0</td>\n",
       "      <td>0.0</td>\n",
       "    </tr>\n",
       "    <tr>\n",
       "      <th>8</th>\n",
       "      <td>107.8</td>\n",
       "      <td>90.5</td>\n",
       "      <td>-0.5</td>\n",
       "      <td></td>\n",
       "      <td>110.0</td>\n",
       "      <td>90.0</td>\n",
       "      <td>0.0</td>\n",
       "    </tr>\n",
       "    <tr>\n",
       "      <th>9</th>\n",
       "      <td>0.5</td>\n",
       "      <td>0.2</td>\n",
       "      <td>19.9</td>\n",
       "      <td></td>\n",
       "      <td>0.0</td>\n",
       "      <td>0.0</td>\n",
       "      <td>20.0</td>\n",
       "    </tr>\n",
       "    <tr>\n",
       "      <th>10</th>\n",
       "      <td>53.8</td>\n",
       "      <td>0.3</td>\n",
       "      <td>18.7</td>\n",
       "      <td></td>\n",
       "      <td>55.0</td>\n",
       "      <td>0.0</td>\n",
       "      <td>20.0</td>\n",
       "    </tr>\n",
       "    <tr>\n",
       "      <th>11</th>\n",
       "      <td>107.2</td>\n",
       "      <td>0.9</td>\n",
       "      <td>19.3</td>\n",
       "      <td></td>\n",
       "      <td>110.0</td>\n",
       "      <td>0.0</td>\n",
       "      <td>20.0</td>\n",
       "    </tr>\n",
       "    <tr>\n",
       "      <th>12</th>\n",
       "      <td>107.5</td>\n",
       "      <td>45.5</td>\n",
       "      <td>19.1</td>\n",
       "      <td></td>\n",
       "      <td>110.0</td>\n",
       "      <td>45.0</td>\n",
       "      <td>20.0</td>\n",
       "    </tr>\n",
       "    <tr>\n",
       "      <th>13</th>\n",
       "      <td>54.2</td>\n",
       "      <td>45.2</td>\n",
       "      <td>18.9</td>\n",
       "      <td></td>\n",
       "      <td>55.0</td>\n",
       "      <td>45.0</td>\n",
       "      <td>20.0</td>\n",
       "    </tr>\n",
       "    <tr>\n",
       "      <th>14</th>\n",
       "      <td>0.7</td>\n",
       "      <td>45.2</td>\n",
       "      <td>20.1</td>\n",
       "      <td></td>\n",
       "      <td>0.0</td>\n",
       "      <td>45.0</td>\n",
       "      <td>20.0</td>\n",
       "    </tr>\n",
       "    <tr>\n",
       "      <th>15</th>\n",
       "      <td>0.5</td>\n",
       "      <td>90.1</td>\n",
       "      <td>20.3</td>\n",
       "      <td></td>\n",
       "      <td>0.0</td>\n",
       "      <td>90.0</td>\n",
       "      <td>20.0</td>\n",
       "    </tr>\n",
       "    <tr>\n",
       "      <th>16</th>\n",
       "      <td>54.2</td>\n",
       "      <td>90.0</td>\n",
       "      <td>19.0</td>\n",
       "      <td></td>\n",
       "      <td>55.0</td>\n",
       "      <td>90.0</td>\n",
       "      <td>20.0</td>\n",
       "    </tr>\n",
       "    <tr>\n",
       "      <th>17</th>\n",
       "      <td>107.6</td>\n",
       "      <td>90.3</td>\n",
       "      <td>19.0</td>\n",
       "      <td></td>\n",
       "      <td>110.0</td>\n",
       "      <td>90.0</td>\n",
       "      <td>20.0</td>\n",
       "    </tr>\n",
       "    <tr>\n",
       "      <th>18</th>\n",
       "      <td>1.0</td>\n",
       "      <td>0.1</td>\n",
       "      <td>39.8</td>\n",
       "      <td></td>\n",
       "      <td>0.0</td>\n",
       "      <td>0.0</td>\n",
       "      <td>40.0</td>\n",
       "    </tr>\n",
       "    <tr>\n",
       "      <th>19</th>\n",
       "      <td>54.0</td>\n",
       "      <td>0.1</td>\n",
       "      <td>38.5</td>\n",
       "      <td></td>\n",
       "      <td>55.0</td>\n",
       "      <td>0.0</td>\n",
       "      <td>40.0</td>\n",
       "    </tr>\n",
       "  </tbody>\n",
       "</table>\n",
       "</div>"
      ]
     },
     "metadata": {},
     "execution_count": 38
    }
   ],
   "metadata": {}
  },
  {
   "cell_type": "code",
   "execution_count": 41,
   "source": [
    "plt.scatter(points[\"c1\"], points[\"c2\"], label=\"camera\")\n",
    "plt.scatter(points[\"p1\"], points[\"p2\"], label=\"point\")\n",
    "plt.legend()\n",
    "# plt.scatter(points[\"c1\"], points[\"c2\"])"
   ],
   "outputs": [
    {
     "output_type": "execute_result",
     "data": {
      "text/plain": [
       "<matplotlib.legend.Legend at 0x7f3e4768d3a0>"
      ]
     },
     "metadata": {},
     "execution_count": 41
    }
   ],
   "metadata": {}
  },
  {
   "cell_type": "code",
   "execution_count": null,
   "source": [
    "import pandas as pd\n",
    "\n",
    "print(pd.Series(zs).describe())\n",
    "print(max(zs) - min(zs))"
   ],
   "outputs": [],
   "metadata": {}
  },
  {
   "cell_type": "markdown",
   "source": [
    "## Calibrar"
   ],
   "metadata": {}
  },
  {
   "cell_type": "code",
   "execution_count": 11,
   "source": [
    "def ray_plane_intersect_vectorized(img_points, plane, cam_mtx):\n",
    "\t\"\"\"\n",
    "\tCalculate 3d-intersection between image rays defined by `img_ponts` and `cam_mtx`\n",
    "\tand a plane defined by the 4-vec `plane`\n",
    "\t@param img_points np.array with shape (3, N), N= number of points, homegeneous coords\n",
    "\t@param plane np.array with shape = (4,)\n",
    "\t@param cam_mtx np.array with shape = (3,3), intrinsic camera parameters\n",
    "\t@returns np.array with shape (4, N) with 3d points\n",
    "\t\"\"\"\n",
    "\tassert plane.shape == (4,)\n",
    "\tassert len(img_points.shape) == 2\n",
    "\tassert img_points.shape[0] == 3\n",
    "\n",
    "\trays = np.linalg.inv(cam_mtx)@img_points\n",
    "\tp = plane[-1]\n",
    "\tn = plane[:3]\n",
    "\tout = (-p/(n@rays)) * rays\n",
    "\tout = np.vstack((out, np.ones((1, out.shape[-1])))) # homogeneous coords\n",
    "\treturn out"
   ],
   "outputs": [],
   "metadata": {}
  },
  {
   "cell_type": "markdown",
   "source": [
    "### Achar todos os pontos 3D"
   ],
   "metadata": {}
  },
  {
   "cell_type": "code",
   "execution_count": 12,
   "source": [
    "from collections import defaultdict\n",
    "Xlist = []\n",
    "\n",
    "zcounter = defaultdict(int)\n",
    "for (point, image), (rvec, tvec) in zip(data, coords):\n",
    "\t# count z \n",
    "\tzcounter[point[-1]] += 1\n",
    "\n",
    "\tmasked, p_centroids = find_board_and_laser(image, rvec, tvec, mtx, None)\n",
    "\tn = chess_plane(rvec, tvec)\n",
    "\ttry:\n",
    "\t\tpoints3d = ray_plane_intersect_vectorized(p_centroids, n, mtx)\n",
    "\texcept Exception as e:\n",
    "\t\tprint(e)\n",
    "\t\tcontinue\n",
    "\tXlist.append(points3d)\n",
    "print(zcounter)"
   ],
   "outputs": [
    {
     "output_type": "stream",
     "name": "stdout",
     "text": [
      "defaultdict(<class 'int'>, {100.0: 9, 120.0: 10, 140.0: 10, 160.0: 10, 180.0: 10, 175: 1, 170: 1, 165: 1, 155: 1, 150: 1, 145: 1, 135: 1, 130: 1, 125: 1, 115: 1, 110: 1, 105: 1})\n"
     ]
    }
   ],
   "metadata": {}
  },
  {
   "cell_type": "code",
   "execution_count": 13,
   "source": [
    "X = np.hstack(Xlist)"
   ],
   "outputs": [],
   "metadata": {}
  },
  {
   "cell_type": "markdown",
   "source": [
    "### Mostrar pontos 3D"
   ],
   "metadata": {}
  },
  {
   "cell_type": "code",
   "execution_count": 14,
   "source": [
    "import matplotlib.pyplot as plt\n",
    "from mpl_toolkits.mplot3d import Axes3D\n",
    "\n",
    "fig = plt.figure()\n",
    "ax = fig.add_subplot(111, projection='3d')\n",
    "ax.scatter(X[0],X[1], X[2], color=\"r\")"
   ],
   "outputs": [
    {
     "output_type": "execute_result",
     "data": {
      "text/plain": [
       "<mpl_toolkits.mplot3d.art3d.Path3DCollection at 0x7f8a68083d00>"
      ]
     },
     "metadata": {},
     "execution_count": 14
    }
   ],
   "metadata": {}
  },
  {
   "cell_type": "markdown",
   "source": [
    "### Fit num plano"
   ],
   "metadata": {}
  },
  {
   "cell_type": "code",
   "execution_count": 15,
   "source": [
    "u, s, vt = np.linalg.svd(X.T, full_matrices=False)\n",
    "v = vt.T\n",
    "n = v[:,-1]\n",
    "print(n)"
   ],
   "outputs": [
    {
     "output_type": "stream",
     "name": "stdout",
     "text": [
      "[ 2.61353362e-04  9.75435153e-03 -5.73757242e-03  9.99935930e-01]\n"
     ]
    }
   ],
   "metadata": {}
  },
  {
   "cell_type": "markdown",
   "source": [
    "### Plot Plano e pontos"
   ],
   "metadata": {}
  },
  {
   "cell_type": "code",
   "execution_count": 16,
   "source": [
    "x0, xf = np.min(X[0]), np.max(X[0])\n",
    "y0, yf = np.min(X[1]), np.max(X[1])\n",
    "xplot = np.linspace(x0,xf)\n",
    "yplot = np.linspace(y0,yf)\n",
    "xplot, yplot = np.meshgrid(xplot, yplot)\n",
    "a,b,c,d = n\n",
    "zplot = -(a*xplot + b*yplot + d)/c"
   ],
   "outputs": [],
   "metadata": {}
  },
  {
   "cell_type": "markdown",
   "source": [
    "# Resultado"
   ],
   "metadata": {}
  },
  {
   "cell_type": "markdown",
   "source": [
    "## Plot"
   ],
   "metadata": {}
  },
  {
   "cell_type": "code",
   "execution_count": 17,
   "source": [
    "print(np.mean((n/np.linalg.norm(n[:3]))@X))\n",
    "print(np.mean(n@X))"
   ],
   "outputs": [
    {
     "output_type": "stream",
     "name": "stdout",
     "text": [
      "0.0006404746682901288\n",
      "7.249975683288139e-06\n"
     ]
    }
   ],
   "metadata": {}
  },
  {
   "cell_type": "code",
   "execution_count": 18,
   "source": [
    "np.savetxt(\"tex/mtx.txt\", mtx, delimiter=' & ', fmt='%.2f', newline=' \\\\\\\\\\n')\n",
    "np.savetxt(\"tex/n.txt\", n/np.linalg.norm(n[:3]) , delimiter=' & ', fmt='%.2e', newline=' \\\\\\\\\\n')\n",
    "np.savetxt(\"tex/dist.txt\", dist, delimiter=' & ', fmt='%.2f', newline=' \\\\\\\\\\n')"
   ],
   "outputs": [],
   "metadata": {}
  },
  {
   "cell_type": "code",
   "execution_count": 19,
   "source": [
    "fig = plt.figure()\n",
    "ax = fig.add_subplot(121, projection='3d')\n",
    "ax.scatter(X[0],X[1], X[2], color=\"r\")\n",
    "ax.plot_surface(xplot, yplot, zplot, color=\"b\", alpha=0.5)\n",
    "\n",
    "# ax_proj = fig.add_subplot(122, projection='3d')\n",
    "# ax_proj.plot(X[0],X[1])"
   ],
   "outputs": [
    {
     "output_type": "execute_result",
     "data": {
      "text/plain": [
       "<mpl_toolkits.mplot3d.art3d.Poly3DCollection at 0x7f8a5586ed60>"
      ]
     },
     "metadata": {},
     "execution_count": 19
    }
   ],
   "metadata": {}
  },
  {
   "cell_type": "markdown",
   "source": [
    "## Params"
   ],
   "metadata": {}
  },
  {
   "cell_type": "code",
   "execution_count": 20,
   "source": [
    "print(\"=== Intrinsic Camera Params ===\")\n",
    "print(\"===== Camera Matrix =====\")\n",
    "print(mtx)\n",
    "print(\"===== Lens Distortion Params =====\")\n",
    "# print(dist.T)\n",
    "print(\"=== Laser Params ===\")\n",
    "print(\"==== Laser Plane 4-vec ====\")\n",
    "print(n)\n",
    "print(\"==== Laser Plane Equation ====\")\n",
    "print(f\"{1e3*a:.2f}x + {1e3*b:.2f}y + {1e3*c:.2f}z + {1e3*d:.2f} = 0\")"
   ],
   "outputs": [
    {
     "output_type": "stream",
     "name": "stdout",
     "text": [
      "=== Intrinsic Camera Params ===\n",
      "===== Camera Matrix =====\n",
      "[[2.59128920e+03 0.00000000e+00 1.62581996e+03]\n",
      " [0.00000000e+00 2.59961593e+03 1.31712834e+03]\n",
      " [0.00000000e+00 0.00000000e+00 1.00000000e+00]]\n",
      "===== Lens Distortion Params =====\n",
      "=== Laser Params ===\n",
      "==== Laser Plane 4-vec ====\n",
      "[ 2.61353362e-04  9.75435153e-03 -5.73757242e-03  9.99935930e-01]\n",
      "==== Laser Plane Equation ====\n",
      "0.26x + 9.75y + -5.74z + 999.94 = 0\n"
     ]
    }
   ],
   "metadata": {}
  },
  {
   "cell_type": "markdown",
   "source": [
    "## Save"
   ],
   "metadata": {}
  },
  {
   "cell_type": "code",
   "execution_count": 21,
   "source": [
    "import pickle \n",
    "\n",
    "calib = dict(\n",
    "    mtx = mtx,\n",
    "    dist= dist,\n",
    "    n=n\n",
    ")\n",
    "with open(\"/home/freitas/TCC/ender-laser-scanner/calib_data/calib.pkl\", \"wb\") as f:\n",
    "    pickle.dump(calib, f)"
   ],
   "outputs": [],
   "metadata": {}
  },
  {
   "cell_type": "code",
   "execution_count": null,
   "source": [],
   "outputs": [],
   "metadata": {}
  }
 ],
 "metadata": {
  "orig_nbformat": 4,
  "language_info": {
   "name": "python",
   "version": "3.9.5",
   "mimetype": "text/x-python",
   "codemirror_mode": {
    "name": "ipython",
    "version": 3
   },
   "pygments_lexer": "ipython3",
   "nbconvert_exporter": "python",
   "file_extension": ".py"
  },
  "kernelspec": {
   "name": "python3",
   "display_name": "Python 3.9.5 64-bit ('tccenv': venv)"
  },
  "interpreter": {
   "hash": "703c8d1975e0ca36ce201e787f076003fab5e4e5ea7a33d5a755a2359f5bcf9b"
  }
 },
 "nbformat": 4,
 "nbformat_minor": 2
}