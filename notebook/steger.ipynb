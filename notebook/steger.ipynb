{
 "cells": [
  {
   "cell_type": "markdown",
   "source": [
    "# Steger's algorithm"
   ],
   "metadata": {}
  },
  {
   "cell_type": "markdown",
   "source": [
    "## Prep"
   ],
   "metadata": {}
  },
  {
   "cell_type": "code",
   "execution_count": null,
   "source": [
    "import numpy as np\r\n",
    "import cv2\r\n",
    "import matplotlib.pyplot as plt \r\n",
    "from tqdm.auto import tqdm as progressbar\r\n",
    "import time\r\n",
    "%matplotlib qt5"
   ],
   "outputs": [],
   "metadata": {}
  },
  {
   "cell_type": "code",
   "execution_count": null,
   "source": [
    "def red_contrast(image):\r\n",
    "\timage = image.astype(np.float)\r\n",
    "\treturn image[:,:, 0] - np.mean(image[:,:,1:], axis=-1)"
   ],
   "outputs": [],
   "metadata": {}
  },
  {
   "cell_type": "code",
   "execution_count": null,
   "source": [
    "image = cv2.imread(\"images/debevec_board.png\")\r\n",
    "image = cv2.cvtColor(image, cv2.COLOR_BGR2RGB)\r\n",
    "plt.imshow(red_contrast(image))\r\n",
    "plt.imshow(red_contrast(image) > 10)"
   ],
   "outputs": [],
   "metadata": {}
  },
  {
   "cell_type": "markdown",
   "source": [
    "## Hessian Matrix skimage\r\n",
    "from https://dsp.stackexchange.com/questions/1714/best-way-of-segmenting-veins-in-leaves/1735#1735\r\n",
    "\r\n",
    "Bem básico, acho que Steger faz mais coisas"
   ],
   "metadata": {}
  },
  {
   "cell_type": "code",
   "execution_count": null,
   "source": [
    "from skimage.feature import hessian_matrix, hessian_matrix_eigvals\r\n",
    "\r\n",
    "#assume you have an image img\r\n",
    "\r\n",
    "im=np.clip(red_contrast(image), 0, 255).astype(np.uint8)\r\n",
    "hxx, hxy, hyy = hessian_matrix(im, sigma=15)\r\n",
    "i1, i2 = hessian_matrix_eigvals((hxx, hxy, hyy))\r\n",
    "#i2 is the variable you want.\r\n",
    "#Visualise the result\r\n",
    "plt.imshow(i2)\r\n",
    "plt.figure()\r\n",
    "plt.imshow(i1)"
   ],
   "outputs": [],
   "metadata": {}
  },
  {
   "cell_type": "code",
   "execution_count": null,
   "source": [
    "(i2>-0.5)"
   ],
   "outputs": [],
   "metadata": {}
  },
  {
   "cell_type": "markdown",
   "source": [
    "## Steger from ImageJ\r\n",
    "from: \r\n",
    "https://pypi.org/project/ridge-detection/\r\n",
    "\r\n",
    "Código muito ruim... mas vamo lá\r\n",
    "\r\n",
    "Olha que Surpresa: não funciona!"
   ],
   "metadata": {}
  },
  {
   "cell_type": "code",
   "execution_count": null,
   "source": [
    "from ridge_detection.lineDetector import LineDetector\r\n",
    "from ridge_detection.params import Params,load_json\r\n",
    "from ridge_detection.basicGeometry import reset_counter\r\n",
    "from ridge_detection.helper import displayContours,save_to_disk\r\n",
    "from argparse import ArgumentParser\r\n",
    "from datetime import datetime\r\n",
    "from PIL import Image\r\n",
    "from  mrcfile import open as mrcfile_open\r\n",
    "\r\n",
    "\r\n",
    "start=datetime.now()\r\n",
    "config_filename = \"config.json\"\r\n",
    "json_data=load_json(config_filename)\r\n",
    "params = Params(config_filename)\r\n",
    "\r\n",
    "# img=np.clip(255*(red_contrast(image)), 0, 255).astype(np.uint8)\r\n",
    "# try:\r\n",
    "# img=mrcfile_open(json_data[\"path_to_file\"]).data\r\n",
    "# except ValueError:\r\n",
    "img=Image.open(json_data[\"path_to_file\"])\r\n",
    "\r\n",
    "\r\n",
    "\r\n",
    "detect = LineDetector(params=config_filename)\r\n",
    "result = detect.detectLines(img)\r\n",
    "resultJunction =detect.junctions\r\n",
    "out_img,img_only_lines = displayContours(params,result,resultJunction)      \r\n",
    "if params.get_saveOnFile() is True:\r\n",
    "    save_to_disk(out_img,img_only_lines)\r\n",
    "\r\n",
    "print(\" TOTAL EXECUTION TIME: \" + str(datetime.now()-start))"
   ],
   "outputs": [],
   "metadata": {}
  },
  {
   "cell_type": "code",
   "execution_count": null,
   "source": [
    "# Steger algorithm for edge/line extraction\r\n",
    "# Author : Munch Quentin, 2020\r\n",
    "\r\n",
    "# General and computer vision lib\r\n",
    "import numpy as np\r\n",
    "import cv2\r\n",
    "from matplotlib import pyplot as plt\r\n",
    "from matplotlib import pyplot\r\n",
    "\r\n",
    "def computeDerivative(img, sigmaX, sigmaY):\r\n",
    "    # blurr the image\r\n",
    "    img = cv2.GaussianBlur(img, ksize=(0,0), sigmaX=sigmaX, sigmaY=sigmaY, borderType=cv2.BORDER_CONSTANT)\r\n",
    "    # create filter for derivative calulation\r\n",
    "    dxFilter = np.array([[1],[0],[-1]])\r\n",
    "    dyFilter = np.array([[1,0,-1]])\r\n",
    "    dxxFilter = np.array([[1],[-2],[1]])\r\n",
    "    dyyFilter = np.array([[1,-2,1]])\r\n",
    "    dxyFilter = np.array([[1,-1],[-1,1]])\r\n",
    "    # compute derivative\r\n",
    "    dx = cv2.filter2D(img,-1, dxFilter)\r\n",
    "    dy = cv2.filter2D(img,-1, dyFilter)\r\n",
    "    dxx = cv2.filter2D(img,-1, dxxFilter)\r\n",
    "    dyy = cv2.filter2D(img,-1, dyyFilter)\r\n",
    "    dxy = cv2.filter2D(img,-1, dxyFilter)\r\n",
    "    return dx, dy, dxx, dyy, dxy\r\n",
    "\r\n",
    "def computeMagnitude(dxx, dyy):\r\n",
    "    # convert to float\r\n",
    "    dxx = dxx.astype(float)\r\n",
    "    dyy = dyy.astype(float)\r\n",
    "    # calculate magnitude and angle\r\n",
    "    mag = cv2.magnitude(dxx, dyy)\r\n",
    "    phase = mag*180./np.pi\r\n",
    "    return mag, phase\r\n",
    "\r\n",
    "def nonMaxSuppression(det, phase):\r\n",
    "    # gradient max init\r\n",
    "    gmax = np.zeros(det.shape)\r\n",
    "    # thin-out evry edge for angle = [0, 45, 90, 135]\r\n",
    "    for i in range(gmax.shape[0]):\r\n",
    "        for j in range(gmax.shape[1]):\r\n",
    "            if phase[i][j] < 0:\r\n",
    "                phase[i][j] += 360\r\n",
    "            if ((j+1) < gmax.shape[1]) and ((j-1) >= 0) and ((i+1) < gmax.shape[0]) and ((i-1) >= 0):\r\n",
    "                # 0 degrees\r\n",
    "                if (phase[i][j] >= 337.5 or phase[i][j] < 22.5) or (phase[i][j] >= 157.5 and phase[i][j] < 202.5):\r\n",
    "                    if det[i][j] >= det[i][j + 1] and det[i][j] >= det[i][j - 1]:\r\n",
    "                        gmax[i][j] = det[i][j]\r\n",
    "                # 45 degrees\r\n",
    "                if (phase[i][j] >= 22.5 and phase[i][j] < 67.5) or (phase[i][j] >= 202.5 and phase[i][j] < 247.5):\r\n",
    "                    if det[i][j] >= det[i - 1][j + 1] and det[i][j] >= det[i + 1][j - 1]:\r\n",
    "                        gmax[i][j] = det[i][j]\r\n",
    "                # 90 degrees\r\n",
    "                if (phase[i][j] >= 67.5 and phase[i][j] < 112.5) or (phase[i][j] >= 247.5 and phase[i][j] < 292.5):\r\n",
    "                    if det[i][j] >= det[i - 1][j] and det[i][j] >= det[i + 1][j]:\r\n",
    "                        gmax[i][j] = det[i][j]\r\n",
    "                # 135 degrees\r\n",
    "                if (phase[i][j] >= 112.5 and phase[i][j] < 157.5) or (phase[i][j] >= 292.5 and phase[i][j] < 337.5):\r\n",
    "                    if det[i][j] >= det[i - 1][j - 1] and det[i][j] >= det[i + 1][j + 1]:\r\n",
    "                        gmax[i][j] = det[i][j]\r\n",
    "    return gmax\r\n",
    "\r\n",
    "def computeHessian(img, dx, dy, dxx, dyy, dxy):\r\n",
    "    # create empty list\r\n",
    "    point=[]\r\n",
    "    direction=[]\r\n",
    "    value=[]\r\n",
    "    # for the all image\r\n",
    "    for x in range(0, img.shape[1]): # column\r\n",
    "        for y in range(0, img.shape[0]): # line\r\n",
    "            # if superior to certain threshold\r\n",
    "            if dxy[y,x] > 1:\r\n",
    "                # compute local hessian\r\n",
    "                hessian = np.zeros((2,2))\r\n",
    "                hessian[0,0] = dxx[y,x]\r\n",
    "                hessian[0,1] = dxy[y,x]\r\n",
    "                hessian[1,0] = dxy[y,x]\r\n",
    "                hessian[1,1] = dyy[y,x]\r\n",
    "                # compute eigen vector and eigne value\r\n",
    "                ret, eigenVal, eigenVect = cv2.eigen(hessian)\r\n",
    "                if np.abs(eigenVal[0,0]) >= np.abs(eigenVal[1,0]):\r\n",
    "                    nx = eigenVect[0,0]\r\n",
    "                    ny = eigenVect[0,1]\r\n",
    "                else:\r\n",
    "                    nx = eigenVect[1,0]\r\n",
    "                    ny = eigenVect[1,1]\r\n",
    "                # calculate denominator for the taylor polynomial expension\r\n",
    "                denom = dxx[y,x]*nx*nx + dyy[y,x]*ny*ny + 2*dxy[y,x]*nx*ny\r\n",
    "                # verify non zero denom\r\n",
    "                if denom != 0:\r\n",
    "                    T = -(dx[y,x]*nx + dy[y,x]*ny)/denom\r\n",
    "                    # update point\r\n",
    "                    if np.abs(T*nx) <= 0.5 and np.abs(T*ny) <= 0.5:\r\n",
    "                        point.append((int(round(x)),int(round(y))))\r\n",
    "                        direction.append((nx,ny))\r\n",
    "                        value.append(np.abs(dxy[y,x]+dxy[y,x]))\r\n",
    "    return point, direction, value\r\n",
    "\r\n",
    "# resize, grayscale and blurr\r\n",
    "# img = cv2.imread(\"rabbit.png\")\r\n",
    "# img = cv2.cvtColor(img, cv2.COLOR_BGR2RGB)\r\n",
    "# img = cv2.resize(img, (240,240))\r\n",
    "\r\n",
    "gray_img = np.clip(red_contrast(image), 0, 255).astype(np.uint8)\r\n",
    "img = cv2.cvtColor(gray_img, cv2.COLOR_GRAY2BGR)\r\n",
    "# compute derivative\r\n",
    "dx, dy, dxx, dyy, dxy = computeDerivative(gray_img, 3, 3)\r\n",
    "normal, phase = computeMagnitude(dxx, dyy)\r\n",
    "# compute thin-out image normal\r\n",
    "dxy = nonMaxSuppression(normal, phase)\r\n",
    "pt, dir, val = computeHessian(gray_img, dx, dy, dxx, dyy, dxy)\r\n",
    "\r\n",
    "# take the first n max value\r\n",
    "# nMax = 1000\r\n",
    "idx = np.argsort(val)\r\n",
    "# idx = idx[::-1]#[:nMax]\r\n",
    "# plot resulting point\r\n",
    "\r\n",
    "for i in range(0, len(idx)):\r\n",
    "    img = cv2.circle(img, (pt[idx[i]][0], pt[idx[i]][1]), 1, (255, 0, 0), 1)\r\n",
    "\r\n",
    "# plot the result\r\n",
    "plt.imshow(dx)\r\n",
    "plt.figure()\r\n",
    "plt.imshow(dy)\r\n",
    "plt.figure()\r\n",
    "plt.imshow(dxx)\r\n",
    "plt.figure()\r\n",
    "plt.imshow(dyy)\r\n",
    "plt.figure()\r\n",
    "plt.imshow(dxy)\r\n",
    "plt.figure()\r\n",
    "plt.imshow(normal)\r\n",
    "plt.figure()\r\n",
    "plt.imshow(phase)\r\n",
    "plt.figure()\r\n",
    "plt.imshow(5*img)\r\n",
    "plt.figure()"
   ],
   "outputs": [],
   "metadata": {}
  },
  {
   "cell_type": "code",
   "execution_count": null,
   "source": [
    "print(img.shape)\r\n",
    "print(dx.shape)"
   ],
   "outputs": [],
   "metadata": {}
  },
  {
   "cell_type": "markdown",
   "source": [],
   "metadata": {}
  },
  {
   "cell_type": "code",
   "execution_count": null,
   "source": [
    "maxes = np.argmax(red_contrast(image), axis=0)\r\n",
    "rowIdx = np.arange(red_contrast(image).shape[0]).reshape(-1,1)\r\n",
    "\r\n",
    "masked = red_contrast(image)\r\n",
    "masked[masked < 15] = 0\r\n",
    "masked[masked > 0] = 255\r\n",
    "centroid_mask = np.hstack((rowIdx,)*image.shape[1])\r\n",
    "centroids = np.sum(masked * centroid_mask, axis=0) / np.sum(masked, axis=0)\r\n",
    "\r\n",
    "plt.imshow(masked)\r\n",
    "plt.plot(range(maxes.size), maxes)\r\n",
    "plt.plot(range(centroids.size), centroids)"
   ],
   "outputs": [],
   "metadata": {}
  },
  {
   "cell_type": "code",
   "execution_count": null,
   "source": [
    "centroidMask.shape"
   ],
   "outputs": [],
   "metadata": {}
  },
  {
   "cell_type": "markdown",
   "source": [
    "## Ridge Filter OpenCV"
   ],
   "metadata": {}
  },
  {
   "cell_type": "code",
   "execution_count": null,
   "source": [
    "img=np.clip(255*(red_contrast(image) > 10), 0, 255).astype(np.uint8)\r\n",
    "\r\n",
    "f = cv2.ximgproc.RidgeDetectionFilter_create(ksize=5, )\r\n",
    "\r\n",
    "out  = f.getRidgeFilteredImage(img)\r\n",
    "plt.imshow(out)"
   ],
   "outputs": [],
   "metadata": {}
  },
  {
   "cell_type": "code",
   "execution_count": null,
   "source": [
    "cv2.imwrite(\"gray_rcontrast.png\",img)"
   ],
   "outputs": [],
   "metadata": {}
  }
 ],
 "metadata": {
  "orig_nbformat": 4,
  "language_info": {
   "name": "python",
   "version": "3.8.0",
   "mimetype": "text/x-python",
   "codemirror_mode": {
    "name": "ipython",
    "version": 3
   },
   "pygments_lexer": "ipython3",
   "nbconvert_exporter": "python",
   "file_extension": ".py"
  },
  "kernelspec": {
   "name": "python3",
   "display_name": "Python 3.8.0 64-bit ('myenv': venv)"
  },
  "interpreter": {
   "hash": "b579e5fbc9ee96b74887e9a62b90c5daaf193ad84cd3e0654970e29f1feb5853"
  }
 },
 "nbformat": 4,
 "nbformat_minor": 2
}