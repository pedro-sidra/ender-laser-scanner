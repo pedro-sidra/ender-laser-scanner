{
 "cells": [
  {
   "cell_type": "markdown",
   "source": [
    "# Setup"
   ],
   "metadata": {}
  },
  {
   "cell_type": "code",
   "execution_count": 81,
   "source": [
    "import matplotlib.pyplot as plt\n",
    "import matplotlib\n",
    "%matplotlib qt\n",
    "# matplotlib.backend\n",
    "# matplotlib.validate_backend(\"GTK3Ag\")"
   ],
   "outputs": [],
   "metadata": {}
  },
  {
   "cell_type": "code",
   "execution_count": 82,
   "source": [
    "import numpy as np\n",
    "import pickle\n",
    "from tqdm.auto import tqdm as progressbar\n",
    "import matplotlib.pyplot as plt\n",
    "import matplotlib.animation as animation\n",
    "import cv2\n",
    "import cv2.aruco as aruco\n",
    "import common as co\n",
    "from os.path import join\n",
    "from calib import calibrate_charuco_local, load_board, load_coefficients, save_coefficients"
   ],
   "outputs": [],
   "metadata": {}
  },
  {
   "cell_type": "markdown",
   "source": [
    "## Load calib"
   ],
   "metadata": {}
  },
  {
   "cell_type": "code",
   "execution_count": 128,
   "source": [
    "data_path=\"/home/freitas/TCC/ender-laser-scanner/pics/scan1_raspi/\""
   ],
   "outputs": [],
   "metadata": {}
  },
  {
   "cell_type": "code",
   "execution_count": 129,
   "source": [
    "import json\n",
    "\n",
    "# Calib params\n",
    "with open(\"/home/freitas/TCC/ender-laser-scanner/calib_data/calib.pkl\", \"rb\") as f:\n",
    "    calib = pickle.load(f)\n",
    "mtx = calib[\"mtx\"]\n",
    "dist_original = calib[\"dist\"]\n",
    "dist = None\n",
    "n = calib[\"n\"]\n",
    "\n",
    "R = np.load(\"/home/freitas/TCC/ender-laser-scanner/calib_data/cam_to_printer.npy\")\n",
    "\n",
    "board, aruco_dict = load_board(\"board.pkl\")\n",
    "\n",
    "print(board.getChessboardSize())\n",
    "print(board.getMarkerLength())\n",
    "print(board.getSquareLength())"
   ],
   "outputs": [
    {
     "output_type": "stream",
     "name": "stdout",
     "text": [
      "(16, 16)\n",
      "9.375\n",
      "12.5\n"
     ]
    }
   ],
   "metadata": {}
  },
  {
   "cell_type": "code",
   "execution_count": 130,
   "source": [
    "R"
   ],
   "outputs": [
    {
     "output_type": "execute_result",
     "data": {
      "text/plain": [
       "array([[ 0.9985865 , -0.02415544,  0.04734473, -0.20928927],\n",
       "       [ 0.00277792, -0.86582552, -0.50033835, -0.92947292],\n",
       "       [ 0.05307817,  0.49976263, -0.86453457,  0.62204345]])"
      ]
     },
     "metadata": {},
     "execution_count": 130
    }
   ],
   "metadata": {}
  },
  {
   "cell_type": "code",
   "execution_count": 131,
   "source": [
    "def load(path):\n",
    "    info = {}\n",
    "    data = []\n",
    "    with open(join(path,\"points.json\")) as f:\n",
    "        info = json.loads(f.read())\n",
    "\n",
    "    for fig, point in info.items():\n",
    "        image =  cv2.cvtColor(cv2.imread(join(path, fig)), cv2.COLOR_BGR2RGB)\n",
    "        image = cv2.undistort(image, mtx, dist_original, None, mtx)\n",
    "        data.append( (point, image) )\n",
    "\n",
    "    return data"
   ],
   "outputs": [],
   "metadata": {}
  },
  {
   "cell_type": "code",
   "execution_count": 132,
   "source": [
    "data = load(data_path+\"low_exp\")\n",
    "\n",
    "points = [d[0] for d in data]\n",
    "images = [d[1] for d in data]"
   ],
   "outputs": [],
   "metadata": {}
  },
  {
   "cell_type": "code",
   "execution_count": 133,
   "source": [
    "red_threshold = 20\n",
    "def find_laser(image):\n",
    "    blur = cv2.GaussianBlur(image, ksize=(5,5), sigmaX=1)\n",
    "    centroids = co.column_centroids(co.red_contrast(blur),\n",
    "                                    mask=co.red_contrast(blur) > red_threshold)\n",
    "                                    \n",
    "    return centroids"
   ],
   "outputs": [],
   "metadata": {}
  },
  {
   "cell_type": "code",
   "execution_count": 134,
   "source": [
    "from matplotlib import animation\n",
    "\n",
    "# First set up the figure, the axis, and the plot element we want to animate\n",
    "fig = plt.figure()\n",
    "# animation function.  This is called sequentially\n",
    "imgplot = None\n",
    "pointsplot = None\n",
    "\n",
    "def init():\n",
    "    global imgplot, pointsplot\n",
    "    imgplot = plt.imshow(data[0][1], animated=True)\n",
    "    pointsplot, = plt.plot(range(data[0][1].shape[0]), \"r.\", animated=True)\n",
    "    return pointsplot, imgplot\n",
    "\n",
    "\n",
    "def laser_points_img_gen(i):\n",
    "    global imgplot, pointsplot\n",
    "    # Find board and laser\n",
    "    point, image =data[i]\n",
    "\n",
    "    # blur = cv2.GaussianBlur(image, ksize=(5,5), sigmaX=1)\n",
    "\n",
    "    im = image\n",
    "    centroids = find_laser(image)\n",
    "    # centroids = co.column_argmaxes(co.red_contrast(image), mask=co.red_contrast(image)>50)\n",
    "    p_centroids = np.stack(list((i, p, 1) for i,p in enumerate(centroids) if not np.isnan(p))).T\n",
    "\n",
    "    # Update anim\n",
    "    imgplot.set_data(data[i][1])\n",
    "    pointsplot.set_data(p_centroids[0], p_centroids[1])\n",
    "    return pointsplot, imgplot\n",
    "\n",
    "# call the animator.  blit=True means only re-draw the parts that have changed.\n",
    "anim = animation.FuncAnimation(fig, laser_points_img_gen, init_func=init,\n",
    "                               frames=len(data), interval=20, blit=True)"
   ],
   "outputs": [],
   "metadata": {}
  },
  {
   "cell_type": "code",
   "execution_count": 135,
   "source": [
    "def ray_plane_intersect_vectorized(img_points, plane, cam_mtx):\n",
    "\t\"\"\"\n",
    "\tCalculate 3d-intersection between image rays defined by `img_ponts` and `cam_mtx`\n",
    "\tand a plane defined by the 4-vec `plane`\n",
    "\t@param img_points np.array with shape (3, N), N= number of points, homegeneous coords\n",
    "\t@param plane np.array with shape = (4,)\n",
    "\t@param cam_mtx np.array with shape = (3,3), intrinsic camera parameters\n",
    "\t@returns np.array with shape (4, N) with 3d points\n",
    "\t\"\"\"\n",
    "\tassert plane.shape == (4,)\n",
    "\tassert len(img_points.shape) == 2\n",
    "\tassert img_points.shape[0] == 3\n",
    "\n",
    "\trays = np.linalg.inv(cam_mtx)@img_points\n",
    "\tp = plane[-1]\n",
    "\tn = plane[:3]\n",
    "\tout = (-p/(n@rays)) * rays\n",
    "\tout = np.vstack((out, np.ones((1, out.shape[-1])))) # homogeneous coords\n",
    "\treturn out"
   ],
   "outputs": [],
   "metadata": {}
  },
  {
   "cell_type": "code",
   "execution_count": 138,
   "source": [
    "def triangulate_pts(image):\n",
    "    centroids = find_laser(image)\n",
    "    p_centroids = np.stack(list((i, p, 1) for i,p in enumerate(centroids) if not np.isnan(p))).T\n",
    "\n",
    "    pts_3d = ray_plane_intersect_vectorized(p_centroids, n, mtx)\n",
    "    return pts_3d\n",
    "def chess_plane(rvec, tvec):\n",
    "\t# Find p\n",
    "\tn_chessboard = np.array([0, 0, 1])\n",
    "\tM,_ = cv2.Rodrigues(rvec)\n",
    "\tn3 = M@n_chessboard\n",
    "\tp = -1 * n3@tvec\n",
    "\tn = np.hstack((n3,p))\n",
    "\treturn n"
   ],
   "outputs": [],
   "metadata": {}
  },
  {
   "cell_type": "code",
   "execution_count": 139,
   "source": [
    "W = np.eye(4)\n",
    "Xlist = []\n",
    "XcList=[]\n",
    "for point, image  in data:\n",
    "    # 3d pts in camera frame\n",
    "    pts_3d = triangulate_pts(image)\n",
    "    # Extrinsic params\n",
    "    # rot, jac = cv2.Rodrigues(rvec)\n",
    "    # W[:3, -1] = tvec.flatten()\n",
    "    # W[:3,:3] = rot\n",
    "\n",
    "    # Concat points\n",
    "    XcList.append(pts_3d)\n",
    "    # Xlist.append(np.linalg.inv(W)@pts_3d)\n",
    "# X = np.hstack(Xlist)"
   ],
   "outputs": [],
   "metadata": {}
  },
  {
   "cell_type": "markdown",
   "source": [
    "## Plot"
   ],
   "metadata": {}
  },
  {
   "cell_type": "code",
   "execution_count": 140,
   "source": [
    "import matplotlib.pyplot as plt\n",
    "from mpl_toolkits.mplot3d import Axes3D\n",
    "import importlib\n",
    "import common as co\n",
    "importlib.reload(co)"
   ],
   "outputs": [
    {
     "output_type": "execute_result",
     "data": {
      "text/plain": [
       "<module 'common' from '/home/freitas/TCC/ender-laser-scanner/notebook/common.py'>"
      ]
     },
     "metadata": {},
     "execution_count": 140
    }
   ],
   "metadata": {}
  },
  {
   "cell_type": "markdown",
   "source": [
    "### Profiles"
   ],
   "metadata": {}
  },
  {
   "cell_type": "code",
   "execution_count": 141,
   "source": [
    "import matplotlib.ticker as plticker\n",
    "\n",
    "fig, ax = co.plot3d(proj_type=\"ortho\")\n",
    "for i, x in enumerate(XcList):\n",
    "    #x = x.copy()\n",
    "    #x = x[:,x[2] < 110]\n",
    "    ax.scatter(x[0], i + x[1], x[2], label=f\"{i}\")\n",
    "\n",
    "#co.set_axes_equal(ax)\n",
    "ax.set_xlabel(\"$X_c ~[mm]$\")\n",
    "ax.set_ylabel(\"$i_p + Y_c ~[mm]$\")\n",
    "ax.set_zlabel(\"$Z_c ~[mm]$\")\n",
    "\n",
    "ax.invert_zaxis()\n",
    "\n",
    "#ax.set_ylim(-0.5, i)\n",
    "#ax.set_zlim(90, 100)\n",
    "#ax.set_xlim(-60, 0)\n",
    "\n",
    "#ax.xaxis.set_major_locator(plticker.MultipleLocator(base=1.0))\n",
    "# ax.yaxis.set_major_locator(plticker.MultipleLocator(base=1.0))\n",
    "# ax.zaxis.set_major_locator(plticker.MultipleLocator(base=1.0))\n",
    "\n",
    "ax.legend(loc=\"upper right\", ncol=2, title=\"Perfil ($i_p$)\").set_draggable(True)\n",
    "plt.title(\"Visualização 3D dos Perfis\")\n",
    "fig.tight_layout()"
   ],
   "outputs": [],
   "metadata": {}
  },
  {
   "cell_type": "code",
   "execution_count": 101,
   "source": [
    "for i, x in enumerate(XcList):\n",
    "    #x = x[:,x[2] < 110]\n",
    "    plt.plot(x[0], x[2], \"--.\", label=f\"{i}\")\n",
    "\n",
    "plt.gca().invert_yaxis()\n",
    "\n",
    "plt.xlabel(r\"$X_c~ [mm]$\")\n",
    "plt.ylabel(r\"$Z_c~ [mm]$\")\n",
    "ax.legend(loc=\"best\", ncol=2, title=\"Perfil ($i_p$)\")\n",
    "plt.grid()\n",
    "plt.title(\"Projeção dos Perfis em XZ\")\n",
    "plt.legend().set_draggable(True)\n",
    "plt.tight_layout()"
   ],
   "outputs": [
    {
     "output_type": "stream",
     "name": "stderr",
     "text": [
      "/tmp/ipykernel_12506/1391353283.py:13: UserWarning: Tight layout not applied. The bottom and top margins cannot be made large enough to accommodate all axes decorations. \n",
      "  plt.tight_layout()\n"
     ]
    }
   ],
   "metadata": {}
  },
  {
   "cell_type": "markdown",
   "source": [
    "# Reconstruct with `cam_to_printer`"
   ],
   "metadata": {}
  },
  {
   "cell_type": "code",
   "execution_count": 142,
   "source": [
    "R = np.load(\"/home/freitas/TCC/ender-laser-scanner/calib_data/cam_to_printer.npy\")\n",
    "print(R)\n",
    "p0 = np.array(data[0][0])\n",
    "print(p0)\n",
    "\n",
    "cam2printer = np.eye(4)\n",
    "cam2printer[:3,:3] = R[:3,:3]\n",
    "print(cam2printer)"
   ],
   "outputs": [
    {
     "output_type": "stream",
     "name": "stdout",
     "text": [
      "[[ 0.9985865  -0.02415544  0.04734473 -0.20928927]\n",
      " [ 0.00277792 -0.86582552 -0.50033835 -0.92947292]\n",
      " [ 0.05307817  0.49976263 -0.86453457  0.62204345]]\n",
      "[125.  90.  60.]\n",
      "[[ 0.9985865  -0.02415544  0.04734473  0.        ]\n",
      " [ 0.00277792 -0.86582552 -0.50033835  0.        ]\n",
      " [ 0.05307817  0.49976263 -0.86453457  0.        ]\n",
      " [ 0.          0.          0.          1.        ]]\n"
     ]
    }
   ],
   "metadata": {}
  },
  {
   "cell_type": "code",
   "execution_count": 143,
   "source": [
    "W = np.eye(4)\n",
    "Xlist = []\n",
    "XcList=[]\n",
    "\n",
    "for point, image in data:\n",
    "    # 3d pts in camera frame\n",
    "    pts_3d = triangulate_pts(image)\n",
    "\n",
    "    # Transformation from first point to this one (printer coords)\n",
    "    # B = np.eye(4)\n",
    "    # B[:3,3] = np.array(point) - p0\n",
    "\n",
    "    A = np.eye(4)\n",
    "    A[:3,3] = R[:3,:3]@(np.array(point) - p0)\n",
    "\n",
    "\n",
    "    # Transformation from the first camera to this one\n",
    "    # A = cam2printer@B@np.linalg.inv(cam2printer)\n",
    "\n",
    "    # Concat points\n",
    "    XcList.append(pts_3d)\n",
    "    Xlist.append(A@pts_3d)\n",
    "X = np.hstack(Xlist)"
   ],
   "outputs": [],
   "metadata": {}
  },
  {
   "cell_type": "code",
   "execution_count": 41,
   "source": [
    "import matplotlib.ticker as plticker\n",
    "\n",
    "fig, ax = co.plot3d(proj_type=\"ortho\")\n",
    "for i, x in enumerate(Xlist):\n",
    "    #x = np.linalg.inv(cam2printer)@x\n",
    "    ax.scatter(x[0], x[1], x[2], label=f\"{i}\")\n",
    "\n",
    "#ax.set_ylim(-0.5, i)\n",
    "#ax.set_zlim(90, 100)\n",
    "#ax.set_xlim(-60, 0)\n",
    "\n",
    "#ax.xaxis.set_major_locator(plticker.MultipleLocator(base=1.0))\n",
    "#ax.yaxis.set_major_locator(plticker.MultipleLocator(base=1.0))\n",
    "#ax.zaxis.set_major_locator(plticker.MultipleLocator(base=1.0))\n",
    "\n",
    "fig.tight_layout()"
   ],
   "outputs": [],
   "metadata": {}
  },
  {
   "cell_type": "code",
   "execution_count": 148,
   "source": [
    "import matplotlib.ticker as plticker\n",
    "\n",
    "fig, ax = co.plot3d(proj_type=\"ortho\")\n",
    "X_printer = np.linalg.inv(cam2printer)@X\n",
    "    #x = np.linalg.inv(cam2printer)@x\n",
    "X_printer = X_printer[:,X_printer[2] > -200]\n",
    "# X_printer = X_printer[:,X_printer[1] > 92]\n",
    "# X_printer = X_printer[:,X_printer[1] < 108]\n",
    "subsample = 10\n",
    "ax.scatter(X_printer[0, ::subsample], X_printer[1, ::subsample], X_printer[2, ::subsample], label=f\"{i}\")\n",
    "\n",
    "#ax.set_ylim(-0.5, i)\n",
    "#ax.set_zlim(90, 100)\n",
    "#ax.set_xlim(-60, 0)\n",
    "\n",
    "#ax.xaxis.set_major_locator(plticker.MultipleLocator(base=1.0))\n",
    "#ax.yaxis.set_major_locator(plticker.MultipleLocator(base=1.0))\n",
    "#ax.zaxis.set_major_locator(plticker.MultipleLocator(base=1.0))\n",
    "\n",
    "co.set_axes_equal(ax)\n",
    "\n",
    "fig.tight_layout()"
   ],
   "outputs": [],
   "metadata": {}
  },
  {
   "cell_type": "code",
   "execution_count": 149,
   "source": [
    "fig = plt.figure()\n",
    "ax = fig.add_subplot(111, projection='3d')\n",
    "#region = X[2] > -9999\n",
    "ax.plot_trisurf(X_printer[0,::10],X_printer[1,::10], X_printer[2,::10], color=\"gray\")\n",
    "co.set_axes_equal(ax)"
   ],
   "outputs": [],
   "metadata": {}
  },
  {
   "cell_type": "code",
   "execution_count": 150,
   "source": [
    "plt.figure()\n",
    "plt.scatter(X_printer[0], X_printer[2], s=2)"
   ],
   "outputs": [
    {
     "output_type": "execute_result",
     "data": {
      "text/plain": [
       "<matplotlib.collections.PathCollection at 0x7f80aa9389d0>"
      ]
     },
     "metadata": {},
     "execution_count": 150
    }
   ],
   "metadata": {}
  },
  {
   "cell_type": "code",
   "execution_count": 51,
   "source": [
    "-92+101"
   ],
   "outputs": [
    {
     "output_type": "execute_result",
     "data": {
      "text/plain": [
       "9"
      ]
     },
     "metadata": {},
     "execution_count": 51
    }
   ],
   "metadata": {}
  }
 ],
 "metadata": {
  "orig_nbformat": 4,
  "language_info": {
   "name": "python",
   "version": "3.9.5",
   "mimetype": "text/x-python",
   "codemirror_mode": {
    "name": "ipython",
    "version": 3
   },
   "pygments_lexer": "ipython3",
   "nbconvert_exporter": "python",
   "file_extension": ".py"
  },
  "kernelspec": {
   "name": "python3",
   "display_name": "Python 3.9.5 64-bit ('tccenv': venv)"
  },
  "interpreter": {
   "hash": "703c8d1975e0ca36ce201e787f076003fab5e4e5ea7a33d5a755a2359f5bcf9b"
  }
 },
 "nbformat": 4,
 "nbformat_minor": 2
}