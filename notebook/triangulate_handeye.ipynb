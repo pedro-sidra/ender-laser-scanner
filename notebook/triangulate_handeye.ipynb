{
 "cells": [
  {
   "cell_type": "markdown",
   "metadata": {},
   "source": [
    "# Setup"
   ]
  },
  {
   "cell_type": "code",
   "execution_count": 1,
   "metadata": {},
   "outputs": [],
   "source": [
    "import matplotlib.pyplot as plt\n",
    "import matplotlib\n",
    "%matplotlib qt\n",
    "# matplotlib.backend\n",
    "# matplotlib.validate_backend(\"GTK3Ag\")"
   ]
  },
  {
   "cell_type": "code",
   "execution_count": 2,
   "metadata": {},
   "outputs": [],
   "source": [
    "import numpy as np\n",
    "import pickle\n",
    "from tqdm.auto import tqdm as progressbar\n",
    "import matplotlib.pyplot as plt\n",
    "import matplotlib.animation as animation\n",
    "import cv2\n",
    "import cv2.aruco as aruco\n",
    "import common as co\n",
    "from os.path import join\n",
    "from calib import calibrate_charuco_local, load_board, load_coefficients, save_coefficients"
   ]
  },
  {
   "cell_type": "markdown",
   "metadata": {},
   "source": [
    "## Load calib"
   ]
  },
  {
   "cell_type": "code",
   "execution_count": 3,
   "metadata": {},
   "outputs": [],
   "source": [
    "data_path=\"/home/freitas/TCC/ender-laser-scanner/pics/scan1_raspi/\""
   ]
  },
  {
   "cell_type": "code",
   "execution_count": 4,
   "metadata": {},
   "outputs": [
    {
     "name": "stdout",
     "output_type": "stream",
     "text": [
      "(16, 16)\n",
      "9.375\n",
      "12.5\n"
     ]
    }
   ],
   "source": [
    "import json\n",
    "\n",
    "# Calib params\n",
    "with open(\"/home/freitas/TCC/ender-laser-scanner/calib_data/v1_raspi/calib.pkl\", \"rb\") as f:\n",
    "    calib = pickle.load(f)\n",
    "mtx = calib[\"mtx\"]\n",
    "dist_original = calib[\"dist\"]\n",
    "dist = None\n",
    "n = calib[\"n\"]\n",
    "\n",
    "R = np.load(\"/home/freitas/TCC/ender-laser-scanner/calib_data/v1_raspi/cam_to_printer.npy\")\n",
    "\n",
    "board, aruco_dict = load_board(\"board.pkl\")\n",
    "\n",
    "print(board.getChessboardSize())\n",
    "print(board.getMarkerLength())\n",
    "print(board.getSquareLength())"
   ]
  },
  {
   "cell_type": "code",
   "execution_count": 5,
   "metadata": {},
   "outputs": [
    {
     "data": {
      "text/plain": [
       "array([ 2.30883819e-02,  8.61715312e-01, -5.06866499e-01,  8.83359698e+01])"
      ]
     },
     "execution_count": 5,
     "metadata": {},
     "output_type": "execute_result"
    }
   ],
   "source": [
    "n/np.linalg.norm(n[:3])\n",
    "#n/np.linalg.norm(n[:3])/np.linalg.norm(n[:3])"
   ]
  },
  {
   "cell_type": "code",
   "execution_count": 6,
   "metadata": {},
   "outputs": [
    {
     "data": {
      "text/plain": [
       "array([[ 0.9985865 , -0.02415544,  0.04734473, -0.20928927],\n",
       "       [ 0.00277792, -0.86582552, -0.50033835, -0.92947292],\n",
       "       [ 0.05307817,  0.49976263, -0.86453457,  0.62204345]])"
      ]
     },
     "execution_count": 6,
     "metadata": {},
     "output_type": "execute_result"
    }
   ],
   "source": [
    "R"
   ]
  },
  {
   "cell_type": "code",
   "execution_count": 7,
   "metadata": {},
   "outputs": [],
   "source": [
    "def load(path):\n",
    "    info = {}\n",
    "    data = []\n",
    "    with open(join(path,\"points.json\")) as f:\n",
    "        info = json.loads(f.read())\n",
    "\n",
    "    for fig, point in info.items():\n",
    "        image =  cv2.cvtColor(cv2.imread(join(path, fig)), cv2.COLOR_BGR2RGB)\n",
    "        image = cv2.undistort(image, mtx, dist_original, None, mtx)\n",
    "        data.append( (point, image) )\n",
    "\n",
    "    return data\n",
    "\n",
    "def load_itr(path):\n",
    "    info = {}\n",
    "    data = []\n",
    "    with open(join(path,\"points.json\")) as f:\n",
    "        info = json.loads(f.read())\n",
    "\n",
    "    for fig, point in info.items():\n",
    "        image =  cv2.cvtColor(cv2.imread(join(path, fig)), cv2.COLOR_BGR2RGB)\n",
    "        image = cv2.undistort(image, mtx, dist_original, None, mtx)\n",
    "        yield point, image"
   ]
  },
  {
   "cell_type": "code",
   "execution_count": 63,
   "metadata": {},
   "outputs": [
    {
     "ename": "KeyboardInterrupt",
     "evalue": "",
     "output_type": "error",
     "traceback": [
      "\u001b[0;31m---------------------------------------------------------------------------\u001b[0m",
      "\u001b[0;31mKeyboardInterrupt\u001b[0m                         Traceback (most recent call last)",
      "\u001b[0;32m/tmp/ipykernel_122883/2256931410.py\u001b[0m in \u001b[0;36m<module>\u001b[0;34m\u001b[0m\n\u001b[0;32m----> 1\u001b[0;31m \u001b[0mdata\u001b[0m \u001b[0;34m=\u001b[0m \u001b[0mload\u001b[0m\u001b[0;34m(\u001b[0m\u001b[0mdata_path\u001b[0m\u001b[0;34m+\u001b[0m\u001b[0;34m\"low_exp\"\u001b[0m\u001b[0;34m)\u001b[0m\u001b[0;34m\u001b[0m\u001b[0;34m\u001b[0m\u001b[0m\n\u001b[0m\u001b[1;32m      2\u001b[0m \u001b[0;34m\u001b[0m\u001b[0m\n\u001b[1;32m      3\u001b[0m \u001b[0mpoints\u001b[0m \u001b[0;34m=\u001b[0m \u001b[0;34m[\u001b[0m\u001b[0md\u001b[0m\u001b[0;34m[\u001b[0m\u001b[0;36m0\u001b[0m\u001b[0;34m]\u001b[0m \u001b[0;32mfor\u001b[0m \u001b[0md\u001b[0m \u001b[0;32min\u001b[0m \u001b[0mdata\u001b[0m\u001b[0;34m]\u001b[0m\u001b[0;34m\u001b[0m\u001b[0;34m\u001b[0m\u001b[0m\n\u001b[1;32m      4\u001b[0m \u001b[0mimages\u001b[0m \u001b[0;34m=\u001b[0m \u001b[0;34m[\u001b[0m\u001b[0md\u001b[0m\u001b[0;34m[\u001b[0m\u001b[0;36m1\u001b[0m\u001b[0;34m]\u001b[0m \u001b[0;32mfor\u001b[0m \u001b[0md\u001b[0m \u001b[0;32min\u001b[0m \u001b[0mdata\u001b[0m\u001b[0;34m]\u001b[0m\u001b[0;34m\u001b[0m\u001b[0;34m\u001b[0m\u001b[0m\n",
      "\u001b[0;32m/tmp/ipykernel_122883/3607820852.py\u001b[0m in \u001b[0;36mload\u001b[0;34m(path)\u001b[0m\n\u001b[1;32m      7\u001b[0m     \u001b[0;32mfor\u001b[0m \u001b[0mfig\u001b[0m\u001b[0;34m,\u001b[0m \u001b[0mpoint\u001b[0m \u001b[0;32min\u001b[0m \u001b[0minfo\u001b[0m\u001b[0;34m.\u001b[0m\u001b[0mitems\u001b[0m\u001b[0;34m(\u001b[0m\u001b[0;34m)\u001b[0m\u001b[0;34m:\u001b[0m\u001b[0;34m\u001b[0m\u001b[0;34m\u001b[0m\u001b[0m\n\u001b[1;32m      8\u001b[0m         \u001b[0mimage\u001b[0m \u001b[0;34m=\u001b[0m  \u001b[0mcv2\u001b[0m\u001b[0;34m.\u001b[0m\u001b[0mcvtColor\u001b[0m\u001b[0;34m(\u001b[0m\u001b[0mcv2\u001b[0m\u001b[0;34m.\u001b[0m\u001b[0mimread\u001b[0m\u001b[0;34m(\u001b[0m\u001b[0mjoin\u001b[0m\u001b[0;34m(\u001b[0m\u001b[0mpath\u001b[0m\u001b[0;34m,\u001b[0m \u001b[0mfig\u001b[0m\u001b[0;34m)\u001b[0m\u001b[0;34m)\u001b[0m\u001b[0;34m,\u001b[0m \u001b[0mcv2\u001b[0m\u001b[0;34m.\u001b[0m\u001b[0mCOLOR_BGR2RGB\u001b[0m\u001b[0;34m)\u001b[0m\u001b[0;34m\u001b[0m\u001b[0;34m\u001b[0m\u001b[0m\n\u001b[0;32m----> 9\u001b[0;31m         \u001b[0mimage\u001b[0m \u001b[0;34m=\u001b[0m \u001b[0mcv2\u001b[0m\u001b[0;34m.\u001b[0m\u001b[0mundistort\u001b[0m\u001b[0;34m(\u001b[0m\u001b[0mimage\u001b[0m\u001b[0;34m,\u001b[0m \u001b[0mmtx\u001b[0m\u001b[0;34m,\u001b[0m \u001b[0mdist_original\u001b[0m\u001b[0;34m,\u001b[0m \u001b[0;32mNone\u001b[0m\u001b[0;34m,\u001b[0m \u001b[0mmtx\u001b[0m\u001b[0;34m)\u001b[0m\u001b[0;34m\u001b[0m\u001b[0;34m\u001b[0m\u001b[0m\n\u001b[0m\u001b[1;32m     10\u001b[0m         \u001b[0mdata\u001b[0m\u001b[0;34m.\u001b[0m\u001b[0mappend\u001b[0m\u001b[0;34m(\u001b[0m \u001b[0;34m(\u001b[0m\u001b[0mpoint\u001b[0m\u001b[0;34m,\u001b[0m \u001b[0mimage\u001b[0m\u001b[0;34m)\u001b[0m \u001b[0;34m)\u001b[0m\u001b[0;34m\u001b[0m\u001b[0;34m\u001b[0m\u001b[0m\n\u001b[1;32m     11\u001b[0m \u001b[0;34m\u001b[0m\u001b[0m\n",
      "\u001b[0;31mKeyboardInterrupt\u001b[0m: "
     ]
    }
   ],
   "source": [
    "data = load(data_path+\"low_exp\")\n",
    "\n",
    "points = [d[0] for d in data]\n",
    "images = [d[1] for d in data]"
   ]
  },
  {
   "cell_type": "code",
   "execution_count": 8,
   "metadata": {},
   "outputs": [],
   "source": [
    "red_threshold = 20\n",
    "def find_laser(image):\n",
    "    blur = cv2.GaussianBlur(image, ksize=(5,5), sigmaX=1)\n",
    "    centroids = co.column_centroids(co.red_contrast(blur),\n",
    "                                    mask=co.red_contrast(blur) > red_threshold)\n",
    "\n",
    "    # argmaxes = co.column_argmaxes(co.red_contrast(blur),\n",
    "    #                                 mask=co.red_contrast(blur) > red_threshold)\n",
    "    \n",
    "    \n",
    "                                    \n",
    "    return centroids"
   ]
  },
  {
   "cell_type": "code",
   "execution_count": 9,
   "metadata": {},
   "outputs": [
    {
     "data": {
      "text/plain": [
       "<matplotlib.image.AxesImage at 0x7fb978cd2fa0>"
      ]
     },
     "execution_count": 9,
     "metadata": {},
     "output_type": "execute_result"
    }
   ],
   "source": [
    "image = data[8][1]\n",
    "\n",
    "blur = cv2.GaussianBlur(image, ksize=(5,5), sigmaX=1)\n",
    "centroids = co.column_centroids(co.red_contrast(blur),\n",
    "                                mask=co.red_contrast(blur) > red_threshold)\n",
    "\n",
    "argmaxes = co.column_argmaxes(co.red_contrast(blur),\n",
    "                                mask=co.red_contrast(blur) > red_threshold)\n",
    "\n",
    "fig, axs = plt.subplots(2,1, sharex=True)\n",
    "rows = range(len(centroids))\n",
    "axs[0].plot(centroids)\n",
    "axs[0].plot(argmaxes)\n",
    "axs[1].imshow(image)"
   ]
  },
  {
   "cell_type": "code",
   "execution_count": 9,
   "metadata": {},
   "outputs": [],
   "source": [
    "from matplotlib import animation\n",
    "\n",
    "# First set up the figure, the axis, and the plot element we want to animate\n",
    "fig = plt.figure()\n",
    "# animation function.  This is called sequentially\n",
    "imgplot = None\n",
    "pointsplot = None\n",
    "data_gen = load_itr(data_path + \"low_exp\")\n",
    "point0, image0 = next(data_gen)\n",
    "data_gen = load_itr(data_path + \"low_exp\")\n",
    "\n",
    "def init():\n",
    "    global imgplot, pointsplot\n",
    "    imgplot = plt.imshow(image0, animated=True)\n",
    "    pointsplot, = plt.plot(range(image0.shape[0]), \"r.\", animated=True)\n",
    "    return pointsplot, imgplot\n",
    "\n",
    "\n",
    "def laser_points_img_gen(i):\n",
    "    global imgplot, pointsplot\n",
    "    # Find board and laser\n",
    "    # point, image =data[i]\n",
    "    point, image = next(data_gen)\n",
    "\n",
    "    # blur = cv2.GaussianBlur(image, ksize=(5,5), sigmaX=1)\n",
    "\n",
    "    im = image\n",
    "    centroids = find_laser(image)\n",
    "    # centroids = co.column_argmaxes(co.red_contrast(image), mask=co.red_contrast(image)>50)\n",
    "    p_centroids = np.stack(list((i, p, 1) for i,p in enumerate(centroids) if not np.isnan(p))).T\n",
    "\n",
    "    # Update anim\n",
    "    imgplot.set_data(image)\n",
    "    pointsplot.set_data(p_centroids[0], p_centroids[1])\n",
    "    return pointsplot, imgplot\n",
    "\n",
    "# call the animator.  blit=True means only re-draw the parts that have changed.\n",
    "anim = animation.FuncAnimation(fig, laser_points_img_gen, init_func=init,\n",
    "                               frames=200, interval=20, blit=True)"
   ]
  },
  {
   "cell_type": "code",
   "execution_count": 10,
   "metadata": {},
   "outputs": [],
   "source": [
    "def ray_plane_intersect_vectorized(img_points, plane, cam_mtx):\n",
    "\t\"\"\"\n",
    "\tCalculate 3d-intersection between image rays defined by `img_ponts` and `cam_mtx`\n",
    "\tand a plane defined by the 4-vec `plane`\n",
    "\t@param img_points np.array with shape (3, N), N= number of points, homegeneous coords\n",
    "\t@param plane np.array with shape = (4,)\n",
    "\t@param cam_mtx np.array with shape = (3,3), intrinsic camera parameters\n",
    "\t@returns np.array with shape (4, N) with 3d points\n",
    "\t\"\"\"\n",
    "\tassert plane.shape == (4,)\n",
    "\tassert len(img_points.shape) == 2\n",
    "\tassert img_points.shape[0] == 3\n",
    "\n",
    "\trays = np.linalg.inv(cam_mtx)@img_points\n",
    "\tp = plane[-1]\n",
    "\tn = plane[:3]\n",
    "\tout = (-p/(n@rays)) * rays\n",
    "\tout = np.vstack((out, np.ones((1, out.shape[-1])))) # homogeneous coords\n",
    "\treturn out"
   ]
  },
  {
   "cell_type": "code",
   "execution_count": 11,
   "metadata": {},
   "outputs": [],
   "source": [
    "import time\n",
    "def triangulate_pts(image):\n",
    "\tcentroids = find_laser(image)\n",
    "\tp_centroids = np.stack(list((i, p, 1) for i,p in enumerate(centroids) if not np.isnan(p))).T\n",
    "\n",
    "\tpts_3d = ray_plane_intersect_vectorized(p_centroids, n, mtx)\n",
    "\treturn pts_3d\n",
    "def chess_plane(rvec, tvec):\n",
    "\t# Find p\n",
    "\tn_chessboard = np.array([0, 0, 1])\n",
    "\tM,_ = cv2.Rodrigues(rvec)\n",
    "\tn3 = M@n_chessboard\n",
    "\tp = -1 * n3@tvec\n",
    "\tn = np.hstack((n3,p))\n",
    "\treturn n"
   ]
  },
  {
   "cell_type": "code",
   "execution_count": 12,
   "metadata": {},
   "outputs": [
    {
     "ename": "NameError",
     "evalue": "name 'data' is not defined",
     "output_type": "error",
     "traceback": [
      "\u001b[0;31m---------------------------------------------------------------------------\u001b[0m",
      "\u001b[0;31mNameError\u001b[0m                                 Traceback (most recent call last)",
      "\u001b[0;32m/tmp/ipykernel_15888/1474555540.py\u001b[0m in \u001b[0;36m<module>\u001b[0;34m\u001b[0m\n\u001b[1;32m      2\u001b[0m \u001b[0mXlist\u001b[0m \u001b[0;34m=\u001b[0m \u001b[0;34m[\u001b[0m\u001b[0;34m]\u001b[0m\u001b[0;34m\u001b[0m\u001b[0;34m\u001b[0m\u001b[0m\n\u001b[1;32m      3\u001b[0m \u001b[0mXcList\u001b[0m\u001b[0;34m=\u001b[0m\u001b[0;34m[\u001b[0m\u001b[0;34m]\u001b[0m\u001b[0;34m\u001b[0m\u001b[0;34m\u001b[0m\u001b[0m\n\u001b[0;32m----> 4\u001b[0;31m \u001b[0;32mfor\u001b[0m \u001b[0mpoint\u001b[0m\u001b[0;34m,\u001b[0m \u001b[0mimage\u001b[0m  \u001b[0;32min\u001b[0m \u001b[0mdata\u001b[0m\u001b[0;34m:\u001b[0m\u001b[0;34m\u001b[0m\u001b[0;34m\u001b[0m\u001b[0m\n\u001b[0m\u001b[1;32m      5\u001b[0m     \u001b[0;31m# 3d pts in camera frame\u001b[0m\u001b[0;34m\u001b[0m\u001b[0;34m\u001b[0m\u001b[0;34m\u001b[0m\u001b[0m\n\u001b[1;32m      6\u001b[0m     \u001b[0mpts_3d\u001b[0m \u001b[0;34m=\u001b[0m \u001b[0mtriangulate_pts\u001b[0m\u001b[0;34m(\u001b[0m\u001b[0mimage\u001b[0m\u001b[0;34m)\u001b[0m\u001b[0;34m\u001b[0m\u001b[0;34m\u001b[0m\u001b[0m\n",
      "\u001b[0;31mNameError\u001b[0m: name 'data' is not defined"
     ]
    }
   ],
   "source": [
    "W = np.eye(4)\n",
    "Xlist = []\n",
    "XcList=[]\n",
    "for point, image  in data:\n",
    "    # 3d pts in camera frame\n",
    "    pts_3d = triangulate_pts(image)\n",
    "    # Extrinsic params\n",
    "    # rot, jac = cv2.Rodrigues(rvec)\n",
    "    # W[:3, -1] = tvec.flatten()\n",
    "    # W[:3,:3] = rot\n",
    "\n",
    "    # Concat points\n",
    "    XcList.append(pts_3d)\n",
    "    # Xlist.append(np.linalg.inv(W)@pts_3d)\n",
    "# X = np.hstack(Xlist)"
   ]
  },
  {
   "cell_type": "markdown",
   "metadata": {},
   "source": [
    "## Plot"
   ]
  },
  {
   "cell_type": "code",
   "execution_count": 13,
   "metadata": {},
   "outputs": [
    {
     "data": {
      "text/plain": [
       "<module 'common' from '/home/freitas/TCC/ender-laser-scanner/notebook/common.py'>"
      ]
     },
     "execution_count": 13,
     "metadata": {},
     "output_type": "execute_result"
    }
   ],
   "source": [
    "import matplotlib.pyplot as plt\n",
    "from mpl_toolkits.mplot3d import Axes3D\n",
    "import importlib\n",
    "import common as co\n",
    "importlib.reload(co)"
   ]
  },
  {
   "cell_type": "markdown",
   "metadata": {},
   "source": [
    "### Profiles"
   ]
  },
  {
   "cell_type": "code",
   "execution_count": 17,
   "metadata": {},
   "outputs": [],
   "source": [
    "import matplotlib.ticker as plticker\n",
    "\n",
    "fig, ax = co.plot3d(proj_type=\"ortho\")\n",
    "for i, x in enumerate(Xlist[3:13]):\n",
    "    x = x.copy()\n",
    "    x = np.linalg.inv(cam2printer)@x\n",
    "    x = x[:,x[0] > -10]\n",
    "    x = x[:,x[0] < 60]\n",
    "    ax.scatter(x[0], x[1], x[2], label=f\"{3+i}\")\n",
    "\n",
    "#co.set_axes_equal(ax)\n",
    "ax.set_xlabel(\"$X_w ~[mm]$\")\n",
    "ax.set_ylabel(\"$Y_w ~[mm]$\")\n",
    "ax.set_zlabel(\"$Z_w ~[mm]$\")\n",
    "\n",
    "#ax.invert_zaxis()\n",
    "\n",
    "#ax.set_ylim(-0.5, i)\n",
    "#ax.set_zlim(90, 100)\n",
    "#ax.set_xlim(-60, 0)\n",
    "\n",
    "#ax.xaxis.set_major_locator(plticker.MultipleLocator(base=1.0))\n",
    "# ax.yaxis.set_major_locator(plticker.MultipleLocator(base=1.0))\n",
    "# ax.zaxis.set_major_locator(plticker.MultipleLocator(base=1.0))\n",
    "\n",
    "ax.legend(loc=\"upper right\", ncol=2, title=\"Estação\").set_draggable(True)\n",
    "plt.title(\"Visualização 3D das Nuvens Parciais\")\n",
    "fig.tight_layout()"
   ]
  },
  {
   "cell_type": "code",
   "execution_count": 15,
   "metadata": {},
   "outputs": [
    {
     "ename": "NameError",
     "evalue": "name 'ax' is not defined",
     "output_type": "error",
     "traceback": [
      "\u001b[0;31m---------------------------------------------------------------------------\u001b[0m",
      "\u001b[0;31mNameError\u001b[0m                                 Traceback (most recent call last)",
      "\u001b[0;32m/tmp/ipykernel_34153/1391353283.py\u001b[0m in \u001b[0;36m<module>\u001b[0;34m\u001b[0m\n\u001b[1;32m      7\u001b[0m \u001b[0mplt\u001b[0m\u001b[0;34m.\u001b[0m\u001b[0mxlabel\u001b[0m\u001b[0;34m(\u001b[0m\u001b[0;34mr\"$X_c~ [mm]$\"\u001b[0m\u001b[0;34m)\u001b[0m\u001b[0;34m\u001b[0m\u001b[0;34m\u001b[0m\u001b[0m\n\u001b[1;32m      8\u001b[0m \u001b[0mplt\u001b[0m\u001b[0;34m.\u001b[0m\u001b[0mylabel\u001b[0m\u001b[0;34m(\u001b[0m\u001b[0;34mr\"$Z_c~ [mm]$\"\u001b[0m\u001b[0;34m)\u001b[0m\u001b[0;34m\u001b[0m\u001b[0;34m\u001b[0m\u001b[0m\n\u001b[0;32m----> 9\u001b[0;31m \u001b[0max\u001b[0m\u001b[0;34m.\u001b[0m\u001b[0mlegend\u001b[0m\u001b[0;34m(\u001b[0m\u001b[0mloc\u001b[0m\u001b[0;34m=\u001b[0m\u001b[0;34m\"best\"\u001b[0m\u001b[0;34m,\u001b[0m \u001b[0mncol\u001b[0m\u001b[0;34m=\u001b[0m\u001b[0;36m2\u001b[0m\u001b[0;34m,\u001b[0m \u001b[0mtitle\u001b[0m\u001b[0;34m=\u001b[0m\u001b[0;34m\"Perfil ($i_p$)\"\u001b[0m\u001b[0;34m)\u001b[0m\u001b[0;34m\u001b[0m\u001b[0;34m\u001b[0m\u001b[0m\n\u001b[0m\u001b[1;32m     10\u001b[0m \u001b[0mplt\u001b[0m\u001b[0;34m.\u001b[0m\u001b[0mgrid\u001b[0m\u001b[0;34m(\u001b[0m\u001b[0;34m)\u001b[0m\u001b[0;34m\u001b[0m\u001b[0;34m\u001b[0m\u001b[0m\n\u001b[1;32m     11\u001b[0m \u001b[0mplt\u001b[0m\u001b[0;34m.\u001b[0m\u001b[0mtitle\u001b[0m\u001b[0;34m(\u001b[0m\u001b[0;34m\"Projeção dos Perfis em XZ\"\u001b[0m\u001b[0;34m)\u001b[0m\u001b[0;34m\u001b[0m\u001b[0;34m\u001b[0m\u001b[0m\n",
      "\u001b[0;31mNameError\u001b[0m: name 'ax' is not defined"
     ]
    }
   ],
   "source": [
    "for i, x in enumerate(XcList):\n",
    "    #x = x[:,x[2] < 110]\n",
    "    plt.plot(x[0], x[2], \"--.\", label=f\"{i}\")\n",
    "\n",
    "plt.gca().invert_yaxis()\n",
    "\n",
    "plt.xlabel(r\"$X_c~ [mm]$\")\n",
    "plt.ylabel(r\"$Z_c~ [mm]$\")\n",
    "ax.legend(loc=\"best\", ncol=2, title=\"Perfil ($i_p$)\")\n",
    "plt.grid()\n",
    "plt.title(\"Projeção dos Perfis em XZ\")\n",
    "plt.legend().set_draggable(True)\n",
    "plt.tight_layout()"
   ]
  },
  {
   "cell_type": "code",
   "execution_count": 18,
   "metadata": {},
   "outputs": [],
   "source": [
    "chosen_pics = slice(3,13)\n",
    "\n",
    "data = load(data_path+\"low_exp\")\n",
    "d = data[chosen_pics]\n",
    "\n",
    "cols = 2\n",
    "fig, axs = plt.subplots(len(d)//cols,cols, sharex=True, sharey=True)\n",
    "\n",
    "colors = plt.rcParams['axes.prop_cycle'].by_key()['color']\n",
    "\n",
    "for i, ( ax, (point, image) ) in enumerate( zip(axs.flatten(), d) ):\n",
    "\n",
    "    # Axes\n",
    "    ax.imshow(d[i][1])\n",
    "    ax.axis(\"off\")\n",
    "    ax.set_title(f\"Estação {3+i}\", color=colors[i])\n",
    "\n",
    "    centroids = find_laser(image)\n",
    "    p_centroids = np.stack(list((i, p, 1) for i,p in enumerate(centroids) if not np.isnan(p))).T\n",
    "    ax.plot(p_centroids[0], p_centroids[1], \"g.\", markersize=1)"
   ]
  },
  {
   "cell_type": "markdown",
   "metadata": {},
   "source": [
    "# Reconstruct with `cam_to_printer`"
   ]
  },
  {
   "cell_type": "code",
   "execution_count": 14,
   "metadata": {},
   "outputs": [
    {
     "name": "stdout",
     "output_type": "stream",
     "text": [
      "[[ 0.9985865  -0.02415544  0.04734473 -0.20928927]\n",
      " [ 0.00277792 -0.86582552 -0.50033835 -0.92947292]\n",
      " [ 0.05307817  0.49976263 -0.86453457  0.62204345]]\n",
      "[125.  90.  60.]\n",
      "[[ 0.9985865  -0.02415544  0.04734473  0.        ]\n",
      " [ 0.00277792 -0.86582552 -0.50033835  0.        ]\n",
      " [ 0.05307817  0.49976263 -0.86453457  0.        ]\n",
      " [ 0.          0.          0.          1.        ]]\n"
     ]
    }
   ],
   "source": [
    "R = np.load(\"/home/freitas/TCC/ender-laser-scanner/calib_data/v1_raspi/cam_to_printer.npy\")\n",
    "print(R)\n",
    "p0, _ = next(load_itr(data_path + \"low_exp\"))\n",
    "p0 = np.array(p0)\n",
    "print(p0)\n",
    "\n",
    "cam2printer = np.eye(4)\n",
    "cam2printer[:3,:3] = R[:3,:3]\n",
    "print(cam2printer)"
   ]
  },
  {
   "cell_type": "code",
   "execution_count": 15,
   "metadata": {},
   "outputs": [],
   "source": [
    "data_path=\"/home/freitas/TCC/ender-laser-scanner/pics/scan1_raspi/\""
   ]
  },
  {
   "cell_type": "code",
   "execution_count": 16,
   "metadata": {},
   "outputs": [
    {
     "name": "stderr",
     "output_type": "stream",
     "text": [
      "50it [00:39,  1.25it/s]\n"
     ]
    }
   ],
   "source": [
    "W = np.eye(4)\n",
    "Xlist = []\n",
    "XcList=[]\n",
    "\n",
    "i=0\n",
    "for point, image in co.progressbar(load_itr(data_path + \"low_exp\")):\n",
    "    i+=1\n",
    "    # if (i > 50):\n",
    "    #     break\n",
    "    # if (i < 50):\n",
    "    #     continue\n",
    "    # if (i >= 100):\n",
    "    #     break\n",
    "    # 3d pts in camera frame\n",
    "    pts_3d = triangulate_pts(image)\n",
    "\n",
    "    # Transformation from first point to this one (printer coords)\n",
    "    # B = np.eye(4)\n",
    "    # B[:3,3] = np.array(point) - p0\n",
    "\n",
    "    A = np.eye(4)\n",
    "    A[:3,3] = R[:3,:3]@(np.array(point) - p0)\n",
    "\n",
    "\n",
    "    # Transformation from the first camera to this one\n",
    "    # A = cam2printer@B@np.linalg.inv(cam2printer)\n",
    "\n",
    "    # Concat points\n",
    "    XcList.append(pts_3d)\n",
    "    Xlist.append(A@pts_3d)\n",
    "X = np.hstack(Xlist)"
   ]
  },
  {
   "cell_type": "code",
   "execution_count": 13,
   "metadata": {},
   "outputs": [
    {
     "name": "stdout",
     "output_type": "stream",
     "text": [
      "scan1_raspi\n"
     ]
    }
   ],
   "source": [
    "name = data_path.split(\"/\")[-2]\n",
    "print(name)\n",
    "X = np.linalg.inv(cam2printer)@np.hstack(Xlist)\n",
    "np.savetxt(f\"clouds/{name}2.txt\", np.round(X.T[:,:3],3), delimiter=\",\", fmt=\"%.3f\")"
   ]
  },
  {
   "cell_type": "code",
   "execution_count": 27,
   "metadata": {},
   "outputs": [
    {
     "name": "stderr",
     "output_type": "stream",
     "text": [
      "121it [01:49,  1.10it/s]\n"
     ]
    },
    {
     "name": "stdout",
     "output_type": "stream",
     "text": [
      "scan_cold_1 Done!\n"
     ]
    },
    {
     "name": "stderr",
     "output_type": "stream",
     "text": [
      "121it [01:41,  1.19it/s]\n"
     ]
    },
    {
     "name": "stdout",
     "output_type": "stream",
     "text": [
      "scan_cold_2 Done!\n"
     ]
    },
    {
     "name": "stderr",
     "output_type": "stream",
     "text": [
      "121it [01:40,  1.21it/s]\n"
     ]
    },
    {
     "name": "stdout",
     "output_type": "stream",
     "text": [
      "scan_cold_3 Done!\n"
     ]
    },
    {
     "name": "stderr",
     "output_type": "stream",
     "text": [
      "121it [01:52,  1.08it/s]\n"
     ]
    },
    {
     "name": "stdout",
     "output_type": "stream",
     "text": [
      "scan_cold_4 Done!\n"
     ]
    },
    {
     "name": "stderr",
     "output_type": "stream",
     "text": [
      "121it [01:40,  1.21it/s]\n"
     ]
    },
    {
     "name": "stdout",
     "output_type": "stream",
     "text": [
      "scan_cold_5 Done!\n"
     ]
    },
    {
     "name": "stderr",
     "output_type": "stream",
     "text": [
      "121it [01:40,  1.21it/s]\n"
     ]
    },
    {
     "name": "stdout",
     "output_type": "stream",
     "text": [
      "scan_cold_6 Done!\n"
     ]
    },
    {
     "name": "stderr",
     "output_type": "stream",
     "text": [
      "121it [01:40,  1.21it/s]\n"
     ]
    },
    {
     "name": "stdout",
     "output_type": "stream",
     "text": [
      "scan_cold_7 Done!\n"
     ]
    },
    {
     "name": "stderr",
     "output_type": "stream",
     "text": [
      "121it [01:31,  1.32it/s]\n"
     ]
    },
    {
     "name": "stdout",
     "output_type": "stream",
     "text": [
      "scan_cold_8 Done!\n"
     ]
    },
    {
     "name": "stderr",
     "output_type": "stream",
     "text": [
      "121it [01:30,  1.34it/s]\n"
     ]
    },
    {
     "name": "stdout",
     "output_type": "stream",
     "text": [
      "scan_cold_9 Done!\n"
     ]
    },
    {
     "name": "stderr",
     "output_type": "stream",
     "text": [
      "121it [01:29,  1.35it/s]\n"
     ]
    },
    {
     "name": "stdout",
     "output_type": "stream",
     "text": [
      "scan_cold_10 Done!\n"
     ]
    }
   ],
   "source": [
    "for file_ind in range(1,11):\n",
    "    data_path=f\"/home/freitas/TCC/ender-laser-scanner/pics/scan_cold_{file_ind}/\"\n",
    "\n",
    "    Xlist = []\n",
    "\n",
    "    for point, image in co.progressbar(load_itr(data_path + \"low_exp\")):\n",
    "        pts_3d = triangulate_pts(image)\n",
    "        A = np.eye(4)\n",
    "        A[:3,3] = R[:3,:3]@(np.array(point) - p0)\n",
    "        Xlist.append(A@pts_3d)\n",
    "    X = np.linalg.inv(cam2printer)@np.hstack(Xlist)\n",
    "    name = data_path.split(\"/\")[-2]\n",
    "    print(f\"{name} Done!\")\n",
    "    np.savetxt(f\"clouds/{name}.txt\", np.round(X.T[:,:3],3), delimiter=\",\", fmt=\"%.5f\")"
   ]
  },
  {
   "cell_type": "code",
   "execution_count": 43,
   "metadata": {},
   "outputs": [],
   "source": [
    "import matplotlib.ticker as plticker\n",
    "\n",
    "fig, ax = co.plot3d(proj_type=\"ortho\")\n",
    "for i, x in enumerate(Xlist):\n",
    "    #x = np.linalg.inv(cam2printer)@x\n",
    "    ax.scatter(x[0], x[1], x[2], label=f\"{i}\")\n",
    "\n",
    "#ax.set_ylim(-0.5, i)\n",
    "#ax.set_zlim(90, 100)\n",
    "#ax.set_xlim(-60, 0)\n",
    "\n",
    "#ax.xaxis.set_major_locator(plticker.MultipleLocator(base=1.0))\n",
    "#ax.yaxis.set_major_locator(plticker.MultipleLocator(base=1.0))\n",
    "#ax.zaxis.set_major_locator(plticker.MultipleLocator(base=1.0))\n",
    "\n",
    "fig.tight_layout()"
   ]
  },
  {
   "cell_type": "code",
   "execution_count": 64,
   "metadata": {},
   "outputs": [
    {
     "data": {
      "text/plain": [
       "array([125.,  90.,  60.])"
      ]
     },
     "execution_count": 64,
     "metadata": {},
     "output_type": "execute_result"
    }
   ],
   "source": [
    "p0"
   ]
  },
  {
   "cell_type": "code",
   "execution_count": 14,
   "metadata": {},
   "outputs": [
    {
     "name": "stderr",
     "output_type": "stream",
     "text": [
      "/tmp/ipykernel_31250/2274099290.py:18: MatplotlibDeprecationWarning: Starting from Matplotlib 3.6, colorbar() will steal space from the mappable's axes, rather than from the current axes, to place the colorbar.  To silence this warning, explicitly pass the 'ax' argument to colorbar().\n",
      "  fig.colorbar(p)\n"
     ]
    }
   ],
   "source": [
    "import matplotlib.ticker as plticker\n",
    "\n",
    "#fig, ax = co.plot3d(proj_type=\"ortho\")\n",
    "fig = plt.figure()\n",
    "ax = fig.add_subplot(211, projection=\"3d\")\n",
    "ax2 = fig.add_subplot(212)\n",
    "X_printer = X.copy()#np.linalg.inv(cam2printer)@X\n",
    "X_printer[0] = X_printer[0] + p0[0]\n",
    "X_printer[1] = X_printer[1] + p0[1]\n",
    "X_printer[2] = X_printer[2] + p0[2]\n",
    "    #x = np.linalg.inv(cam2printer)@x\n",
    "# X_printer = X_printer[:,X_printer[2] > -144]\n",
    "# X_printer = X_printer[:,X_printer[1] > 92]\n",
    "# X_printer = X_printer[:,X_printer[1] < 108]\n",
    "X_printer = X_printer[:,X_printer[0] > +p0[0]+-10]\n",
    "subsample = 1\n",
    "p=ax.scatter(X_printer[0, ::subsample], X_printer[1, ::subsample], X_printer[2, ::subsample], c=X_printer[2,::subsample], cmap=\"turbo\")\n",
    "fig.colorbar(p)\n",
    "\n",
    "ax._axis3don = False\n",
    "X_printer = X_printer[:,X_printer[1] > +p0[1]+97]\n",
    "X_printer = X_printer[:,X_printer[1] < +p0[1]+110]\n",
    "ax2.scatter(X_printer[0, ::subsample], X_printer[2, ::subsample])\n",
    "\n",
    "ax2.xaxis.set_minor_locator(plt.MultipleLocator(1))\n",
    "ax2.yaxis.set_minor_locator(plt.MultipleLocator(1))\n",
    "ax2.xaxis.set_major_locator(plt.MultipleLocator(5))\n",
    "ax2.yaxis.set_major_locator(plt.MultipleLocator(5))\n",
    "ax2.set_ylabel(\"$z_W$\")\n",
    "ax2.set_xlabel(\"$x_W$\")\n",
    "#ax2.set_aspect(\"equal\")\n",
    "ax2.grid(True, which=\"Both\")\n",
    "\n",
    "fig.suptitle(\"Nuvem de Pontos da Peça A\")\n",
    "\n",
    "\n",
    "\n",
    "#ax.set_ylim(-0.5, i)\n",
    "#ax.set_zlim(90, 100)\n",
    "#ax.set_xlim(-60, 0)\n",
    "\n",
    "#ax.xaxis.set_major_locator(plticker.MultipleLocator(base=1.0))\n",
    "#ax.yaxis.set_major_locator(plticker.MultipleLocator(base=1.0))\n",
    "#ax.zaxis.set_major_locator(plticker.MultipleLocator(base=1.0))\n",
    "\n",
    "co.set_axes_equal(ax)\n",
    "#co.set_axes_equal(ax2)\n",
    "\n",
    "fig.tight_layout()"
   ]
  },
  {
   "cell_type": "code",
   "execution_count": 58,
   "metadata": {},
   "outputs": [],
   "source": [
    "fig = plt.figure()\n",
    "ax = fig.add_subplot(111, projection='3d')\n",
    "#region = X[2] > -9999\n",
    "ax.plot_trisurf(X_printer[0,::subsample],X_printer[1,::subsample], X_printer[2,::subsample], color=\"gray\")\n",
    "co.set_axes_equal(ax)"
   ]
  },
  {
   "cell_type": "code",
   "execution_count": 37,
   "metadata": {},
   "outputs": [
    {
     "data": {
      "text/plain": [
       "<matplotlib.collections.PathCollection at 0x7f1b88629c10>"
      ]
     },
     "execution_count": 37,
     "metadata": {},
     "output_type": "execute_result"
    }
   ],
   "source": [
    "plt.figure()\n",
    "plt.scatter(X_printer[0], X_printer[2], s=2)"
   ]
  },
  {
   "cell_type": "markdown",
   "metadata": {},
   "source": [
    "# Output"
   ]
  }
 ],
 "metadata": {
  "interpreter": {
   "hash": "0eb69cb1405e1aa85187cad1df043fd8f3e81222460c158cc7c5a31440b4b770"
  },
  "kernelspec": {
   "display_name": "Python 3.9.5 64-bit ('tccenv': venv)",
   "name": "python3"
  },
  "language_info": {
   "codemirror_mode": {
    "name": "ipython",
    "version": 3
   },
   "file_extension": ".py",
   "mimetype": "text/x-python",
   "name": "python",
   "nbconvert_exporter": "python",
   "pygments_lexer": "ipython3",
   "version": "3.9.5"
  },
  "orig_nbformat": 4
 },
 "nbformat": 4,
 "nbformat_minor": 2
}
