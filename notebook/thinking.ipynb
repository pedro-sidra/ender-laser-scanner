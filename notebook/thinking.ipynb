{
 "cells": [
  {
   "cell_type": "markdown",
   "source": [
    "# Thinking notebook"
   ],
   "metadata": {}
  },
  {
   "cell_type": "markdown",
   "source": [
    "## Config"
   ],
   "metadata": {}
  },
  {
   "cell_type": "code",
   "execution_count": null,
   "source": [
    "from calib import calibrate_charuco\r\n",
    "from utils import load_coefficients, save_coefficients\r\n",
    "import cv2\r\n",
    "\r\n",
    "import numpy as np\r\n",
    "import cv2\r\n",
    "import cv2.aruco as aruco\r\n",
    "import matplotlib.pyplot as plt\r\n",
    "import pathlib\r\n",
    "\r\n",
    "%matplotlib inline\r\n",
    "plt.rcParams[\"figure.figsize\"] = (9,4)\r\n",
    "plt.rcParams['figure.constrained_layout.use'] = True\r\n",
    "plt.rcParams['image.cmap'] = 'gray'"
   ],
   "outputs": [],
   "metadata": {}
  },
  {
   "cell_type": "markdown",
   "source": [
    "## Methods (iterative...)"
   ],
   "metadata": {}
  },
  {
   "cell_type": "code",
   "execution_count": null,
   "source": [
    "def ray_plane_intersect(img_point, plane, cam_mtx):\r\n",
    "\t\"\"\"\r\n",
    "\tCalculate intersection between an image ray defined by `img_pont` and `cam_mtx`\r\n",
    "\tand a plane defined by the 4-vec plane\r\n",
    "\t\"\"\"\r\n",
    "\tassert len(plane) == 4\r\n",
    "\tassert len(img_point) == 2\r\n",
    "\timg_point = np.array([*img_point, 1])\r\n",
    "\tray = np.linalg.inv(cam_mtx)@img_point\r\n",
    "\tp = plane[-1]\r\n",
    "\tn = plane[:3]\r\n",
    "\treturn (-p/(n@ray)) * ray"
   ],
   "outputs": [],
   "metadata": {}
  },
  {
   "cell_type": "code",
   "execution_count": null,
   "source": [
    "# RGB\r\n",
    "def red_contrast(image):\r\n",
    "\timage = image.astype(np.float)\r\n",
    "\treturn image[:,:, 0] - np.mean(image[:,:,1:], axis=-1)\r\n",
    "\r\n",
    "def find_laser_points(image, tresh=150):\r\n",
    "\tcontrast = red_contrast(image)"
   ],
   "outputs": [],
   "metadata": {}
  },
  {
   "cell_type": "code",
   "execution_count": null,
   "source": [
    "def imshow(img, *args, **kwargs):\r\n",
    "\tax = kwargs.get(\"ax\")\r\n",
    "\tif ax:\r\n",
    "\t\tax.imshow(cv2.cvtColor(img, cv2.COLOR_BGR2RGB))\r\n",
    "\telse:\r\n",
    "\t\tplt.imshow(cv2.cvtColor(img, cv2.COLOR_BGR2RGB))"
   ],
   "outputs": [],
   "metadata": {}
  },
  {
   "cell_type": "code",
   "execution_count": null,
   "source": [
    "def mask_rgb(img, mask):\r\n",
    "\tret = np.zeros_like(img)\r\n",
    "\tfor i in range(ret.shape[-1]):\r\n",
    "\t\tret[:,:,i] = img[:,:,i] * mask\r\n",
    "\treturn ret\r\n",
    "\r\n",
    "def get_charuco_rect(board):\r\n",
    "\tdelim = np.max(board.chessboardCorners, axis=0) + board.getSquareLength() * np.array([1, 1, 0])\r\n",
    "\tcorner_points = [\r\n",
    "\t\t[0, 0, 0],\r\n",
    "\t\t[delim[0], 0, 0],\r\n",
    "\t\tdelim,\r\n",
    "\t\t[0, delim[1], 0],\r\n",
    "\t]\r\n",
    "\treturn np.array(corner_points)\r\n",
    "\r\n",
    "def get_charuco_mask(image, board, rvec, tvec, mtx, dist):\r\n",
    "\tif image.ndim==2:\r\n",
    "\t\tmask = np.zeros_like(image)\r\n",
    "\telif image.ndim==3:\r\n",
    "\t\tmask = np.zeros(image.shape[:2])\r\n",
    "\r\n",
    "\trect = get_charuco_rect(board)\r\n",
    "\tpoints, _ = cv2.projectPoints(rect, rvec, tvec, mtx, dist)\r\n",
    "\tproj_points_round = np.round(points, 0).astype(np.int)\r\n",
    "\tcv2.fillPoly(mask, [proj_points_round], True, 255 )\r\n",
    "\treturn mask\r\n",
    "\r\n",
    "def crop_charuco_board(image, board, rvec, tvec, mtx, dist):\r\n",
    "\tmask = get_charuco_mask(image, board, rvec, tvec, mtx, dist)\r\n",
    "\tif image.ndim == 3:\r\n",
    "\t\treturn mask_rgb(image, mask)\r\n",
    "\telif image.ndim==2:\r\n",
    "\t\treturn mask*image"
   ],
   "outputs": [],
   "metadata": {}
  },
  {
   "cell_type": "markdown",
   "source": [
    "## Load params"
   ],
   "metadata": {}
  },
  {
   "cell_type": "code",
   "execution_count": null,
   "source": [
    "# def calibrate_charuco(dirpath, image_format, marker_length, square_length, prior=None, plot=False):\r\n",
    "dirpath = r'Imagens\\setupEnder_v0\\\\'\r\n",
    "image_format = 'jpg'\r\n",
    "# Dimensions in cm\r\n",
    "marker_length = 2.1\r\n",
    "square_length = 3.5\r\n",
    "aruco_dict = aruco.Dictionary_get(aruco.DICT_6X6_1000)\r\n",
    "board = aruco.CharucoBoard_create(5, 7, square_length, marker_length, aruco_dict)\r\n",
    "arucoParams = aruco.DetectorParameters_create()\r\n",
    "mtx, dist = load_coefficients('calibration_charuco.yml')\r\n"
   ],
   "outputs": [],
   "metadata": {}
  },
  {
   "cell_type": "markdown",
   "source": [
    "## Find charuco boards for each image"
   ],
   "metadata": {}
  },
  {
   "cell_type": "code",
   "execution_count": null,
   "source": [
    "counter, corners_list, id_list = [], [], []\r\n",
    "imgs, imgs_rgb = [], []\r\n",
    "img_dir = pathlib.Path(dirpath)\r\n",
    "first = 0\r\n",
    "# Find the ArUco markers inside each image\r\n",
    "for img in img_dir.glob(f'*{image_format}'):\r\n",
    "\t# print(f'using image {img}')\r\n",
    "\timage = cv2.cvtColor(cv2.imread(str(img)), cv2.COLOR_BGR2RGB)\r\n",
    "\timg_gray = cv2.cvtColor(image, cv2.COLOR_BGR2GRAY)\r\n",
    "\r\n",
    "\timg_gray = cv2.undistort(img_gray, mtx, dist, None, mtx)\r\n",
    "\timage = cv2.undistort(image, mtx, dist, None, mtx)\r\n",
    "\r\n",
    "\tcorners, ids, rejected = aruco.detectMarkers(\r\n",
    "\timg_gray, \r\n",
    "\taruco_dict, \r\n",
    "\tparameters=arucoParams\r\n",
    "\t)\r\n",
    "\tresp, charuco_corners, charuco_ids = aruco.interpolateCornersCharuco(\r\n",
    "\tmarkerCorners=corners,\r\n",
    "\tmarkerIds=ids,\r\n",
    "\timage=img_gray,\r\n",
    "\tboard=board\r\n",
    "\t)\r\n",
    "\t# If a Charuco board was found, let's collect image/corner points\r\n",
    "\t# Requiring at least 20 squares\r\n",
    "\tif resp > 10:\r\n",
    "\t\tcorners_list.append(charuco_corners)\r\n",
    "\t\tid_list.append(charuco_ids)\r\n",
    "\t\timgs.append(img_gray)\r\n",
    "\t\timgs_rgb.append(image)"
   ],
   "outputs": [],
   "metadata": {}
  },
  {
   "cell_type": "markdown",
   "source": [
    "## Init Generator"
   ],
   "metadata": {}
  },
  {
   "cell_type": "code",
   "execution_count": null,
   "source": [
    "gen = (zip(corners_list, imgs, imgs_rgb, id_list))"
   ],
   "outputs": [],
   "metadata": {}
  },
  {
   "cell_type": "code",
   "execution_count": null,
   "source": [
    "def next_fig():\r\n",
    "\tglobal points, img, img_rgb, ids, board, mtx, dist, rvec, tvec\r\n",
    "\tpoints, img, img_rgb, ids  = next(gen)\r\n",
    "\tret, rvec, tvec = cv2.aruco.estimatePoseCharucoBoard(points, ids, board, mtx, dist, None, None)"
   ],
   "outputs": [],
   "metadata": {}
  },
  {
   "cell_type": "markdown",
   "source": [
    "## Calib laser\r\n",
    "\r\n",
    "* rvec, tvec @ n_chessboard -> Plano em 3d do chessboard\r\n",
    "* interseccao raio-plano com cam_mtx e n_chessboard -> Pontos 3d do laser\r\n",
    "* (da pra fazer minimizacao tbm)\r\n",
    "* Pontos 3d do laser em multiplos frames -> plano do laser"
   ],
   "metadata": {}
  },
  {
   "cell_type": "markdown",
   "source": [
    "# Defining the chessboard plane\r\n",
    "\r\n",
    "n_chessboard = np.array([0, 0, 1])\r\n",
    "\r\n",
    "T_to_plane = np.eye(4)\r\n",
    "\r\n",
    "M, jac = cv2.Rodrigues(rvec)\r\n",
    "\r\n",
    "n3 = M@n_chessboard\r\n",
    "\r\n",
    "p = -1 * n3@tvec\r\n",
    "\r\n",
    "n = np.hstack((n3,p))"
   ],
   "metadata": {}
  },
  {
   "cell_type": "markdown",
   "source": [
    "## Visualizar reprojection"
   ],
   "metadata": {}
  },
  {
   "cell_type": "code",
   "execution_count": null,
   "source": [
    "next_fig()\r\n",
    "plt.figure()\r\n",
    "proj_points, jacobian = cv2.projectPoints(board.chessboardCorners, rvec, tvec, mtx, dist)\r\n",
    "plt.imshow(img_rgb)\r\n",
    "plt.plot([p[0][0] for p in points], [p[0][1] for p in points], \"r.\", markersize=12)\r\n",
    "plt.plot([p[0][0] for p in proj_points], [p[0][1] for p in proj_points], \"g.\", markersize=12)\r\n",
    "plt.show(1)"
   ],
   "outputs": [],
   "metadata": {}
  },
  {
   "cell_type": "markdown",
   "source": [
    "# Visualizar find_laser"
   ],
   "metadata": {}
  },
  {
   "cell_type": "code",
   "execution_count": null,
   "source": [
    "next_fig()\r\n",
    "plt.figure()\r\n",
    "plt.imshow(red_contrast(img_rgb))"
   ],
   "outputs": [],
   "metadata": {}
  },
  {
   "cell_type": "markdown",
   "source": [
    "## Achar eixo principal laser"
   ],
   "metadata": {}
  },
  {
   "cell_type": "markdown",
   "source": [
    "## Crop board\r\n",
    "\r\n",
    "Metodo funciona bem, mas as vezes laser fora do board da ruim... Cropar o board!"
   ],
   "metadata": {}
  },
  {
   "cell_type": "code",
   "execution_count": null,
   "source": [
    "#def get_charuco_mask(image, board, rvec, tvec, mtx, dist):\r\n",
    "next_fig()\r\n",
    "fig, axs = plt.subplots(1,3)\r\n",
    "mask = get_charuco_mask(img, board, rvec, tvec, mtx, dist)\r\n",
    "axs[0].imshow(mask)\r\n",
    "\r\n",
    "axs[1].imshow(crop_charuco_board(img_rgb, board, rvec, tvec, mtx, dist))\r\n",
    "axs[2].imshow(img_rgb)"
   ],
   "outputs": [],
   "metadata": {}
  },
  {
   "cell_type": "code",
   "execution_count": null,
   "source": [
    "def find_laser(img, std=5, crop=True):\r\n",
    "\tif crop:\r\n",
    "\t\tlaser = red_contrast(crop_charuco_board(img,board,rvec,tvec,mtx,dist))\r\n",
    "\telse:\r\n",
    "\t\tlaser = red_contrast(img)\r\n",
    "\tlaser_norm = (laser - np.mean(laser)) / np.std(laser)\r\n",
    "\treturn laser_norm > std"
   ],
   "outputs": [],
   "metadata": {}
  },
  {
   "cell_type": "code",
   "execution_count": null,
   "source": [
    "#next_fig()\r\n",
    "fig, axs = plt.subplots(1,2, sharex=True, sharey=True)\r\n",
    "axs[0].imshow(img_rgb)\r\n",
    "axs[1].imshow(find_laser(img_rgb, std=6))"
   ],
   "outputs": [],
   "metadata": {}
  },
  {
   "cell_type": "markdown",
   "source": [
    "## Eixo principal laser"
   ],
   "metadata": {}
  },
  {
   "cell_type": "code",
   "execution_count": null,
   "source": [
    "def find_laser_line(img, crop=True):\r\n",
    "\t\"\"\"\r\n",
    "\tReturn a point indicating center of a line, and a vector with direction\r\n",
    "\t(coord. order is always x,y)\r\n",
    "\t\"\"\"\r\n",
    "\tlaser_mask = find_laser(img, crop=crop)\r\n",
    "\r\n",
    "\tX = np.array(np.where(laser_mask)).T\r\n",
    "\tX = X[:,::-1]\r\n",
    "\tm = np.mean(X, axis=0)\r\n",
    "\tX_norm = X  - m\r\n",
    "\tu, s, v = np.linalg.svd(X_norm)\r\n",
    "\tV = v.T[:,0]\r\n",
    "\r\n",
    "\treturn m, V\r\n",
    "\r\n",
    "def line_line_intersection(v1, p1, v2, p2, lambdas = False):\r\n",
    "\ttry:\r\n",
    "\t\tlamb1, lamb2 =  np.linalg.inv(np.array((v1.flatten(), -1*v2.flatten())).T) @ ((p2-p1).T)\r\n",
    "\texcept np.linalg.LinAlgError:\r\n",
    "\t\tlamb1, lamb2 = 1e15, 1e15\r\n",
    "\r\n",
    "\tif lambdas:\r\n",
    "\t\treturn lamb1, lamb2\r\n",
    "\telse:\r\n",
    "\t\treturn [ (p1 + lamb1*v1), (p2+lamb2*v2) ]"
   ],
   "outputs": [],
   "metadata": {}
  },
  {
   "cell_type": "code",
   "execution_count": null,
   "source": [
    "next_fig()\r\n",
    "#plt.figure()\r\n",
    "fig, ax = plt.subplots(1)\r\n",
    "m, V = find_laser_line(img_rgb)\r\n",
    "p0 = m - V*400\r\n",
    "p1 = m + V*300\r\n",
    "ax.imshow(img_rgb)\r\n",
    "ax.plot([p0[0], p1[0]], [p0[1], p1[1]], \"r\")"
   ],
   "outputs": [],
   "metadata": {}
  },
  {
   "cell_type": "code",
   "execution_count": null,
   "source": [
    "def find_laser_checkboard_intersects(img_rgb, board, rvec, tvec, mtx, dist):\r\n",
    "\trect = get_charuco_rect(board)\r\n",
    "\tpoints, _ = cv2.projectPoints(rect, rvec, tvec, mtx, dist)\r\n",
    "\r\n",
    "\tm, v = find_laser_line(img_rgb)\r\n",
    "\tps = []\r\n",
    "\tlambdas = []\r\n",
    "\tfor p1, p2 in zip(points, np.roll(points, -1, axis=0)):\r\n",
    "\t\tm2 = (p1+p2)/2\r\n",
    "\t\tv2 = p2-p1\r\n",
    "\t\tps.append(line_line_intersection(v,m, v2, m2, lambdas=False)[0])\r\n",
    "\t\tl1, l2 = line_line_intersection(v,m, v2, m2, lambdas=True)\r\n",
    "\t\tlambdas.append(l1)\r\n",
    "\r\n",
    "\t# The closest positive lambda \r\n",
    "\tl0 = min([l for l in lambdas if l > 0])\r\n",
    "\t# The closest negative lambda\r\n",
    "\tl1 = max([l for l in lambdas if l < 0])\r\n",
    "\r\n",
    "\tx0 = (m + l0*v).flatten()\r\n",
    "\tx1 = (m + l1*v).flatten()\r\n",
    "\treturn x0, x1"
   ],
   "outputs": [],
   "metadata": {}
  },
  {
   "cell_type": "code",
   "execution_count": null,
   "source": [
    "next_fig()\r\n",
    "plt.imshow(img_rgb)\r\n",
    "\r\n",
    "# Plot corners\r\n",
    "rect = get_charuco_rect(board)\r\n",
    "points, _ = cv2.projectPoints(rect, rvec, tvec, mtx, dist)\r\n",
    "plt.plot([p[0][0] for p in points],[p[0][1] for p in points], \"r.\")\r\n",
    "\r\n",
    "# Plot laser line\r\n",
    "x0, x1 = find_laser_checkboard_intersects(img_rgb, board, rvec, tvec, mtx, dist)\r\n",
    "plt.plot((x0[0],x1[0]),(x0[1],x1[1]), \"k\")\r\n",
    "\r\n",
    "# Plot sample points\r\n",
    "vec_size = np.linalg.norm(x0-x1)\r\n",
    "N = int(vec_size//20)\r\n",
    "points = [x0 + (x1-x0)*i/N for i in range(1, N)]\r\n",
    "plt.plot([x[0] for x in points],[x[1] for x in points], \"r.\")"
   ],
   "outputs": [],
   "metadata": {}
  },
  {
   "cell_type": "code",
   "execution_count": null,
   "source": [
    "def bilinear_interpolate(im, x, y):\r\n",
    "    x = np.asarray(x)\r\n",
    "    y = np.asarray(y)\r\n",
    "\r\n",
    "    x0 = np.floor(x).astype(int)\r\n",
    "    x1 = x0 + 1\r\n",
    "    y0 = np.floor(y).astype(int)\r\n",
    "    y1 = y0 + 1\r\n",
    "\r\n",
    "    x0 = np.clip(x0, 0, im.shape[1]-1);\r\n",
    "    x1 = np.clip(x1, 0, im.shape[1]-1);\r\n",
    "    y0 = np.clip(y0, 0, im.shape[0]-1);\r\n",
    "    y1 = np.clip(y1, 0, im.shape[0]-1);\r\n",
    "\r\n",
    "    Ia = im[ y0, x0 ]\r\n",
    "    Ib = im[ y1, x0 ]\r\n",
    "    Ic = im[ y0, x1 ]\r\n",
    "    Id = im[ y1, x1 ]\r\n",
    "\r\n",
    "    wa = (x1-x) * (y1-y)\r\n",
    "    wb = (x1-x) * (y-y0)\r\n",
    "    wc = (x-x0) * (y1-y)\r\n",
    "    wd = (x-x0) * (y-y0)\r\n",
    "\r\n",
    "    return wa*Ia + wb*Ib + wc*Ic + wd*Id\r\n",
    "\r\n",
    "im = np.zeros((25,25))\r\n",
    "im[20,14]=91\r\n",
    "im[21,14]=162\r\n",
    "im[20,15]=210\r\n",
    "im[21,15]=95\r\n",
    "\r\n",
    "bilinear_interpolate(im, 14.5, 20.2)"
   ],
   "outputs": [],
   "metadata": {}
  },
  {
   "cell_type": "code",
   "execution_count": null,
   "source": [
    "# next_fig()\r\n",
    "plt.imshow(img_rgb)\r\n",
    "\r\n",
    "# Plot laser line\r\n",
    "x0, x1 = find_laser_checkboard_intersects(img_rgb, board, rvec, tvec, mtx, dist)\r\n",
    "plt.plot((x0[0],x1[0]),(x0[1],x1[1]), \"k\")\r\n",
    "\r\n",
    "# Line, perp. line\r\n",
    "m, v = find_laser_line(img_rgb)\r\n",
    "vperp = np.array([-v[1], v[0]])\r\n",
    "\r\n",
    "# Plot sample points\r\n",
    "vec_size = np.linalg.norm(x0-x1)\r\n",
    "N = int(vec_size//20)\r\n",
    "points = [x0 + (x1-x0)*i/N for i in range(1, N)]\r\n",
    "psup = [p - vperp*100 for p in points]\r\n",
    "pinf = [p + vperp*100 for p in points]\r\n",
    "for inf, sup in zip(pinf, psup):\r\n",
    "\tplt.plot([inf[0], sup[0]],[inf[1], sup[1]], \"r\")"
   ],
   "outputs": [],
   "metadata": {}
  },
  {
   "cell_type": "code",
   "execution_count": null,
   "source": [
    "def find_laser_midpoint(img_rgb, point, vperp,):\r\n",
    "\tim = cv2.GaussianBlur(img_rgb, ksize=(5,5), sigmaX=1)\r\n",
    "\tsamples = [point + vperp*l for l in np.linspace(-40,40,50)]\r\n",
    "\r\n",
    "\tintensities = bilinear_interpolate(red_contrast(im), [x[0] for x in samples], [x[1] for x in samples])\r\n",
    "\r\n",
    "\tintensities[(intensities - np.mean(intensities))/np.std(intensities) < 2] = 0 \r\n",
    "\tcentroid = np.sum(intensities * np.arange(intensities.shape[0])) / np.sum(intensities)\r\n",
    "\r\n",
    "\t# max_int_point = samples[int(np.round(centroid))]\r\n",
    "\tmax_intensity = np.argmax(intensities)\r\n",
    "\tmax_int_point = samples[max_intensity]\r\n",
    "\treturn max_int_point"
   ],
   "outputs": [],
   "metadata": {}
  },
  {
   "cell_type": "code",
   "execution_count": null,
   "source": [
    "%matplotlib widget\r\n",
    "p = points[8]\r\n",
    "\r\n",
    "im = cv2.GaussianBlur(img_rgb, ksize=(5,5), sigmaX=1)\r\n",
    "\r\n",
    "samples = [p + vperp*l for l in np.linspace(-40,40,50)]\r\n",
    "\r\n",
    "intensities = bilinear_interpolate(red_contrast(im), [x[0] for x in samples], [x[1] for x in samples])\r\n",
    "max_intensity = np.argmax(intensities)\r\n",
    "max_int_point = samples[max_intensity]\r\n",
    "print(max_int_point)\r\n",
    "\r\n",
    "intensities[(intensities - np.mean(intensities))/np.std(intensities) < 2] = 0 \r\n",
    "centroid = np.sum(intensities * np.arange(intensities.shape[0])) / np.sum(intensities)\r\n",
    "plt.plot(intensities)\r\n",
    "plt.axvline(max_intensity, color=\"g\")\r\n",
    "plt.axvline(centroid, color=\"b\")\r\n",
    "\r\n",
    "plt.figure()\r\n",
    "\r\n",
    "plt.imshow(red_contrast(img_rgb))\r\n",
    "plt.plot([x[0] for x in samples], [x[1] for x in samples], \"r.\")\r\n",
    "plt.plot(max_int_point[0], max_int_point[1], \"g.\")\r\n",
    "\r\n",
    "max_int_point = samples[int(np.round(centroid))]\r\n",
    "plt.plot(max_int_point[0], max_int_point[1], \"b.\")"
   ],
   "outputs": [],
   "metadata": {}
  },
  {
   "cell_type": "code",
   "execution_count": null,
   "source": [
    "# next_fig()\r\n",
    "plt.imshow(img_rgb)\r\n",
    "\r\n",
    "# Plot laser line\r\n",
    "x0, x1 = find_laser_checkboard_intersects(img_rgb, board, rvec, tvec, mtx, dist)\r\n",
    "\r\n",
    "# Line, perp. line\r\n",
    "m, v = find_laser_line(img_rgb)\r\n",
    "vperp = np.array([-v[1], v[0]])\r\n",
    "\r\n",
    "# Find sampling points along laser\r\n",
    "vec_size = np.linalg.norm(x0-x1)\r\n",
    "N = int(vec_size//20)\r\n",
    "points = [x0 + (x1-x0)*i/N for i in range(1, N)]\r\n",
    "\r\n",
    "# Find laser image points precisely\r\n",
    "precise_points = [find_laser_midpoint(img_rgb, p, vperp) for p in points]\r\n",
    "\r\n",
    "# plot\r\n",
    "plt.figure()\r\n",
    "plt.imshow(img_rgb)\r\n",
    "plt.plot([x[0] for x in points], [x[1] for x in points], \"k.\")\r\n",
    "plt.plot([x[0] for x in precise_points], [x[1] for x in precise_points], \"g.\")"
   ],
   "outputs": [],
   "metadata": {}
  },
  {
   "cell_type": "code",
   "execution_count": null,
   "source": [
    "def collect_laser_points(img_rgb, board, rvec, tvec, mtx, dist):\r\n",
    "\t# Find laser line limits in checkerboard\r\n",
    "\tx0, x1 = find_laser_checkboard_intersects(img_rgb, board, rvec, tvec, mtx, dist)\r\n",
    "\r\n",
    "\t# Find vector perp to laser line\r\n",
    "\tm, v = find_laser_line(img_rgb)\r\n",
    "\tvperp = np.array([-v[1], v[0]])\r\n",
    "\r\n",
    "\t# Find sampling points along laser\r\n",
    "\tvec_size = np.linalg.norm(x0-x1)\r\n",
    "\tN = int(vec_size//20)\r\n",
    "\tpoints = [x0 + (x1-x0)*i/N for i in range(1, N)]\r\n",
    "\r\n",
    "\t# Find laser image points precisely\r\n",
    "\tprecise_points = [find_laser_midpoint(img_rgb, p, vperp) for p in points]\r\n",
    "\r\n",
    "\treturn precise_points"
   ],
   "outputs": [],
   "metadata": {}
  },
  {
   "cell_type": "markdown",
   "source": [
    "## Triangular pontos com plano do chessboard"
   ],
   "metadata": {}
  },
  {
   "cell_type": "code",
   "execution_count": null,
   "source": [
    "def chess_plane(rvec, tvec):\r\n",
    "\t# Find p\r\n",
    "\tn_chessboard = np.array([0, 0, 1])\r\n",
    "\tM,_ = cv2.Rodrigues(rvec)\r\n",
    "\tn3 = M@n_chessboard\r\n",
    "\tp = -1 * n3@tvec\r\n",
    "\tn = np.hstack((n3,p))\r\n",
    "\treturn n"
   ],
   "outputs": [],
   "metadata": {}
  },
  {
   "cell_type": "code",
   "execution_count": null,
   "source": [
    "X = []\r\n",
    "for points, img, img_rgb, ids in zip(corners_list, imgs, imgs_rgb, id_list):\r\n",
    "\tret, rvec, tvec = cv2.aruco.estimatePoseCharucoBoard(points, ids, board, mtx, dist, None, None)\r\n",
    "\r\n",
    "\tpoints2d = collect_laser_points(img_rgb, board, rvec, tvec, mtx, dist)\r\n",
    "\tn = chess_plane(rvec, tvec)\r\n",
    "\tpoints3d = [ray_plane_intersect(p, n, mtx) for p in points2d]\r\n",
    "\tX.append(points3d)"
   ],
   "outputs": [],
   "metadata": {}
  },
  {
   "cell_type": "code",
   "execution_count": null,
   "source": [
    "X = np.vstack(X)"
   ],
   "outputs": [],
   "metadata": {}
  },
  {
   "cell_type": "code",
   "execution_count": null,
   "source": [
    "Xa = np.hstack((X, np.ones((X.shape[0], 1))))"
   ],
   "outputs": [],
   "metadata": {}
  },
  {
   "cell_type": "code",
   "execution_count": null,
   "source": [
    "ax + by + cz + d = 0"
   ],
   "outputs": [],
   "metadata": {}
  },
  {
   "cell_type": "code",
   "execution_count": null,
   "source": [
    "Xa"
   ],
   "outputs": [],
   "metadata": {}
  },
  {
   "cell_type": "code",
   "execution_count": null,
   "source": [
    "u, s, v = np.linalg.svd(Xa)\r\n",
    "print(s)\r\n",
    "print(v)"
   ],
   "outputs": [],
   "metadata": {}
  },
  {
   "cell_type": "code",
   "execution_count": null,
   "source": [
    "n = v.T[:,-1]\r\n",
    "Xa @ n"
   ],
   "outputs": [],
   "metadata": {}
  },
  {
   "cell_type": "code",
   "execution_count": null,
   "source": [
    "for points, img, img_rgb, ids in zip(corners_list, imgs, imgs_rgb, id_list):\r\n",
    "\tret, rvec, tvec = cv2.aruco.estimatePoseCharucoBoard(points, ids, board, mtx, dist, None, None)\r\n",
    "\r\n",
    "\tpoints2d = collect_laser_points(img_rgb, board, rvec, tvec, mtx, dist)\r\n",
    "\r\n",
    "\tnc = chess_plane(rvec, tvec)\r\n",
    "\r\n",
    "\tpoints3d_chess = [ray_plane_intersect(p, nc, mtx) for p in points2d]\r\n",
    "\tpoints3d_triang = [ray_plane_intersect(p, n, mtx) for p in points2d]\r\n",
    "\r\n",
    "\t# print(np.array(points3d_chess) - np.array(points3d_triang))\r\n",
    "\tprint(np.allclose(points3d_chess, points3d_triang, rtol=0.1))"
   ],
   "outputs": [],
   "metadata": {}
  },
  {
   "cell_type": "code",
   "execution_count": null,
   "source": [
    "X.shape"
   ],
   "outputs": [],
   "metadata": {}
  },
  {
   "cell_type": "code",
   "execution_count": null,
   "source": [
    "import matplotlib.pyplot as plt\r\n",
    "from mpl_toolkits.mplot3d import Axes3D\r\n",
    "fig = plt.figure()\r\n",
    "ax = fig.add_subplot(111, projection='3d')\r\n",
    "\r\n",
    "ax.scatter(Xa[:,0], Xa[:,1], Xa[:,2])"
   ],
   "outputs": [],
   "metadata": {}
  },
  {
   "cell_type": "code",
   "execution_count": null,
   "source": [
    "def find_laser_borders(img_rgb):\r\n",
    "\th, w,_ = img_rgb.shape\r\n",
    "\tpoints=np.array([\r\n",
    "\t\t[0,0],\r\n",
    "\t\t[w,0],\r\n",
    "\t\t[w,h],\r\n",
    "\t\t[0,h],\r\n",
    "\t])\r\n",
    "\r\n",
    "\tm, v = find_laser_line(img_rgb, crop=False)\r\n",
    "\tprint(m,v)\r\n",
    "\tps = []\r\n",
    "\tlambdas = []\r\n",
    "\tfor p1, p2 in zip(points, np.roll(points, -1, axis=0)):\r\n",
    "\t\tm2 = (p1+p2)/2\r\n",
    "\t\tv2 = p2-p1\r\n",
    "\t\tps.append(line_line_intersection(v,m, v2, m2, lambdas=False)[0])\r\n",
    "\t\tl1, l2 = line_line_intersection(v,m, v2, m2, lambdas=True)\r\n",
    "\t\tlambdas.append(l1)\r\n",
    "\r\n",
    "\t# The closest positive lambda \r\n",
    "\tl0 = min([l for l in lambdas if l > 0])\r\n",
    "\t# The closest negative lambda\r\n",
    "\tl1 = max([l for l in lambdas if l < 0])\r\n",
    "\r\n",
    "\tx0 = (m + l0*v).flatten()\r\n",
    "\tx1 = (m + l1*v).flatten()\r\n",
    "\treturn x0, x1\r\n",
    "\r\n",
    "def find_laser_midpoint_horiz(img_rgb, x):\r\n",
    "\tim = cv2.GaussianBlur(img_rgb, ksize=(5,5), sigmaX=1)\r\n",
    "\th, w = im.shape[:2]\r\n",
    "\t\r\n",
    "\ty = np.arange(0, h)\r\n",
    "\tx = np.ones_like(y) * x\r\n",
    "\r\n",
    "\tintensities = red_contrast(im)[y, x]\r\n",
    "\tintensities[(intensities - np.mean(intensities))/np.std(intensities) < 2] = 0 \r\n",
    "\tcentroid = np.sum(intensities * np.arange(intensities.shape[0])) / np.sum(intensities)\r\n",
    "\r\n",
    "\t# max_int_point = samples[int(np.round(centroid))]\r\n",
    "\tmax_intensity = np.argmax(intensities)\r\n",
    "\tmax_int_point = (x[max_intensity], y[max_intensity])\r\n",
    "\tif (max_intensity > 0):\r\n",
    "\t\treturn max_int_point\r\n",
    "\t\r\n",
    "def find_points(img_rgb):\r\n",
    "    # Find vector perp to laser line\r\n",
    "\th, w = img_rgb.shape[:2]\r\n",
    "\tvperp = np.array([0, -1])\r\n",
    "\r\n",
    "\t# Find laser image points precisely\r\n",
    "\tprecise_points = [find_laser_midpoint_horiz(img_rgb, x) for x in range(0, w, 10)]\r\n",
    "\tprecise_points = [p for p in precise_points if p is not None]\r\n",
    "\r\n",
    "\treturn precise_points"
   ],
   "outputs": [],
   "metadata": {}
  },
  {
   "cell_type": "code",
   "execution_count": null,
   "source": [
    "# plt.imshow(image)\r\n",
    "# plt.imshow(red_contrast(image))\r\n",
    "plt.figure()\r\n",
    "plt.imshow(find_laser(image, std=4, crop=False))\r\n",
    "plt.figure()\r\n",
    "plt.imshow(cv2.cvtColor(image, cv2.COLOR_RGB2GRAY) > 210)\r\n",
    "plt.figure()\r\n",
    "plt.hist(cv2.cvtColor(image, cv2.COLOR_RGB2GRAY).flatten(), bins=255)\r\n",
    "plt.figure()\r\n",
    "plt.imshow(image)"
   ],
   "outputs": [],
   "metadata": {}
  },
  {
   "cell_type": "code",
   "execution_count": null,
   "source": [
    "%matplotlib qt5\r\n",
    "# def calibrate_charuco(dirpath, image_format, marker_length, square_length, prior=None, plot=False):\r\n",
    "dirpath = r'C:\\Users\\Pedro\\Desktop\\TCC\\Code\\Imagens\\testEnder_v0\\pics'\r\n",
    "image_format = 'jpg'\r\n",
    "\r\n",
    "p3d=[]\r\n",
    "for img in pathlib.Path(dirpath).glob(f\"*.{image_format}\"):\r\n",
    "\timage = cv2.cvtColor(cv2.imread(str(img)), cv2.COLOR_BGR2RGB)\r\n",
    "\timg_gray = cv2.cvtColor(image, cv2.COLOR_BGR2GRAY)\r\n",
    "\r\n",
    "\timg_gray = cv2.undistort(img_gray, mtx, dist, None, mtx)\r\n",
    "\timage = cv2.undistort(image, mtx, dist, None, mtx)\r\n",
    "\r\n",
    "\r\n",
    "\tprint(\"hi\")\r\n",
    "\ttry:\r\n",
    "\t\tlaser_mask = find_laser(image, crop=False) | (img_gray > 210)\r\n",
    "\t\tpoints = find_points(image * laser_mask[:,:,np.newaxis])\r\n",
    "\t\tpoints_3d = [ray_plane_intersect(p, n, mtx) for p in points]\r\n",
    "\t\tif len(points_3d) ==0:\r\n",
    "\t\t\tplt.imshow(image)\r\n",
    "\t\t\tprint(points)\r\n",
    "\t\t\tplt.plot([p[0] for p in points], [p[1] for p in points])\r\n",
    "\t\t\tplt.show()\r\n",
    "\t\t\tbreak\r\n",
    "\t\tp3d.append(points_3d)\r\n",
    "\t\tprint(f\"done with {str(img)}\")\r\n",
    "\texcept Exception as e:\r\n",
    "\t\tprint(e)\r\n",
    "\t\tcontinue"
   ],
   "outputs": [],
   "metadata": {}
  },
  {
   "cell_type": "code",
   "execution_count": null,
   "source": [
    "p3d\r\n",
    "X=[]\r\n",
    "for i, v in enumerate(p3d):\r\n",
    "    print(len(v))\r\n",
    "    if v:\r\n",
    "        X.append(np.vstack(v)+ [0, i, 0])\r\n",
    "X = np.vstack(X)"
   ],
   "outputs": [],
   "metadata": {}
  },
  {
   "cell_type": "code",
   "execution_count": null,
   "source": [
    "X"
   ],
   "outputs": [],
   "metadata": {}
  },
  {
   "cell_type": "code",
   "execution_count": null,
   "source": [
    "p3d = np.array(p3d)\r\n",
    "fig = plt.figure()\r\n",
    "ax = fig.add_subplot(111, projection='3d')\r\n",
    "\r\n",
    "ax.scatter(X[:,0], X[:,1], X[:,2])"
   ],
   "outputs": [],
   "metadata": {}
  },
  {
   "cell_type": "code",
   "execution_count": null,
   "source": [
    "gen = (zip(corners_list, imgs, imgs_rgb, id_list))"
   ],
   "outputs": [],
   "metadata": {}
  }
 ],
 "metadata": {
  "orig_nbformat": 4,
  "language_info": {
   "name": "python",
   "version": "3.8.8",
   "mimetype": "text/x-python",
   "codemirror_mode": {
    "name": "ipython",
    "version": 3
   },
   "pygments_lexer": "ipython3",
   "nbconvert_exporter": "python",
   "file_extension": ".py"
  },
  "kernelspec": {
   "name": "python3",
   "display_name": "Python 3.8.8 64-bit"
  },
  "interpreter": {
   "hash": "de010e02af0182a46e1d4f2d3d86aae38d696d8da1f8c0cf72b589afff73eac1"
  }
 },
 "nbformat": 4,
 "nbformat_minor": 2
}