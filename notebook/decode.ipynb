{
 "cells": [
  {
   "cell_type": "code",
   "execution_count": 2,
   "source": [
    "import pickle\n",
    "import numpy as np\n",
    "import matplotlib.pyplot as plt\n",
    "import matplotlib.animation as animation\n",
    "import cv2\n",
    "import cv2.aruco as aruco\n",
    "import common as c\n",
    "from calib import calibrate_charuco\n",
    "# from utils import load_coefficients, save_coefficients\n",
    "%matplotlib qt5"
   ],
   "outputs": [],
   "metadata": {}
  },
  {
   "cell_type": "code",
   "execution_count": null,
   "source": [
    "with open(\"output.pkl\", \"rb\") as f:\n",
    "    res = pickle.load(f)"
   ],
   "outputs": [],
   "metadata": {}
  },
  {
   "cell_type": "code",
   "execution_count": null,
   "source": [
    "gen = (r for r in res[::-1])"
   ],
   "outputs": [],
   "metadata": {}
  },
  {
   "cell_type": "code",
   "execution_count": null,
   "source": [
    "data = next(gen)\n",
    "p = data[\"point\"]\n",
    "pics_data = data[\"pictures\"]\n",
    "exp = data[\"exposures\"]\n",
    "\n",
    "pics = []\n",
    "for d in pics_data:\n",
    "    pics.append(c.decode(d))\n",
    "\n",
    "fig, axs = plt.subplots(1, len(pics))\n",
    "for ax, p in zip(axs.flatten(), pics):\n",
    "    ax.imshow(p)\n",
    "\n",
    "hdr = c.hdr(pics, exp)\n",
    "plt.figure()\n",
    "plt.imshow(hdr)\n",
    "plt.title(data[\"point\"])"
   ],
   "outputs": [],
   "metadata": {}
  },
  {
   "cell_type": "code",
   "execution_count": null,
   "source": [
    "def gen_hdrs():\n",
    "    for data in res:\n",
    "        hdr = c.hdr(list(c.decode(d) for d in data[\"pictures\"]), data[\"exposures\"])\n",
    "        yield hdr\n",
    "\n",
    "a = c.animate(gen_hdrs())"
   ],
   "outputs": [],
   "metadata": {}
  },
  {
   "cell_type": "code",
   "execution_count": null,
   "source": [
    "def gen_lasers():\n",
    "    for data in res:\n",
    "        hdr = c.hdr(list(c.decode(d) for d in data[\"pictures\"]), data[\"exposures\"])\n",
    "        laser = c.red_contrast(hdr) > 30\n",
    "        yield laser\n",
    "a2 = c.animate(gen_lasers(), interval=100)"
   ],
   "outputs": [],
   "metadata": {}
  }
 ],
 "metadata": {
  "orig_nbformat": 4,
  "language_info": {
   "name": "python",
   "version": "3.9.5",
   "mimetype": "text/x-python",
   "codemirror_mode": {
    "name": "ipython",
    "version": 3
   },
   "pygments_lexer": "ipython3",
   "nbconvert_exporter": "python",
   "file_extension": ".py"
  },
  "kernelspec": {
   "name": "python3",
   "display_name": "Python 3.9.5 64-bit ('tccenv': venv)"
  },
  "interpreter": {
   "hash": "703c8d1975e0ca36ce201e787f076003fab5e4e5ea7a33d5a755a2359f5bcf9b"
  }
 },
 "nbformat": 4,
 "nbformat_minor": 2
}