{
 "cells": [
  {
   "cell_type": "code",
   "execution_count": null,
   "source": [
    "import pickle\r\n",
    "import numpy as np\r\n",
    "import matplotlib.pyplot as plt\r\n",
    "import matplotlib.animation as animation\r\n",
    "import cv2\r\n",
    "import cv2.aruco as aruco\r\n",
    "import common as c\r\n",
    "from calib import calibrate_charuco\r\n",
    "from utils import load_coefficients, save_coefficients\r\n",
    "%matplotlib qt5"
   ],
   "outputs": [],
   "metadata": {}
  },
  {
   "cell_type": "code",
   "execution_count": null,
   "source": [
    "with open(\"output.pkl\", \"rb\") as f:\r\n",
    "    res = pickle.load(f)"
   ],
   "outputs": [],
   "metadata": {}
  },
  {
   "cell_type": "code",
   "execution_count": null,
   "source": [
    "gen = (r for r in res[::-1])"
   ],
   "outputs": [],
   "metadata": {}
  },
  {
   "cell_type": "code",
   "execution_count": null,
   "source": [
    "data = next(gen)\r\n",
    "p = data[\"point\"]\r\n",
    "pics_data = data[\"pictures\"]\r\n",
    "exp = data[\"exposures\"]\r\n",
    "\r\n",
    "pics = []\r\n",
    "for d in pics_data:\r\n",
    "    pics.append(c.decode(d))\r\n",
    "\r\n",
    "fig, axs = plt.subplots(1, len(pics))\r\n",
    "for ax, p in zip(axs.flatten(), pics):\r\n",
    "    ax.imshow(p)\r\n",
    "\r\n",
    "hdr = c.hdr(pics, exp)\r\n",
    "plt.figure()\r\n",
    "plt.imshow(hdr)\r\n",
    "plt.title(data[\"point\"])"
   ],
   "outputs": [],
   "metadata": {}
  },
  {
   "cell_type": "code",
   "execution_count": null,
   "source": [
    "def gen_hdrs():\r\n",
    "    for data in res:\r\n",
    "        hdr = c.hdr(list(c.decode(d) for d in data[\"pictures\"]), data[\"exposures\"])\r\n",
    "        yield hdr\r\n",
    "\r\n",
    "a = c.animate(gen_hdrs())"
   ],
   "outputs": [],
   "metadata": {}
  },
  {
   "cell_type": "code",
   "execution_count": null,
   "source": [
    "def gen_lasers():\r\n",
    "    for data in res:\r\n",
    "        hdr = c.hdr(list(c.decode(d) for d in data[\"pictures\"]), data[\"exposures\"])\r\n",
    "        laser = c.red_contrast(hdr) > 30\r\n",
    "        yield laser\r\n",
    "a2 = c.animate(gen_lasers(), interval=100)"
   ],
   "outputs": [],
   "metadata": {}
  }
 ],
 "metadata": {
  "orig_nbformat": 4,
  "language_info": {
   "name": "python",
   "version": "3.8.0",
   "mimetype": "text/x-python",
   "codemirror_mode": {
    "name": "ipython",
    "version": 3
   },
   "pygments_lexer": "ipython3",
   "nbconvert_exporter": "python",
   "file_extension": ".py"
  },
  "kernelspec": {
   "name": "python3",
   "display_name": "Python 3.8.0 64-bit ('myenv': venv)"
  },
  "interpreter": {
   "hash": "b579e5fbc9ee96b74887e9a62b90c5daaf193ad84cd3e0654970e29f1feb5853"
  }
 },
 "nbformat": 4,
 "nbformat_minor": 2
}