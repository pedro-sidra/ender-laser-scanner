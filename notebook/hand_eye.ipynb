{
 "cells": [
  {
   "cell_type": "markdown",
   "metadata": {},
   "source": [
    "## Setup"
   ]
  },
  {
   "cell_type": "code",
   "execution_count": 2,
   "metadata": {},
   "outputs": [],
   "source": [
    "import matplotlib.pyplot as plt\n",
    "import matplotlib\n",
    "%matplotlib qt\n",
    "# matplotlib.backend\n",
    "# matplotlib.validate_backend(\"GTK3Ag\")"
   ]
  },
  {
   "cell_type": "code",
   "execution_count": 3,
   "metadata": {},
   "outputs": [],
   "source": [
    "import numpy as np\n",
    "from tqdm.auto import tqdm as progressbar\n",
    "import matplotlib.pyplot as plt\n",
    "import pickle\n",
    "import matplotlib.animation as animation\n",
    "import cv2\n",
    "import cv2.aruco as aruco\n",
    "import common as c\n",
    "from os.path import join\n",
    "from calib import calibrate_charuco_local, load_board, load_coefficients, save_coefficients"
   ]
  },
  {
   "cell_type": "code",
   "execution_count": 4,
   "metadata": {},
   "outputs": [],
   "source": [
    "data_path=\"/home/freitas/TCC/ender-laser-scanner/pics/v3_raspi_16x16/\""
   ]
  },
  {
   "cell_type": "code",
   "execution_count": 5,
   "metadata": {},
   "outputs": [
    {
     "name": "stdout",
     "output_type": "stream",
     "text": [
      "(16, 16)\n",
      "9.375\n",
      "12.5\n"
     ]
    }
   ],
   "source": [
    "import json\n",
    "\n",
    "# Calib params\n",
    "with open(\"calib.pkl\", \"rb\") as f:\n",
    "    calib = pickle.load(f)\n",
    "    \n",
    "mtx, dist = load_coefficients(\"/home/freitas/TCC/ender-laser-scanner/calib_data/calibration_charuco.yml\")\n",
    "\n",
    "board, aruco_dict = load_board(\"board.pkl\")\n",
    "\n",
    "print(board.getChessboardSize())\n",
    "print(board.getMarkerLength())\n",
    "print(board.getSquareLength())"
   ]
  },
  {
   "cell_type": "code",
   "execution_count": 6,
   "metadata": {},
   "outputs": [],
   "source": [
    "def load(path):\n",
    "    info = {}\n",
    "    data = []\n",
    "    with open(join(path,\"points.json\")) as f:\n",
    "        info = json.loads(f.read())\n",
    "\n",
    "    for fig, point in info.items():\n",
    "        image =  cv2.cvtColor(cv2.imread(join(path, fig)), cv2.COLOR_BGR2RGB)\n",
    "        image = cv2.undistort(image, mtx, dist, None, mtx)\n",
    "        data.append( (point, image) )\n",
    "\n",
    "    return data\n",
    "\n",
    "\n",
    "arucoParams = aruco.DetectorParameters_create()\n",
    "\n",
    "def find_charuco_pose(image, mtx, dist):\n",
    "    gray = cv2.cvtColor(image, cv2.COLOR_RGB2GRAY)\n",
    "\n",
    "    corners, ids, rejected = aruco.detectMarkers( gray, aruco_dict, cameraMatrix=mtx, parameters=arucoParams, distCoeff=dist)\n",
    "    resp, charuco_corners, charuco_ids = aruco.interpolateCornersCharuco( markerCorners=corners, markerIds=ids, image=gray, board=board, cameraMatrix=mtx, distCoeffs=dist)\n",
    "\n",
    "    if(resp > 6):\n",
    "        retval, rvec, tvec\t=\tcv2.aruco.estimatePoseCharucoBoard(charuco_corners, charuco_ids, board, mtx, dist, None,None)\n",
    "    else:\n",
    "        return None, None\n",
    "    if not retval:\n",
    "        print(\"erro\")\n",
    "    return rvec, tvec"
   ]
  },
  {
   "cell_type": "code",
   "execution_count": 7,
   "metadata": {},
   "outputs": [
    {
     "name": "stdout",
     "output_type": "stream",
     "text": [
      "[[2.64094913e+03 0.00000000e+00 1.61864666e+03]\n",
      " [0.00000000e+00 2.64268137e+03 1.27628315e+03]\n",
      " [0.00000000e+00 0.00000000e+00 1.00000000e+00]]\n",
      "[[ 0.21625407 -0.5614533   0.00181032 -0.00367292  0.34455463]]\n"
     ]
    }
   ],
   "source": [
    "mtx, dist = load_coefficients(\"/home/freitas/TCC/ender-laser-scanner/calib_data/calibration_charuco.yml\")\n",
    "print(mtx)\n",
    "print(dist)"
   ]
  },
  {
   "cell_type": "code",
   "execution_count": 8,
   "metadata": {},
   "outputs": [],
   "source": [
    "data = load(data_path+\"auto_exp\")\n",
    "coords = []\n",
    "\n",
    "for point, image in data:\n",
    "    rvec, tvec = find_charuco_pose(image, mtx, None)\n",
    "    if rvec is None or tvec is None:\n",
    "        print(\"OOPS\")\n",
    "    coords.append((rvec, tvec))"
   ]
  },
  {
   "cell_type": "code",
   "execution_count": 8,
   "metadata": {},
   "outputs": [
    {
     "data": {
      "text/plain": [
       "<matplotlib.animation.ArtistAnimation at 0x7fbfd0041d60>"
      ]
     },
     "execution_count": 8,
     "metadata": {},
     "output_type": "execute_result"
    }
   ],
   "source": [
    "import common as c\n",
    "c.animate((g[1] for g in data))"
   ]
  },
  {
   "cell_type": "markdown",
   "metadata": {},
   "source": [
    "## Funcs"
   ]
  },
  {
   "cell_type": "code",
   "execution_count": 25,
   "metadata": {},
   "outputs": [],
   "source": [
    "rvecs = [d[0] for d in coords]\n",
    "tvecs = [d[1] for d in coords]\n",
    "\n",
    "points = [np.array(d[0]) for d in data]\n",
    "images = [d[1] for d in data]"
   ]
  },
  {
   "cell_type": "markdown",
   "metadata": {},
   "source": [
    "## Plotar Eixos coords"
   ]
  },
  {
   "cell_type": "code",
   "execution_count": 18,
   "metadata": {},
   "outputs": [
    {
     "data": {
      "text/plain": [
       "<matplotlib.legend.Legend at 0x7f537ac79ee0>"
      ]
     },
     "execution_count": 18,
     "metadata": {},
     "output_type": "execute_result"
    }
   ],
   "source": [
    "import matplotlib.pyplot as plt\n",
    "import importlib\n",
    "import common as co\n",
    "importlib.reload(co)\n",
    "from mpl_toolkits.mplot3d import Axes3D\n",
    "import pandas as pd\n",
    "\n",
    "fig, ax = co.plot3d()\n",
    "\n",
    "for (point, image), (rvec, tvec) in zip(data, coords):\n",
    "    inv = np.linalg.inv(co.vec2M(rvec, tvec))\n",
    "    co.plot_axes(ax, inv)\n",
    "\n",
    "# Chessboard\n",
    "ax.scatter(board.chessboardCorners[:,0], board.chessboardCorners[:,1], board.chessboardCorners[:,2], color=\"k\", label=\"Pontos de $CW$\")\n",
    "ax.set_xlabel(\"$x_{CW}$\")\n",
    "ax.set_ylabel(\"$y_{CW}$\")\n",
    "ax.set_zlabel(\"$z_{CW}$\")\n",
    "co.set_axes_equal(ax)\n",
    "\n",
    "plt.title(\"Representação das Transformações $H_{C_i}$\")\n",
    "plt.legend()"
   ]
  },
  {
   "cell_type": "markdown",
   "metadata": {},
   "source": [
    "# Calibração hand-eye\n",
    "\n",
    "Usando 3 DoF, AX = XB reduzido"
   ]
  },
  {
   "cell_type": "code",
   "execution_count": 19,
   "metadata": {},
   "outputs": [
    {
     "name": "stderr",
     "output_type": "stream",
     "text": [
      "No handles with labels found to put in legend.\n"
     ]
    },
    {
     "data": {
      "text/plain": [
       "<mpl_toolkits.mplot3d.art3d.Path3DCollection at 0x7f5378055eb0>"
      ]
     },
     "execution_count": 19,
     "metadata": {},
     "output_type": "execute_result"
    }
   ],
   "source": [
    "fig, ax = co.plot3d()\n",
    "\n",
    "rvec, tvec = coords[0]\n",
    "\n",
    "# camera->Target p/ primeira vista\n",
    "cT0 = co.vec2M(rvec, tvec)\n",
    "ta = []\n",
    "for rvec, tvec in coords[1:]:\n",
    "\n",
    "    # camera->target p/ vista i\n",
    "    cTi = co.vec2M(rvec, tvec)\n",
    "\n",
    "    # Transformada primeira camera -> camera i\n",
    "    Ai = cT0@np.linalg.inv(cTi)\n",
    "\n",
    "    # print(np.round(Ai[:3,:3],2)) # tem que ser I3\n",
    "\n",
    "    # Translação primeira camera -> camera i\n",
    "    ta.append(Ai[:3,3])\n",
    "\n",
    "    # Axes to be sure\n",
    "    co.plot_axes(ax, Ai)\n",
    "\n",
    "co.set_axes_equal(ax)\n",
    "plt.legend()\n",
    "\n",
    "# Scatter dos pontos sem os axes\n",
    "fig, ax = co.plot3d()\n",
    "ta = np.stack(ta).T\n",
    "\n",
    "# Pontos da impressora\n",
    "P = np.stack([d[0] for d in data[1:]]).T\n",
    "p0 = data[0][0]\n",
    "# Tira o primeiro, pq é transformada vista 0 -> vista i\n",
    "P[0] = P[0] - p0[0]\n",
    "P[1] = P[1] - p0[1]\n",
    "P[2] = P[2] - p0[2]\n",
    "\n",
    "ax.scatter(ta[0], ta[1], ta[2])\n",
    "ax.scatter(P[0], P[1], P[2])"
   ]
  },
  {
   "cell_type": "markdown",
   "metadata": {},
   "source": [
    "## Estimar affine"
   ]
  },
  {
   "cell_type": "code",
   "execution_count": 31,
   "metadata": {},
   "outputs": [
    {
     "name": "stdout",
     "output_type": "stream",
     "text": [
      "[[ 0.99849511 -0.02474026  0.04894311 -0.01569438]\n",
      " [ 0.00430178 -0.85437493 -0.51963927  0.08782534]\n",
      " [ 0.05467178  0.51906782 -0.85298276  0.38508257]] 1.0048117570810848\n"
     ]
    }
   ],
   "source": [
    "R, scale = cv2.estimateAffine3D(P.T, ta.T,force_rotation=True)\n",
    "print(R,scale)\n",
    "tal = R[:,:3]@P #+ R[:,3]\n",
    "tal[0] = tal[0] + R[0,3]\n",
    "tal[1] = tal[1] + R[1,3]\n",
    "tal[2] = tal[2] + R[2,3]\n",
    "\n",
    "fig, ax = co.plot3d()\n",
    "ax.scatter(ta[0], ta[1], ta[2])\n",
    "ax.scatter(tal[0], tal[1], tal[2])\n",
    "\n",
    "co.set_axes_equal(ax)\n",
    "np.save(\"/home/freitas/TCC/ender-laser-scanner/calib_data/cam_to_printer\", R)\n",
    "np.savetxt(\"tex/cam_to_printer.txt\", R, delimiter=' & ', fmt='%.4f', newline=' \\\\\\\\\\n')"
   ]
  },
  {
   "cell_type": "markdown",
   "metadata": {},
   "source": [
    "# Usando `cv2.calibrateHandEye`"
   ]
  },
  {
   "cell_type": "code",
   "execution_count": null,
   "metadata": {},
   "outputs": [],
   "source": [
    "R_target2cam = []\n",
    "T_target2cam = []\n",
    "for rvec, tvec in coords:\n",
    "\n",
    "    M = np.linalg.inv(co.vec2M(rvec, tvec))\n",
    "    R_target2cam.append(M[:3,:3])\n",
    "    T_target2cam.append(M[:3,3])\n",
    "\n",
    "R_gripper2base = [np.eye(3) for i in R_target2cam]\n",
    "T_gripper2base = [-np.array(d[0]) for d in data]\n",
    "\n",
    "cv2.calibrateHandEye(R_gripper2base, T_gripper2base, R_target2cam, T_target2cam)"
   ]
  },
  {
   "cell_type": "markdown",
   "metadata": {},
   "source": [
    "# Validar"
   ]
  },
  {
   "cell_type": "code",
   "execution_count": 22,
   "metadata": {},
   "outputs": [
    {
     "name": "stdout",
     "output_type": "stream",
     "text": [
      "[[ 0.99849511 -0.02474026  0.04894311 -0.01569438]\n",
      " [ 0.00430178 -0.85437493 -0.51963927  0.08782534]\n",
      " [ 0.05467178  0.51906782 -0.85298276  0.38508257]]\n"
     ]
    }
   ],
   "source": [
    "print(R)"
   ]
  },
  {
   "cell_type": "code",
   "execution_count": 21,
   "metadata": {},
   "outputs": [
    {
     "name": "stdout",
     "output_type": "stream",
     "text": [
      "(4, 225)\n",
      "[[ 12.5  25.   37.5  50.   62.5  75.   87.5 100.  112.5 125.  137.5 150.\n",
      "  162.5 175.  187.5  12.5  25.   37.5  50.   62.5  75.   87.5 100.  112.5\n",
      "  125.  137.5 150.  162.5 175.  187.5  12.5  25.   37.5  50.   62.5  75.\n",
      "   87.5 100.  112.5 125.  137.5 150.  162.5 175.  187.5  12.5  25.   37.5\n",
      "   50.   62.5  75.   87.5 100.  112.5 125.  137.5 150.  162.5 175.  187.5\n",
      "   12.5  25.   37.5  50.   62.5  75.   87.5 100.  112.5 125.  137.5 150.\n",
      "  162.5 175.  187.5  12.5  25.   37.5  50.   62.5  75.   87.5 100.  112.5\n",
      "  125.  137.5 150.  162.5 175.  187.5  12.5  25.   37.5  50.   62.5  75.\n",
      "   87.5 100.  112.5 125.  137.5 150.  162.5 175.  187.5  12.5  25.   37.5\n",
      "   50.   62.5  75.   87.5 100.  112.5 125.  137.5 150.  162.5 175.  187.5\n",
      "   12.5  25.   37.5  50.   62.5  75.   87.5 100.  112.5 125.  137.5 150.\n",
      "  162.5 175.  187.5  12.5  25.   37.5  50.   62.5  75.   87.5 100.  112.5\n",
      "  125.  137.5 150.  162.5 175.  187.5  12.5  25.   37.5  50.   62.5  75.\n",
      "   87.5 100.  112.5 125.  137.5 150.  162.5 175.  187.5  12.5  25.   37.5\n",
      "   50.   62.5  75.   87.5 100.  112.5 125.  137.5 150.  162.5 175.  187.5\n",
      "   12.5  25.   37.5  50.   62.5  75.   87.5 100.  112.5 125.  137.5 150.\n",
      "  162.5 175.  187.5  12.5  25.   37.5  50.   62.5  75.   87.5 100.  112.5\n",
      "  125.  137.5 150.  162.5 175.  187.5  12.5  25.   37.5  50.   62.5  75.\n",
      "   87.5 100.  112.5 125.  137.5 150.  162.5 175.  187.5]\n",
      " [ 12.5  12.5  12.5  12.5  12.5  12.5  12.5  12.5  12.5  12.5  12.5  12.5\n",
      "   12.5  12.5  12.5  25.   25.   25.   25.   25.   25.   25.   25.   25.\n",
      "   25.   25.   25.   25.   25.   25.   37.5  37.5  37.5  37.5  37.5  37.5\n",
      "   37.5  37.5  37.5  37.5  37.5  37.5  37.5  37.5  37.5  50.   50.   50.\n",
      "   50.   50.   50.   50.   50.   50.   50.   50.   50.   50.   50.   50.\n",
      "   62.5  62.5  62.5  62.5  62.5  62.5  62.5  62.5  62.5  62.5  62.5  62.5\n",
      "   62.5  62.5  62.5  75.   75.   75.   75.   75.   75.   75.   75.   75.\n",
      "   75.   75.   75.   75.   75.   75.   87.5  87.5  87.5  87.5  87.5  87.5\n",
      "   87.5  87.5  87.5  87.5  87.5  87.5  87.5  87.5  87.5 100.  100.  100.\n",
      "  100.  100.  100.  100.  100.  100.  100.  100.  100.  100.  100.  100.\n",
      "  112.5 112.5 112.5 112.5 112.5 112.5 112.5 112.5 112.5 112.5 112.5 112.5\n",
      "  112.5 112.5 112.5 125.  125.  125.  125.  125.  125.  125.  125.  125.\n",
      "  125.  125.  125.  125.  125.  125.  137.5 137.5 137.5 137.5 137.5 137.5\n",
      "  137.5 137.5 137.5 137.5 137.5 137.5 137.5 137.5 137.5 150.  150.  150.\n",
      "  150.  150.  150.  150.  150.  150.  150.  150.  150.  150.  150.  150.\n",
      "  162.5 162.5 162.5 162.5 162.5 162.5 162.5 162.5 162.5 162.5 162.5 162.5\n",
      "  162.5 162.5 162.5 175.  175.  175.  175.  175.  175.  175.  175.  175.\n",
      "  175.  175.  175.  175.  175.  175.  187.5 187.5 187.5 187.5 187.5 187.5\n",
      "  187.5 187.5 187.5 187.5 187.5 187.5 187.5 187.5 187.5]\n",
      " [  0.    0.    0.    0.    0.    0.    0.    0.    0.    0.    0.    0.\n",
      "    0.    0.    0.    0.    0.    0.    0.    0.    0.    0.    0.    0.\n",
      "    0.    0.    0.    0.    0.    0.    0.    0.    0.    0.    0.    0.\n",
      "    0.    0.    0.    0.    0.    0.    0.    0.    0.    0.    0.    0.\n",
      "    0.    0.    0.    0.    0.    0.    0.    0.    0.    0.    0.    0.\n",
      "    0.    0.    0.    0.    0.    0.    0.    0.    0.    0.    0.    0.\n",
      "    0.    0.    0.    0.    0.    0.    0.    0.    0.    0.    0.    0.\n",
      "    0.    0.    0.    0.    0.    0.    0.    0.    0.    0.    0.    0.\n",
      "    0.    0.    0.    0.    0.    0.    0.    0.    0.    0.    0.    0.\n",
      "    0.    0.    0.    0.    0.    0.    0.    0.    0.    0.    0.    0.\n",
      "    0.    0.    0.    0.    0.    0.    0.    0.    0.    0.    0.    0.\n",
      "    0.    0.    0.    0.    0.    0.    0.    0.    0.    0.    0.    0.\n",
      "    0.    0.    0.    0.    0.    0.    0.    0.    0.    0.    0.    0.\n",
      "    0.    0.    0.    0.    0.    0.    0.    0.    0.    0.    0.    0.\n",
      "    0.    0.    0.    0.    0.    0.    0.    0.    0.    0.    0.    0.\n",
      "    0.    0.    0.    0.    0.    0.    0.    0.    0.    0.    0.    0.\n",
      "    0.    0.    0.    0.    0.    0.    0.    0.    0.    0.    0.    0.\n",
      "    0.    0.    0.    0.    0.    0.    0.    0.    0.    0.    0.    0.\n",
      "    0.    0.    0.    0.    0.    0.    0.    0.    0. ]\n",
      " [  1.    1.    1.    1.    1.    1.    1.    1.    1.    1.    1.    1.\n",
      "    1.    1.    1.    1.    1.    1.    1.    1.    1.    1.    1.    1.\n",
      "    1.    1.    1.    1.    1.    1.    1.    1.    1.    1.    1.    1.\n",
      "    1.    1.    1.    1.    1.    1.    1.    1.    1.    1.    1.    1.\n",
      "    1.    1.    1.    1.    1.    1.    1.    1.    1.    1.    1.    1.\n",
      "    1.    1.    1.    1.    1.    1.    1.    1.    1.    1.    1.    1.\n",
      "    1.    1.    1.    1.    1.    1.    1.    1.    1.    1.    1.    1.\n",
      "    1.    1.    1.    1.    1.    1.    1.    1.    1.    1.    1.    1.\n",
      "    1.    1.    1.    1.    1.    1.    1.    1.    1.    1.    1.    1.\n",
      "    1.    1.    1.    1.    1.    1.    1.    1.    1.    1.    1.    1.\n",
      "    1.    1.    1.    1.    1.    1.    1.    1.    1.    1.    1.    1.\n",
      "    1.    1.    1.    1.    1.    1.    1.    1.    1.    1.    1.    1.\n",
      "    1.    1.    1.    1.    1.    1.    1.    1.    1.    1.    1.    1.\n",
      "    1.    1.    1.    1.    1.    1.    1.    1.    1.    1.    1.    1.\n",
      "    1.    1.    1.    1.    1.    1.    1.    1.    1.    1.    1.    1.\n",
      "    1.    1.    1.    1.    1.    1.    1.    1.    1.    1.    1.    1.\n",
      "    1.    1.    1.    1.    1.    1.    1.    1.    1.    1.    1.    1.\n",
      "    1.    1.    1.    1.    1.    1.    1.    1.    1.    1.    1.    1.\n",
      "    1.    1.    1.    1.    1.    1.    1.    1.    1. ]]\n"
     ]
    }
   ],
   "source": [
    "b_corners = cv2.convertPointsToHomogeneous(board.chessboardCorners)[:,0,:].T\n",
    "print(b_corners.shape)\n",
    "print(b_corners)"
   ]
  },
  {
   "cell_type": "code",
   "execution_count": 23,
   "metadata": {},
   "outputs": [
    {
     "name": "stdout",
     "output_type": "stream",
     "text": [
      "(3, 225)\n"
     ]
    }
   ],
   "source": [
    "print((R@b_corners).shape)"
   ]
  },
  {
   "cell_type": "code",
   "execution_count": 27,
   "metadata": {},
   "outputs": [
    {
     "data": {
      "text/plain": [
       "<matplotlib.image.AxesImage at 0x7f5368f53d00>"
      ]
     },
     "execution_count": 27,
     "metadata": {},
     "output_type": "execute_result"
    }
   ],
   "source": [
    "i = 1\n",
    "\n",
    "plt.figure()\n",
    "\n",
    "pts, jac = cv2.projectPoints(board.chessboardCorners,  rvecs[i], tvecs[i],mtx, dist)\n",
    "pts = pts[:,0,:].T\n",
    "plt.plot(pts[0], pts[1], \"r.\", markersize=12)\n",
    "\n",
    "pts, jac = cv2.projectPoints((co.vec2M(rvecs[i],tvecs[i])@b_corners).T[:,:3], np.eye(3),np.zeros((3,1)),mtx, dist)\n",
    "pts = pts[:,0,:].T\n",
    "plt.plot(pts[0], pts[1], \"g.\")\n",
    "\n",
    "plt.imshow(data[i][1])"
   ]
  },
  {
   "cell_type": "code",
   "execution_count": 28,
   "metadata": {},
   "outputs": [],
   "source": [
    "fig, ax = co.plot3d()\n",
    "\n",
    "i = 1\n",
    "j = 2\n",
    "\n",
    "X = np.eye(4)\n",
    "X[:3,:3] = np.linalg.inv(R[:3,:3])\n",
    "\n",
    "A = np.eye(4)\n",
    "A[:3,3] = R[:3,:3]@(points[j]-points[i])\n",
    "\n",
    "co.plot_axes(ax, np.eye(4), scale=100)\n",
    "board_i = co.vec2M(rvecs[i], tvecs[i])@b_corners\n",
    "\n",
    "board_j = co.vec2M(rvecs[j], tvecs[j])@b_corners\n",
    "board_j_from_i = np.linalg.inv(A)@board_i\n",
    "\n",
    "board_i = X@board_i\n",
    "board_j = X@board_j\n",
    "board_j_from_i = X@board_j_from_i\n",
    "ax.scatter(board_i[0], board_i[1], board_i[2])\n",
    "ax.scatter(board_j[0], board_j[1], board_j[2])\n",
    "ax.scatter(board_j_from_i[0], board_j_from_i[1], board_j_from_i[2])\n",
    "ax.invert_zaxis()\n",
    "\n",
    "co.set_axes_equal(ax)"
   ]
  },
  {
   "cell_type": "code",
   "execution_count": 29,
   "metadata": {},
   "outputs": [
    {
     "name": "stdout",
     "output_type": "stream",
     "text": [
      "[[ 9.98495113e-01 -2.47402597e-02  4.89431148e-02  5.49172312e+01]\n",
      " [ 4.30178077e-03 -8.54374929e-01 -5.19639275e-01  2.36597942e-01]\n",
      " [ 5.46717808e-02  5.19067819e-01 -8.52982764e-01  3.00694794e+00]\n",
      " [ 0.00000000e+00  0.00000000e+00  0.00000000e+00  1.00000000e+00]]\n",
      "[[ 9.98495113e-01 -2.47402597e-02  4.89431148e-02  5.49172312e+01]\n",
      " [ 4.30178077e-03 -8.54374929e-01 -5.19639275e-01  2.36597942e-01]\n",
      " [ 5.46717808e-02  5.19067819e-01 -8.52982764e-01  3.00694794e+00]\n",
      " [ 0.00000000e+00  0.00000000e+00  0.00000000e+00  1.00000000e+00]]\n",
      "[[0. 0. 0. 0.]\n",
      " [0. 0. 0. 0.]\n",
      " [0. 0. 0. 0.]\n",
      " [0. 0. 0. 0.]]\n",
      "[[ 2.22044605e-16  6.47679590e-19  1.89391665e-18  0.00000000e+00]\n",
      " [ 9.20229275e-19  0.00000000e+00 -1.36929048e-17  0.00000000e+00]\n",
      " [ 1.52365471e-17 -1.15125073e-17 -1.11022302e-16  0.00000000e+00]\n",
      " [ 0.00000000e+00  0.00000000e+00  0.00000000e+00  0.00000000e+00]]\n"
     ]
    }
   ],
   "source": [
    "i = 1\n",
    "j = 2\n",
    "\n",
    "A = np.eye(4)\n",
    "A[:3,3] = R[:3,:3]@(points[j]-points[i])\n",
    "\n",
    "X = np.eye(4)\n",
    "X[:3,:3] = R[:3,:3]\n",
    "\n",
    "B = np.eye(4)\n",
    "B[:3,3] = points[j] - points[i]\n",
    "\n",
    "print(A@X)\n",
    "print(X@B)\n",
    "print((A@X) - (X@B))\n",
    "print((X@B@np.linalg.inv(X)) - (A))"
   ]
  }
 ],
 "metadata": {
  "interpreter": {
   "hash": "0eb69cb1405e1aa85187cad1df043fd8f3e81222460c158cc7c5a31440b4b770"
  },
  "kernelspec": {
   "display_name": "Python 3.9.5 64-bit ('tccenv': venv)",
   "name": "python3"
  },
  "language_info": {
   "codemirror_mode": {
    "name": "ipython",
    "version": 3
   },
   "file_extension": ".py",
   "mimetype": "text/x-python",
   "name": "python",
   "nbconvert_exporter": "python",
   "pygments_lexer": "ipython3",
   "version": "3.9.5"
  },
  "orig_nbformat": 4
 },
 "nbformat": 4,
 "nbformat_minor": 2
}
