{
 "cells": [
  {
   "cell_type": "markdown",
   "source": [
    "## Setup"
   ],
   "metadata": {}
  },
  {
   "cell_type": "code",
   "execution_count": null,
   "source": [
    "import matplotlib.pyplot as plt\n",
    "import matplotlib\n",
    "%matplotlib qt\n",
    "# matplotlib.backend\n",
    "# matplotlib.validate_backend(\"GTK3Ag\")"
   ],
   "outputs": [],
   "metadata": {}
  },
  {
   "cell_type": "code",
   "execution_count": null,
   "source": [
    "import numpy as np\n",
    "from tqdm.auto import tqdm as progressbar\n",
    "import matplotlib.pyplot as plt\n",
    "import pickle\n",
    "import matplotlib.animation as animation\n",
    "import cv2\n",
    "import cv2.aruco as aruco\n",
    "import common as c\n",
    "from os.path import join\n",
    "from calib import calibrate_charuco_local, load_board, load_coefficients, save_coefficients"
   ],
   "outputs": [],
   "metadata": {}
  },
  {
   "cell_type": "code",
   "execution_count": null,
   "source": [
    "data_path=\"/home/freitas/TCC/ender-laser-scanner/pics/v1_raspi/\""
   ],
   "outputs": [],
   "metadata": {}
  },
  {
   "cell_type": "code",
   "execution_count": null,
   "source": [
    "import json\n",
    "\n",
    "# Calib params\n",
    "with open(\"calib.pkl\", \"rb\") as f:\n",
    "    calib = pickle.load(f)\n",
    "    \n",
    "mtx, dist = load_coefficients(\"/home/freitas/TCC/ender-laser-scanner/calib_data/calibration_charuco.yml\")\n",
    "\n",
    "board, aruco_dict = load_board(\"board.pkl\")\n",
    "\n",
    "print(board.getChessboardSize())\n",
    "print(board.getMarkerLength())\n",
    "print(board.getSquareLength())"
   ],
   "outputs": [],
   "metadata": {}
  },
  {
   "cell_type": "code",
   "execution_count": null,
   "source": [
    "def load(path):\n",
    "    info = {}\n",
    "    data = []\n",
    "    with open(join(path,\"points.json\")) as f:\n",
    "        info = json.loads(f.read())\n",
    "\n",
    "    for fig, point in info.items():\n",
    "        image =  cv2.cvtColor(cv2.imread(join(path, fig)), cv2.COLOR_BGR2RGB)\n",
    "        image = cv2.undistort(image, mtx, dist, None, mtx)\n",
    "        data.append( (point, image) )\n",
    "\n",
    "    return data\n",
    "\n",
    "\n",
    "arucoParams = aruco.DetectorParameters_create()\n",
    "\n",
    "def find_charuco_pose(image, mtx, dist):\n",
    "    gray = cv2.cvtColor(image, cv2.COLOR_RGB2GRAY)\n",
    "\n",
    "    corners, ids, rejected = aruco.detectMarkers( gray, aruco_dict, cameraMatrix=mtx, parameters=arucoParams, distCoeff=dist)\n",
    "    resp, charuco_corners, charuco_ids = aruco.interpolateCornersCharuco( markerCorners=corners, markerIds=ids, image=gray, board=board, cameraMatrix=mtx, distCoeffs=dist)\n",
    "\n",
    "    if(resp > 6):\n",
    "        retval, rvec, tvec\t=\tcv2.aruco.estimatePoseCharucoBoard(charuco_corners, charuco_ids, board, mtx, dist, None,None)\n",
    "    else:\n",
    "        return None, None\n",
    "    if not retval:\n",
    "        print(\"erro\")\n",
    "    return rvec, tvec"
   ],
   "outputs": [],
   "metadata": {}
  },
  {
   "cell_type": "code",
   "execution_count": null,
   "source": [
    "mtx, dist = load_coefficients(\"/home/freitas/TCC/ender-laser-scanner/calib_data/calibration_charuco.yml\")\n",
    "print(mtx)\n",
    "print(dist)"
   ],
   "outputs": [],
   "metadata": {}
  },
  {
   "cell_type": "code",
   "execution_count": null,
   "source": [
    "data = load(data_path+\"auto_exp\")\n",
    "coords = []\n",
    "\n",
    "for point, image in data:\n",
    "    rvec, tvec = find_charuco_pose(image, mtx, None)\n",
    "    if rvec is None or tvec is None:\n",
    "        print(\"OOPS\")\n",
    "    coords.append((rvec, tvec))"
   ],
   "outputs": [],
   "metadata": {}
  },
  {
   "cell_type": "code",
   "execution_count": null,
   "source": [
    "import common as c\n",
    "c.animate((g[1] for g in data))"
   ],
   "outputs": [],
   "metadata": {}
  },
  {
   "cell_type": "markdown",
   "source": [
    "## Funcs"
   ],
   "metadata": {}
  },
  {
   "cell_type": "code",
   "execution_count": null,
   "source": [
    "rvecs = [d[0] for d in coords]\n",
    "tvecs = [d[1] for d in coords]\n",
    "\n",
    "points = [np.array(d[0]) for d in data]\n",
    "images = [d[1] for d in data]"
   ],
   "outputs": [],
   "metadata": {}
  },
  {
   "cell_type": "markdown",
   "source": [
    "## Plotar Eixos coords"
   ],
   "metadata": {}
  },
  {
   "cell_type": "code",
   "execution_count": null,
   "source": [
    "import matplotlib.pyplot as plt\n",
    "import importlib\n",
    "import common as co\n",
    "importlib.reload(co)\n",
    "from mpl_toolkits.mplot3d import Axes3D\n",
    "import pandas as pd\n",
    "\n",
    "fig, ax = co.plot3d()\n",
    "\n",
    "for (point, image), (rvec, tvec) in zip(data, coords):\n",
    "    inv = np.linalg.inv(co.vec2M(rvec, tvec))\n",
    "    co.plot_axes(ax, inv)\n",
    "\n",
    "# Chessboard\n",
    "ax.scatter(board.chessboardCorners[:,0], board.chessboardCorners[:,1], board.chessboardCorners[:,2], color=\"k\", label=\"board\")\n",
    "co.set_axes_equal(ax)\n",
    "plt.legend()"
   ],
   "outputs": [],
   "metadata": {}
  },
  {
   "cell_type": "markdown",
   "source": [
    "# Calibração hand-eye\n",
    "\n",
    "Usando 3 DoF, AX = XB reduzido"
   ],
   "metadata": {}
  },
  {
   "cell_type": "code",
   "execution_count": null,
   "source": [
    "fig, ax = co.plot3d()\n",
    "\n",
    "rvec, tvec = coords[0]\n",
    "\n",
    "# camera->Target p/ primeira vista\n",
    "cT0 = co.vec2M(rvec, tvec)\n",
    "ta = []\n",
    "for rvec, tvec in coords[1:]:\n",
    "\n",
    "    # camera->target p/ vista i\n",
    "    cTi = co.vec2M(rvec, tvec)\n",
    "\n",
    "    # Transformada primeira camera -> camera i\n",
    "    Ai = cT0@np.linalg.inv(cTi)\n",
    "\n",
    "    # print(np.round(Ai[:3,:3],2)) # tem que ser I3\n",
    "\n",
    "    # Translação primeira camera -> camera i\n",
    "    ta.append(Ai[:3,3])\n",
    "\n",
    "    # Axes to be sure\n",
    "    co.plot_axes(ax, Ai)\n",
    "\n",
    "co.set_axes_equal(ax)\n",
    "plt.legend()\n",
    "\n",
    "# Scatter dos pontos sem os axes\n",
    "fig, ax = co.plot3d()\n",
    "ta = np.stack(ta).T\n",
    "\n",
    "# Pontos da impressora\n",
    "P = np.stack([d[0] for d in data[1:]]).T\n",
    "p0 = data[0][0]\n",
    "# Tira o primeiro, pq é transformada vista 0 -> vista i\n",
    "P[0] = P[0] - p0[0]\n",
    "P[1] = P[1] - p0[1]\n",
    "P[2] = P[2] - p0[2]\n",
    "\n",
    "ax.scatter(ta[0], ta[1], ta[2])\n",
    "ax.scatter(P[0], P[1], P[2])"
   ],
   "outputs": [],
   "metadata": {}
  },
  {
   "cell_type": "markdown",
   "source": [
    "## Estimar affine"
   ],
   "metadata": {}
  },
  {
   "cell_type": "code",
   "execution_count": null,
   "source": [
    "R, scale = cv2.estimateAffine3D(P.T, ta.T,force_rotation=True)\n",
    "print(R,scale)\n",
    "tal = R[:,:3]@P #+ R[:,3]\n",
    "tal[0] = tal[0] + R[0,3]\n",
    "tal[1] = tal[1] + R[1,3]\n",
    "tal[2] = tal[2] + R[2,3]\n",
    "\n",
    "fig, ax = co.plot3d()\n",
    "ax.scatter(ta[0], ta[1], ta[2])\n",
    "ax.scatter(tal[0], tal[1], tal[2])\n",
    "\n",
    "co.set_axes_equal(ax)\n",
    "np.save(\"/home/freitas/TCC/ender-laser-scanner/calib_data/cam_to_printer\", R)"
   ],
   "outputs": [],
   "metadata": {}
  },
  {
   "cell_type": "markdown",
   "source": [
    "# Usando `cv2.calibrateHandEye`"
   ],
   "metadata": {}
  },
  {
   "cell_type": "code",
   "execution_count": null,
   "source": [
    "R_target2cam = []\n",
    "T_target2cam = []\n",
    "for rvec, tvec in coords:\n",
    "\n",
    "    M = np.linalg.inv(co.vec2M(rvec, tvec))\n",
    "    R_target2cam.append(M[:3,:3])\n",
    "    T_target2cam.append(M[:3,3])\n",
    "\n",
    "R_gripper2base = [np.eye(3) for i in R_target2cam]\n",
    "T_gripper2base = [-np.array(d[0]) for d in data]\n",
    "\n",
    "cv2.calibrateHandEye(R_gripper2base, T_gripper2base, R_target2cam, T_target2cam)"
   ],
   "outputs": [],
   "metadata": {}
  },
  {
   "cell_type": "markdown",
   "source": [
    "# Validar"
   ],
   "metadata": {}
  },
  {
   "cell_type": "code",
   "execution_count": null,
   "source": [
    "print(R)"
   ],
   "outputs": [],
   "metadata": {}
  },
  {
   "cell_type": "code",
   "execution_count": null,
   "source": [
    "b_corners = cv2.convertPointsToHomogeneous(board.chessboardCorners)[:,0,:].T\n",
    "print(b_corners.shape)\n",
    "print(b_corners)"
   ],
   "outputs": [],
   "metadata": {}
  },
  {
   "cell_type": "code",
   "execution_count": null,
   "source": [
    "print((R@b_corners).shape)"
   ],
   "outputs": [],
   "metadata": {}
  },
  {
   "cell_type": "code",
   "execution_count": null,
   "source": [
    "i = 1\n",
    "\n",
    "pts, jac = cv2.projectPoints(board.chessboardCorners,  rvecs[i], tvecs[i],mtx, dist)\n",
    "pts = pts[:,0,:].T\n",
    "plt.plot(pts[0], pts[1], \"r.\", markersize=12)\n",
    "\n",
    "pts, jac = cv2.projectPoints((co.vec2M(rvecs[i],tvecs[i])@b_corners).T[:,:3], np.eye(3),np.zeros((3,1)),mtx, dist)\n",
    "pts = pts[:,0,:].T\n",
    "plt.plot(pts[0], pts[1], \"g.\")\n",
    "\n",
    "plt.imshow(data[i][1])"
   ],
   "outputs": [],
   "metadata": {}
  },
  {
   "cell_type": "code",
   "execution_count": null,
   "source": [
    "fig, ax = co.plot3d()\n",
    "\n",
    "i = 1\n",
    "j = 2\n",
    "\n",
    "X = np.eye(4)\n",
    "X[:3,:3] = np.linalg.inv(R[:3,:3])\n",
    "\n",
    "A = np.eye(4)\n",
    "A[:3,3] = R[:3,:3]@(points[j]-points[i])\n",
    "\n",
    "co.plot_axes(ax, np.eye(4), scale=100)\n",
    "board_i = co.vec2M(rvecs[i], tvecs[i])@b_corners\n",
    "\n",
    "board_j = co.vec2M(rvecs[j], tvecs[j])@b_corners\n",
    "board_j_from_i = np.linalg.inv(A)@board_i\n",
    "\n",
    "board_i = X@board_i\n",
    "board_j = X@board_j\n",
    "board_j_from_i = X@board_j_from_i\n",
    "ax.scatter(board_i[0], board_i[1], board_i[2])\n",
    "ax.scatter(board_j[0], board_j[1], board_j[2])\n",
    "ax.scatter(board_j_from_i[0], board_j_from_i[1], board_j_from_i[2])\n",
    "ax.invert_zaxis()\n",
    "\n",
    "co.set_axes_equal(ax)"
   ],
   "outputs": [],
   "metadata": {}
  },
  {
   "cell_type": "code",
   "execution_count": null,
   "source": [
    "i = 1\n",
    "j = 2\n",
    "\n",
    "A = np.eye(4)\n",
    "A[:3,3] = R[:3,:3]@(points[j]-points[i])\n",
    "\n",
    "X = np.eye(4)\n",
    "X[:3,:3] = R[:3,:3]\n",
    "\n",
    "B = np.eye(4)\n",
    "B[:3,3] = points[j] - points[i]\n",
    "\n",
    "print(A@X)\n",
    "print(X@B)\n",
    "print((A@X) - (X@B))\n",
    "print((X@B@np.linalg.inv(X)) - (A))"
   ],
   "outputs": [],
   "metadata": {}
  }
 ],
 "metadata": {
  "orig_nbformat": 4,
  "language_info": {
   "name": "python",
   "version": "3.9.5",
   "mimetype": "text/x-python",
   "codemirror_mode": {
    "name": "ipython",
    "version": 3
   },
   "pygments_lexer": "ipython3",
   "nbconvert_exporter": "python",
   "file_extension": ".py"
  },
  "kernelspec": {
   "name": "python3",
   "display_name": "Python 3.9.5 64-bit ('tccenv': venv)"
  },
  "interpreter": {
   "hash": "703c8d1975e0ca36ce201e787f076003fab5e4e5ea7a33d5a755a2359f5bcf9b"
  }
 },
 "nbformat": 4,
 "nbformat_minor": 2
}