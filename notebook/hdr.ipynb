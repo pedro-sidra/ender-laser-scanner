{
 "cells": [
  {
   "cell_type": "markdown",
   "source": [
    "# Tests with laser HDRs"
   ],
   "metadata": {}
  },
  {
   "cell_type": "markdown",
   "source": [
    "## Setup"
   ],
   "metadata": {}
  },
  {
   "cell_type": "code",
   "execution_count": null,
   "source": [
    "import numpy as np\r\n",
    "import cv2\r\n",
    "import matplotlib.pyplot as plt \r\n",
    "from tqdm.auto import tqdm as progressbar\r\n",
    "import time\r\n",
    "%matplotlib qt5"
   ],
   "outputs": [],
   "metadata": {}
  },
  {
   "cell_type": "code",
   "execution_count": null,
   "source": [
    "import sys\r\n",
    "import time\r\n",
    "sys.path.append(r\"../ender\")\r\n",
    "from snapshot import MjpgSnapshotterExp\r\n",
    "\r\n",
    "\r\n",
    "snap = MjpgSnapshotterExp(\"http://192.168.0.15/webcam/\", ssh_str=\"pi@192.168.0.15\")"
   ],
   "outputs": [],
   "metadata": {}
  },
  {
   "cell_type": "markdown",
   "source": [
    "### Test snapshotter"
   ],
   "metadata": {}
  },
  {
   "cell_type": "code",
   "execution_count": null,
   "source": [
    "snap.set_exposure(50) # \"Ideal\", i.e. red is saturated, G&B is not yet\r\n",
    "snap.set_gain(1) # \"Ideal\", i.e. red is saturated, G&B is not yet\r\n",
    "snap.send_command(\"-csharpness=24\")\r\n",
    "ret, img = snap.read()\r\n",
    "plt.imshow(img)"
   ],
   "outputs": [],
   "metadata": {}
  },
  {
   "cell_type": "markdown",
   "source": [
    "### Get images"
   ],
   "metadata": {}
  },
  {
   "cell_type": "code",
   "execution_count": null,
   "source": [
    "exposures = [25, 50, 100, 500, 1000, 10000]\r\n",
    "exposures_time = np.array(exposures) * 10e-6\r\n",
    "images=[]\r\n",
    "for exp in exposures:\r\n",
    "    ret = False\r\n",
    "    while not ret:\r\n",
    "        print(f\"Getting image for {exp=}\")\r\n",
    "        snap.set_exposure(exp)\r\n",
    "        ret, img = snap.read()\r\n",
    "    images.append(img)"
   ],
   "outputs": [],
   "metadata": {}
  },
  {
   "cell_type": "code",
   "execution_count": null,
   "source": [
    "fig, axs = plt.subplots(2, len(exposures)//2)\r\n",
    "for im, ax in zip(images, axs.flatten()):\r\n",
    "    ax.imshow(im)"
   ],
   "outputs": [],
   "metadata": {}
  },
  {
   "cell_type": "markdown",
   "source": [
    "## HDR\r\n",
    "\r\n",
    "Copiado da [documentaçõao opencv](https://docs.opencv.org/4.5.2/d2/df0/tutorial_py_hdr.html)"
   ],
   "metadata": {}
  },
  {
   "cell_type": "markdown",
   "source": [
    "### Mertens\r\n",
    "Não precisa de set-up nem dos tempos de exposição"
   ],
   "metadata": {}
  },
  {
   "cell_type": "code",
   "execution_count": null,
   "source": [
    "merge_mertens = cv2.createMergeMertens()\r\n",
    "res_mertens = merge_mertens.process(images)\r\n",
    "plt.imshow(res_mertens)"
   ],
   "outputs": [],
   "metadata": {}
  },
  {
   "cell_type": "markdown",
   "source": [
    "### Debevec\r\n",
    "Precisa dos tempos de exposição. ACHO que acertei os tempos da minha camera\r\n",
    "\r\n",
    "Update: não acertei... fica muito errado com a variável `exposure_times`. Com a variável `exposures`, que é o valor absoluto vindo da câmera, fica bem bom. Então deixa assim"
   ],
   "metadata": {}
  },
  {
   "cell_type": "code",
   "execution_count": null,
   "source": [
    "# Merge exposures to HDR image\r\n",
    "merge_debevec = cv2.createMergeDebevec()\r\n",
    "hdr_debevec = merge_debevec.process(images, times=np.array(exposures, dtype=np.float32))\r\n",
    "\r\n",
    "tonemap1 = cv2.createTonemap(gamma=2.2)\r\n",
    "res_debevec = tonemap1.process(hdr_debevec.copy())\r\n",
    "res_debevec = np.clip(res_debevec*255, 0, 255).astype('uint8')\r\n",
    "\r\n",
    "plt.figure()\r\n",
    "plt.imshow(res_debevec)"
   ],
   "outputs": [],
   "metadata": {}
  },
  {
   "cell_type": "markdown",
   "source": [
    "### Robertson"
   ],
   "metadata": {}
  },
  {
   "cell_type": "code",
   "execution_count": null,
   "source": [
    "merge_robertson = cv2.createMergeRobertson()\r\n",
    "hdr_robertson = merge_robertson.process(images, times=np.array(exposures, dtype=np.float32))\r\n",
    "\r\n",
    "tonemap1 = cv2.createTonemap(gamma=2.2)\r\n",
    "res_robertson = tonemap1.process(hdr_robertson)\r\n",
    "res_robertson = np.clip(res_robertson*255, 0, 255).astype('uint8')\r\n",
    "\r\n",
    "plt.figure()\r\n",
    "plt.imshow(res_robertson)"
   ],
   "outputs": [],
   "metadata": {}
  },
  {
   "cell_type": "markdown",
   "source": [
    "### Avaliação\r\n",
    "\r\n",
    "Avaliar usando o contraste vermelho das imagens, já que o objetivo é uma linha de laser clara\r\n",
    "\r\n",
    "**Resultado**\r\n",
    "* Mertens: Resultado razoável com imagens de noite e de dia. Deu imagens com o contraste vermelho bom, mas não muito consistente.\r\n",
    "* Debevec: Funcionou *bem* com imagens de noite e de dia (superexposto de dia). Deu imagens com o contraste vermelho bem pronunciado.\r\n",
    "* Robertson: em imagems com um componente superexposto (luz do dia), robertson deu um resultado final ruim"
   ],
   "metadata": {}
  },
  {
   "cell_type": "code",
   "execution_count": null,
   "source": [
    "def red_contrast(image):\r\n",
    "\timage = image.astype(np.float)\r\n",
    "\treturn image[:,:, 0] - np.mean(image[:,:,1:], axis=-1)"
   ],
   "outputs": [],
   "metadata": {}
  },
  {
   "cell_type": "code",
   "execution_count": null,
   "source": [
    "fig, axs = plt.subplots(2,3, sharex=True, sharey=True)\r\n",
    "axs[0,0].imshow(red_contrast(res_mertens))\r\n",
    "axs[1,0].imshow(res_mertens)\r\n",
    "axs[0,0].set_title(\"Mertens\")\r\n",
    "\r\n",
    "axs[0,1].imshow(red_contrast(res_debevec))\r\n",
    "axs[1,1].imshow(res_debevec)\r\n",
    "axs[0,1].set_title(\"Debevec\")\r\n",
    "\r\n",
    "axs[0,2].imshow(red_contrast(res_robertson))\r\n",
    "axs[1,2].imshow(res_robertson)\r\n",
    "axs[0,2].set_title(\"Robertson\")"
   ],
   "outputs": [],
   "metadata": {}
  },
  {
   "cell_type": "markdown",
   "source": [
    "### Tonemapping e CRF\r\n",
    "usando o método Debevec, que qualitativamente deu o melhor resultado\r\n",
    "\r\n",
    "[Código daqui](https://github.com/abhishek305/Opencv-HDR-demo/blob/master/hdr.py)"
   ],
   "metadata": {}
  },
  {
   "cell_type": "code",
   "execution_count": null,
   "source": [
    "# .Obtain Camera Response Function (CRF)\r\n",
    "print(\"Calculating Camera Response Function (CRF) ... \")\r\n",
    "times=np.array(exposures, dtype=np.float32)\r\n",
    "calibrateDebevec = cv2.createCalibrateDebevec()\r\n",
    "responseDebevec = calibrateDebevec.process(images, times)\r\n",
    "\r\n",
    "# Merge images into an HDR linear image\r\n",
    "print(\"Merging images into one HDR image ... \")\r\n",
    "mergeDebevec = cv2.createMergeDebevec()\r\n",
    "hdrDebevec = mergeDebevec.process(images, times, responseDebevec)\r\n",
    "\r\n",
    "# # Tonemap using Drago's method to obtain 24-bit color image\r\n",
    "print(\"Tonemaping using Drago's method ... \")\r\n",
    "tonemapDrago = cv2.createTonemapDrago(2.2, 0.7)\r\n",
    "ldrDrago = tonemapDrago.process(hdrDebevec)\r\n",
    "ldrDrago = 3 * ldrDrago\r\n",
    "res_drago = np.clip(ldrDrago*255, 0, 255).astype('uint8')\r\n",
    "\r\n",
    "\r\n",
    "# # Tonemap using Reinhard's method to obtain 24-bit color image\r\n",
    "print(\"Tonemaping using Reinhard's method ... \")\r\n",
    "tonemapReinhard = cv2.createTonemapReinhard(2.2, 0,0,0)\r\n",
    "ldrReinhard = tonemapReinhard.process(hdrDebevec)\r\n",
    "res_Reinhard = np.clip(ldrReinhard*255, 0, 255).astype('uint8')\r\n",
    "\r\n",
    "# # Tonemap using Mantiuk's method to obtain 24-bit color image\r\n",
    "print(\"Tonemaping using Mantiuk's method ... \")\r\n",
    "tonemapMantiuk = cv2.createTonemapMantiuk(2.2,0.5, 1.2)\r\n",
    "ldrMantiuk = tonemapMantiuk.process(hdrDebevec)\r\n",
    "ldrMantiuk = 3 * ldrMantiuk\r\n",
    "res_Mantiuk = np.clip(ldrMantiuk*255, 0, 255).astype('uint8')\r\n"
   ],
   "outputs": [],
   "metadata": {}
  },
  {
   "cell_type": "code",
   "execution_count": null,
   "source": [
    "fig, axs = plt.subplots(2,4, sharex=True, sharey=True)\r\n",
    "\r\n",
    "plt.title(\"Tonemaps for Debevec Result\")\r\n",
    "\r\n",
    "axs[0, 0].imshow(res_debevec)\r\n",
    "axs[1, 0].imshow(red_contrast(res_debevec))\r\n",
    "axs[0, 0].set_title(\"Gamma Tonemap\")\r\n",
    "\r\n",
    "axs[0, 1].imshow(res_drago)\r\n",
    "axs[1, 1].imshow(red_contrast(res_drago))\r\n",
    "axs[0, 1].set_title(\"Drago Tonemap\")\r\n",
    "\r\n",
    "axs[0, 2].imshow(res_Reinhard)\r\n",
    "axs[1, 2].imshow(red_contrast(res_Reinhard))\r\n",
    "axs[0, 2].set_title(\"Reinhard Tonemap\")\r\n",
    "\r\n",
    "axs[0, 3].imshow(res_Mantiuk)\r\n",
    "axs[1, 3].imshow(red_contrast(res_Mantiuk))\r\n",
    "axs[0, 3].set_title(\"Mantiuk Tonemap\")"
   ],
   "outputs": [],
   "metadata": {}
  },
  {
   "cell_type": "markdown",
   "source": [
    "## Resultado\r\n",
    "\r\n",
    "Melhor overall é o debevec, menos parâmetros (só o gamma)"
   ],
   "metadata": {}
  },
  {
   "cell_type": "code",
   "execution_count": null,
   "source": [
    "cv2.imwrite(\"images/debevec_board.png\", cv2.cvtColor(res_debevec, cv2.COLOR_RGB2BGR))"
   ],
   "outputs": [],
   "metadata": {}
  },
  {
   "cell_type": "code",
   "execution_count": null,
   "source": [],
   "outputs": [],
   "metadata": {}
  }
 ],
 "metadata": {
  "orig_nbformat": 4,
  "language_info": {
   "name": "python",
   "version": "3.8.0",
   "mimetype": "text/x-python",
   "codemirror_mode": {
    "name": "ipython",
    "version": 3
   },
   "pygments_lexer": "ipython3",
   "nbconvert_exporter": "python",
   "file_extension": ".py"
  },
  "kernelspec": {
   "name": "python3",
   "display_name": "Python 3.8.0 64-bit ('myenv': venv)"
  },
  "interpreter": {
   "hash": "b579e5fbc9ee96b74887e9a62b90c5daaf193ad84cd3e0654970e29f1feb5853"
  }
 },
 "nbformat": 4,
 "nbformat_minor": 2
}