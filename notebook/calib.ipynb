{
 "cells": [
  {
   "cell_type": "code",
   "execution_count": null,
   "source": [],
   "outputs": [],
   "metadata": {}
  },
  {
   "cell_type": "code",
   "execution_count": null,
   "source": [],
   "outputs": [],
   "metadata": {}
  },
  {
   "cell_type": "markdown",
   "source": [
    "## Setup"
   ],
   "metadata": {}
  },
  {
   "cell_type": "code",
   "execution_count": null,
   "source": [
    "import pickle\r\n",
    "from tqdm.auto import tqdm as progressbar\r\n",
    "import numpy as np\r\n",
    "import matplotlib.pyplot as plt\r\n",
    "import matplotlib.animation as animation\r\n",
    "import cv2\r\n",
    "import cv2.aruco as aruco\r\n",
    "import common as c\r\n",
    "import importlib\r\n",
    "importlib.reload(c)\r\n",
    "import common as c\r\n",
    "from calib import calibrate_charuco_local, load_board, load_coefficients, save_coefficients\r\n",
    "%matplotlib qt5"
   ],
   "outputs": [],
   "metadata": {}
  },
  {
   "cell_type": "code",
   "execution_count": null,
   "source": [
    "with open(\"output.pkl\", \"rb\") as f:\r\n",
    "    res = pickle.load(f)\r\n",
    "\r\n",
    "board, aruco_dict = load_board(\"board.pkl\")\r\n",
    "\r\n",
    "images=[]\r\n",
    "for data in progressbar(res):\r\n",
    "    hdr = c.hdr(list(c.decode(d) for d in data[\"pictures\"]), data[\"exposures\"])\r\n",
    "    images.append((data[\"point\"], hdr))"
   ],
   "outputs": [],
   "metadata": {}
  },
  {
   "cell_type": "code",
   "execution_count": null,
   "source": [
    "c.animate((g[1] for g in images))"
   ],
   "outputs": [],
   "metadata": {}
  },
  {
   "cell_type": "markdown",
   "source": [
    "## Funcs"
   ],
   "metadata": {}
  },
  {
   "cell_type": "code",
   "execution_count": null,
   "source": [
    "def mask_rgb(img, mask):\r\n",
    "\tret = np.zeros_like(img)\r\n",
    "\tfor i in range(ret.shape[-1]):\r\n",
    "\t\tret[:,:,i] = img[:,:,i] * mask\r\n",
    "\treturn ret\r\n",
    "\r\n",
    "def get_charuco_rect(board):\r\n",
    "\tdelim = np.max(board.chessboardCorners, axis=0) + board.getSquareLength() * np.array([1, 1, 0])\r\n",
    "\tcorner_points = [\r\n",
    "\t\t[0, 0, 0],\r\n",
    "\t\t[delim[0], 0, 0],\r\n",
    "\t\tdelim,\r\n",
    "\t\t[0, delim[1], 0],\r\n",
    "\t]\r\n",
    "\treturn np.array(corner_points)\r\n",
    "\r\n",
    "def get_charuco_mask(image, board, rvec, tvec, mtx, dist):\r\n",
    "\tif image.ndim==2:\r\n",
    "\t\tmask = np.zeros_like(image)\r\n",
    "\telif image.ndim==3:\r\n",
    "\t\tmask = np.zeros(image.shape[:2])\r\n",
    "\r\n",
    "\trect = get_charuco_rect(board)\r\n",
    "\tpoints, _ = cv2.projectPoints(rect, rvec, tvec, mtx, dist)\r\n",
    "\tproj_points_round = np.round(points, 0).astype(np.int32)\r\n",
    "\tcv2.fillPoly(mask, [proj_points_round], True, 255 )\r\n",
    "\treturn mask\r\n",
    "\r\n",
    "def crop_charuco_board(image, board, rvec, tvec, mtx, dist):\r\n",
    "\tmask = get_charuco_mask(image, board, rvec, tvec, mtx, dist)\r\n",
    "\tif image.ndim == 3:\r\n",
    "\t\treturn mask_rgb(image, mask)\r\n",
    "\telif image.ndim==2:\r\n",
    "\t\treturn mask*image\r\n",
    "\r\n",
    "def chess_plane(rvec, tvec):\r\n",
    "\t# Find p\r\n",
    "\tn_chessboard = np.array([0, 0, 1])\r\n",
    "\tM,_ = cv2.Rodrigues(rvec)\r\n",
    "\tn3 = M@n_chessboard\r\n",
    "\tp = -1 * n3@tvec\r\n",
    "\tn = np.hstack((n3,p))\r\n",
    "\treturn n"
   ],
   "outputs": [],
   "metadata": {}
  },
  {
   "cell_type": "markdown",
   "source": [
    "## Calib"
   ],
   "metadata": {}
  },
  {
   "cell_type": "code",
   "execution_count": null,
   "source": [
    "idxs, mtx, dist, rvecs, tvecs = calibrate_charuco_local((d[1] for d in images), board, aruco_dict,)\r\n",
    "\r\n",
    "# discard boards with not enough points\r\n",
    "images = [ images[i] for i in idxs ]"
   ],
   "outputs": [],
   "metadata": {}
  },
  {
   "cell_type": "markdown",
   "source": [
    "### Calib with prior"
   ],
   "metadata": {}
  },
  {
   "cell_type": "code",
   "execution_count": null,
   "source": [
    "plot = False\r\n",
    "idxs, mtx, dist, rvecs, tvecs = calibrate_charuco_local((d[1] for d in images), board, aruco_dict, prior=(mtx,dist), plot=plot)\r\n",
    "# Once again remove images with too little markers\r\n",
    "images = [images[i] for i in idxs ]\r\n",
    "\r\n",
    "for i, image in enumerate(images):\r\n",
    "    images[i] = image[0], cv2.undistort(image[1], mtx, dist, None, mtx)"
   ],
   "outputs": [],
   "metadata": {}
  },
  {
   "cell_type": "markdown",
   "source": [
    "# Laser"
   ],
   "metadata": {}
  },
  {
   "cell_type": "markdown",
   "source": [
    "## Inspecionar Laser"
   ],
   "metadata": {}
  },
  {
   "cell_type": "code",
   "execution_count": null,
   "source": [
    "def find_board_and_laser(image, rvec, tvec):\r\n",
    "    \"\"\"Crop out the image to contain only charuco board, and find the laser points in this image\r\n",
    "    @param image original image\r\n",
    "    @param rvec rotation vec of the board\r\n",
    "    @param tvec translation vec of the board\r\n",
    "    @returns: (masked, centroids), tuple containing the masked image with only the board, and vector of laser points \"\"\"\r\n",
    "    masked = crop_charuco_board(image, board, rvec, tvec, mtx, dist)\r\n",
    "    centroids = c.column_centroids(c.red_contrast(masked), mask=c.red_contrast(masked)>30)\r\n",
    "    p_centroids = np.stack(list((i, p, 1) for i,p in enumerate(centroids) if not np.isnan(p))).T\r\n",
    "    return masked, p_centroids"
   ],
   "outputs": [],
   "metadata": {}
  },
  {
   "cell_type": "markdown",
   "source": [
    "### Plot de todas as linhas"
   ],
   "metadata": {}
  },
  {
   "cell_type": "code",
   "execution_count": null,
   "source": [
    "n=0\r\n",
    "for (point, image), rvec, tvec in zip(images, rvecs, tvecs):\r\n",
    "    masked, p_centroids = find_board_and_laser(image, rvec, tvec)\r\n",
    "    plt.plot(p_centroids[1], label=n)\r\n",
    "    n+=1\r\n",
    "plt.legend() "
   ],
   "outputs": [],
   "metadata": {}
  },
  {
   "cell_type": "markdown",
   "source": [
    "### Inspecionar linha específica"
   ],
   "metadata": {}
  },
  {
   "cell_type": "code",
   "execution_count": null,
   "source": [
    "i = 19\r\n",
    "(point, image), rvec, tvec = images[i], rvecs[i], tvecs[i]\r\n",
    "masked, p_centroids = find_board_and_laser(image, rvec, tvec)\r\n",
    "plt.imshow(masked)\r\n",
    "plt.plot(p_centroids[0],p_centroids[1])"
   ],
   "outputs": [],
   "metadata": {}
  },
  {
   "cell_type": "markdown",
   "source": [
    "### Animar Laser"
   ],
   "metadata": {}
  },
  {
   "cell_type": "code",
   "execution_count": null,
   "source": [
    "from matplotlib import animation\r\n",
    "\r\n",
    "# First set up the figure, the axis, and the plot element we want to animate\r\n",
    "fig = plt.figure()\r\n",
    "# animation function.  This is called sequentially\r\n",
    "imgplot = None\r\n",
    "pointsplot = None\r\n",
    "\r\n",
    "def init():\r\n",
    "    global imgplot, pointsplot\r\n",
    "    imgplot = plt.imshow(images[0][1], animated=True)\r\n",
    "    pointsplot, = plt.plot(range(images[0][1].shape[0]), \"r\", animated=True)\r\n",
    "    return pointsplot, imgplot\r\n",
    "\r\n",
    "def laser_points_img_gen(i):\r\n",
    "    global imgplot, pointsplot\r\n",
    "    # Find board and laser\r\n",
    "    (point, image), rvec, tvec = images[i], rvecs[i], tvecs[i]\r\n",
    "    masked, centroids = find_board_and_laser(image, rvec, tvec)\r\n",
    "\r\n",
    "    # Update anim\r\n",
    "    imgplot.set_data(masked)\r\n",
    "    pointsplot.set_data(centroids[0], centroids[1])\r\n",
    "    return pointsplot, imgplot\r\n",
    "\r\n",
    "# call the animator.  blit=True means only re-draw the parts that have changed.\r\n",
    "anim = animation.FuncAnimation(fig, laser_points_img_gen, init_func=init,\r\n",
    "                               frames=200, interval=20, blit=True)"
   ],
   "outputs": [],
   "metadata": {}
  },
  {
   "cell_type": "markdown",
   "source": [
    "## Calibrar"
   ],
   "metadata": {}
  },
  {
   "cell_type": "code",
   "execution_count": null,
   "source": [
    "def ray_plane_intersect_vectorized(img_points, plane, cam_mtx):\r\n",
    "\t\"\"\"\r\n",
    "\tCalculate 3d-intersection between image rays defined by `img_ponts` and `cam_mtx`\r\n",
    "\tand a plane defined by the 4-vec `plane`\r\n",
    "\t@param img_points np.array with shape (3, N), N= number of points, homegeneous coords\r\n",
    "\t@param plane np.array with shape = (4,)\r\n",
    "\t@param cam_mtx np.array with shape = (3,3), intrinsic camera parameters\r\n",
    "\t@returns np.array with shape (4, N) with 3d points\r\n",
    "\t\"\"\"\r\n",
    "\tassert plane.shape == (4,)\r\n",
    "\tassert len(img_points.shape) == 2\r\n",
    "\tassert img_points.shape[0] == 3\r\n",
    "\r\n",
    "\trays = np.linalg.inv(cam_mtx)@img_points\r\n",
    "\tp = plane[-1]\r\n",
    "\tn = plane[:3]\r\n",
    "\tout = (-p/(n@rays)) * rays\r\n",
    "\tout = np.vstack((out, np.ones((1, out.shape[-1])))) # homogeneous coords\r\n",
    "\treturn out"
   ],
   "outputs": [],
   "metadata": {}
  },
  {
   "cell_type": "markdown",
   "source": [
    "### Achar todos os pontos 3D"
   ],
   "metadata": {}
  },
  {
   "cell_type": "code",
   "execution_count": null,
   "source": [
    "from collections import defaultdict\r\n",
    "Xlist = []\r\n",
    "\r\n",
    "zcounter = defaultdict(int)\r\n",
    "for (point, image), rvec, tvec in zip(images, rvecs, tvecs):\r\n",
    "\t# count z \r\n",
    "\tzcounter[point[-1]] += 1\r\n",
    "\r\n",
    "\tmasked, p_centroids = find_board_and_laser(image, rvec, tvec)\r\n",
    "\tn = chess_plane(rvec, tvec)\r\n",
    "\tprint(point[-1])\r\n",
    "\tprint(tvec)\r\n",
    "\tprint(n)\r\n",
    "\tprint(\"=====\")\r\n",
    "\tpoints3d = ray_plane_intersect_vectorized(p_centroids, n, mtx)\r\n",
    "\tXlist.append(points3d)\r\n",
    "print(zcounter)"
   ],
   "outputs": [],
   "metadata": {}
  },
  {
   "cell_type": "code",
   "execution_count": null,
   "source": [
    "X = np.hstack(Xlist)"
   ],
   "outputs": [],
   "metadata": {}
  },
  {
   "cell_type": "markdown",
   "source": [
    "### Mostrar pontos 3D"
   ],
   "metadata": {}
  },
  {
   "cell_type": "code",
   "execution_count": null,
   "source": [
    "import matplotlib.pyplot as plt\r\n",
    "from mpl_toolkits.mplot3d import Axes3D\r\n",
    "\r\n",
    "fig = plt.figure()\r\n",
    "ax = fig.add_subplot(111, projection='3d')\r\n",
    "ax.scatter(X[0],X[1], X[2], color=\"r\")"
   ],
   "outputs": [],
   "metadata": {}
  },
  {
   "cell_type": "markdown",
   "source": [
    "### Fit num plano"
   ],
   "metadata": {}
  },
  {
   "cell_type": "code",
   "execution_count": null,
   "source": [
    "u, s, vt = np.linalg.svd(X.T, full_matrices=False)\r\n",
    "v = vt.T\r\n",
    "n = v[:,-1]\r\n",
    "print(n)"
   ],
   "outputs": [],
   "metadata": {}
  },
  {
   "cell_type": "markdown",
   "source": [
    "### Plot Plano e pontos"
   ],
   "metadata": {}
  },
  {
   "cell_type": "code",
   "execution_count": null,
   "source": [
    "x0, xf = np.min(X[0]), np.max(X[0])\r\n",
    "y0, yf = np.min(X[1]), np.max(X[1])\r\n",
    "xplot = np.linspace(x0,xf)\r\n",
    "yplot = np.linspace(y0,yf)\r\n",
    "xplot, yplot = np.meshgrid(xplot, yplot)\r\n",
    "a,b,c,d = n\r\n",
    "zplot = -(a*xplot + b*yplot + d)/c"
   ],
   "outputs": [],
   "metadata": {}
  },
  {
   "cell_type": "markdown",
   "source": [
    "# Resultado"
   ],
   "metadata": {}
  },
  {
   "cell_type": "markdown",
   "source": [
    "## Plot"
   ],
   "metadata": {}
  },
  {
   "cell_type": "code",
   "execution_count": null,
   "source": [
    "fig = plt.figure()\r\n",
    "ax = fig.add_subplot(111, projection='3d')\r\n",
    "ax.scatter(X[0],X[1], X[2], color=\"r\")\r\n",
    "ax.plot_surface(xplot, yplot, zplot, color=\"b\", alpha=0.5)"
   ],
   "outputs": [],
   "metadata": {}
  },
  {
   "cell_type": "markdown",
   "source": [
    "## Params"
   ],
   "metadata": {}
  },
  {
   "cell_type": "code",
   "execution_count": null,
   "source": [
    "print(\"=== Intrinsic Camera Params ===\")\r\n",
    "print(\"===== Camera Matrix =====\")\r\n",
    "print(mtx)\r\n",
    "print(\"===== Lens Distortion Params =====\")\r\n",
    "print(dist.T)\r\n",
    "print(\"=== Laser Params ===\")\r\n",
    "print(\"==== Laser Plane 4-vec ====\")\r\n",
    "print(n)\r\n",
    "print(\"==== Laser Plane Equation ====\")\r\n",
    "print(f\"{1e3*a:.2f}x + {1e3*b:.2f}y + {1e3*c:.2f}z + {1e3*d:.2f} = 0\")"
   ],
   "outputs": [],
   "metadata": {}
  },
  {
   "cell_type": "markdown",
   "source": [
    "## Save"
   ],
   "metadata": {}
  },
  {
   "cell_type": "code",
   "execution_count": null,
   "source": [
    "calib = dict(\r\n",
    "    mtx = mtx,\r\n",
    "    dist= dist,\r\n",
    "    n=n\r\n",
    ")\r\n",
    "with open(\"calib.pkl\", \"wb\") as f:\r\n",
    "    pickle.dump(calib, f)"
   ],
   "outputs": [],
   "metadata": {}
  }
 ],
 "metadata": {
  "orig_nbformat": 4,
  "language_info": {
   "name": "python",
   "version": "3.8.0",
   "mimetype": "text/x-python",
   "codemirror_mode": {
    "name": "ipython",
    "version": 3
   },
   "pygments_lexer": "ipython3",
   "nbconvert_exporter": "python",
   "file_extension": ".py"
  },
  "kernelspec": {
   "name": "python3",
   "display_name": "Python 3.8.0 64-bit ('myenv': venv)"
  },
  "interpreter": {
   "hash": "b579e5fbc9ee96b74887e9a62b90c5daaf193ad84cd3e0654970e29f1feb5853"
  }
 },
 "nbformat": 4,
 "nbformat_minor": 2
}