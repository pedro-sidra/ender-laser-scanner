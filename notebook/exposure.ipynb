{
 "cells": [
  {
   "cell_type": "code",
   "execution_count": null,
   "source": [
    "import numpy as np\r\n",
    "import cv2\r\n",
    "import matplotlib.pyplot as plt \r\n",
    "from tqdm.auto import tqdm as progressbar\r\n",
    "import time\r\n",
    "%matplotlib qt5"
   ],
   "outputs": [],
   "metadata": {}
  },
  {
   "cell_type": "markdown",
   "source": [
    "## Setup\r\n",
    "\r\n",
    "This is now implemented in the snapshot/MjpgSnapshotterExp class"
   ],
   "metadata": {}
  },
  {
   "cell_type": "code",
   "execution_count": null,
   "source": [
    "import subprocess\r\n",
    "access_str = r\"pi@192.168.0.15\"\r\n",
    "\r\n",
    "def ssh_command(cmd):\r\n",
    "    try:\r\n",
    "        return subprocess.check_output([\r\n",
    "                \"ssh\",\r\n",
    "                access_str,\r\n",
    "                cmd\r\n",
    "            ]).decode()\r\n",
    "    except subprocess.CalledProcessError:\r\n",
    "        time.sleep(0.5)\r\n",
    "        return subprocess.check_output([\r\n",
    "                \"ssh\",\r\n",
    "                access_str,\r\n",
    "                cmd\r\n",
    "            ]).decode()\r\n",
    "\r\n",
    "\r\n",
    "print(ssh_command(\"v4l2-ctl --all\").split(\"Flags:\")[-1])\r\n",
    "print(ssh_command(\"v4l2-ctl -cexposure_auto=1\")[-500:])"
   ],
   "outputs": [],
   "metadata": {}
  },
  {
   "cell_type": "code",
   "execution_count": null,
   "source": [
    "def set_exposure(value):\r\n",
    "    return ssh_command(f\"v4l2-ctl -cexposure_absolute={value}\")\r\n",
    "\r\n",
    "def set_temp(value):\r\n",
    "    return ssh_command(f\"v4l2-ctl -cwhite_balance_temperature={value}\")\r\n",
    "\r\n",
    "def set_gain(value):\r\n",
    "    return ssh_command(f\"v4l2-ctl -cgain={value}\")\r\n",
    "\r\n",
    "set_exposure(100)\r\n",
    "ssh_command(f\"v4l2-ctl -csaturation=32\")\r\n",
    "ssh_command(f\"v4l2-ctl -cwhite_balance_temperature_auto=0\")\r\n",
    "ssh_command(f\"v4l2-ctl -cwhite_balance_temperature=0\")\r\n",
    "ssh_command(f\"v4l2-ctl -csharpness=24\")"
   ],
   "outputs": [],
   "metadata": {}
  },
  {
   "cell_type": "code",
   "execution_count": null,
   "source": [
    "import sys\r\n",
    "import time\r\n",
    "sys.path.append(r\"../ender\")\r\n",
    "from snapshot import MjpgSnapshotter\r\n",
    "\r\n",
    "\r\n",
    "snap = MjpgSnapshotter(\"http://192.168.0.15/webcam/\")"
   ],
   "outputs": [],
   "metadata": {}
  },
  {
   "cell_type": "markdown",
   "source": [
    "## Exposure sweep"
   ],
   "metadata": {}
  },
  {
   "cell_type": "code",
   "execution_count": null,
   "source": [
    "images=[]\r\n",
    "exposure_range = range(1,200,5)\r\n",
    "set_gain(2)\r\n",
    "for i in progressbar(exposure_range):\r\n",
    "    set_exposure(i)\r\n",
    "    ret, im = snap.read()\r\n",
    "    time.sleep(0.5)\r\n",
    "    if ret:\r\n",
    "        images.append(im)"
   ],
   "outputs": [],
   "metadata": {}
  },
  {
   "cell_type": "code",
   "execution_count": null,
   "source": [
    "fig, axs = plt.subplots(2)\r\n",
    "axs[0].imshow(images[6])\r\n",
    "axs[1].imshow(images[-1])"
   ],
   "outputs": [],
   "metadata": {}
  },
  {
   "cell_type": "markdown",
   "source": [
    "### Plot \"reddest\" pixels X exposure"
   ],
   "metadata": {}
  },
  {
   "cell_type": "code",
   "execution_count": null,
   "source": [
    "red = np.array([ [ [ [1],[-0.5],[-0.5] ] ] ])\r\n",
    "white = np.array([ [ [ [1],[1],[1] ] ] ])\r\n",
    "white=white/np.linalg.norm(white)"
   ],
   "outputs": [],
   "metadata": {}
  },
  {
   "cell_type": "code",
   "execution_count": null,
   "source": [
    "I = np.stack(images)\r\n",
    "I = I / 255 / (3**(1/3))\r\n",
    "red_contrast = I@red\r\n",
    "white_value = I@white"
   ],
   "outputs": [],
   "metadata": {}
  },
  {
   "cell_type": "code",
   "execution_count": null,
   "source": [
    "plt.figure()\r\n",
    "plt.plot(np.max(red_contrast,axis=(1,2)))\r\n",
    "plt.plot(np.max(white_value, axis=(1,2)) )\r\n",
    "plt.show()\r\n",
    "print(np.argmax(np.max(red_contrast, axis=(1,2)) ))"
   ],
   "outputs": [],
   "metadata": {}
  },
  {
   "cell_type": "code",
   "execution_count": null,
   "source": [
    "ids=[]\r\n",
    "for img in np.linalg.norm(I, axis=-1):\r\n",
    "    ids.append( np.unravel_index(img.flatten().argmax(), img.shape) )\r\n",
    "max_norm_vecs = [ I[n, i[0], i[1]] for n, i in enumerate(ids) ]"
   ],
   "outputs": [],
   "metadata": {}
  },
  {
   "cell_type": "markdown",
   "source": [
    "### Plot brighest pixel's color X exposure"
   ],
   "metadata": {}
  },
  {
   "cell_type": "code",
   "execution_count": null,
   "source": [
    "x = np.stack(max_norm_vecs) * 255 * 3**(1/3)\r\n",
    "plt.plot(exposure_range, x[:,0], label=\"r\", color =\"red\")\r\n",
    "plt.plot(exposure_range, x[:,1], label=\"g\", color =\"green\")\r\n",
    "plt.plot(exposure_range, x[:,2], label=\"b\", color =\"blue\")\r\n",
    "plt.xlabel(\"exposure\")\r\n",
    "plt.legend()"
   ],
   "outputs": [],
   "metadata": {}
  },
  {
   "cell_type": "markdown",
   "source": [
    "### Plot hist X exposure"
   ],
   "metadata": {}
  },
  {
   "cell_type": "code",
   "execution_count": null,
   "source": [
    "I.shape"
   ],
   "outputs": [],
   "metadata": {}
  },
  {
   "cell_type": "code",
   "execution_count": null,
   "source": [
    "fig, axs = plt.subplots(len(exposure_range)//4, 4)\r\n",
    "\r\n",
    "for img, ax in zip(I, axs.flatten()):\r\n",
    "    bnw = cv2.cvtColor((img * 255 * (3**(1/3))).astype(np.uint8), cv2.COLOR_RGB2GRAY)\r\n",
    "    ax.hist(bnw[bnw > 30].flatten(), bins=20)\r\n",
    "    "
   ],
   "outputs": [],
   "metadata": {}
  },
  {
   "cell_type": "markdown",
   "source": [
    "## Gain Sweep"
   ],
   "metadata": {}
  },
  {
   "cell_type": "code",
   "execution_count": null,
   "source": [
    "images_gain=[]\r\n",
    "gain_range = range(5,255,8)\r\n",
    "set_exposure(35)\r\n",
    "for i in progressbar(gain_range):\r\n",
    "    set_exposure(i)\r\n",
    "    ret, im = snap.read()\r\n",
    "    time.sleep(0.5)\r\n",
    "    if ret:\r\n",
    "        images_gain.append(im)"
   ],
   "outputs": [],
   "metadata": {}
  },
  {
   "cell_type": "markdown",
   "source": [
    "### Plot brighest pixel's color X gain"
   ],
   "metadata": {}
  },
  {
   "cell_type": "code",
   "execution_count": null,
   "source": [
    "I = np.stack(images_gain)\r\n",
    "I = I / 255 / (3**(1/3))\r\n",
    "red_contrast = I@red\r\n",
    "white_value = I@white\r\n",
    "ids=[]\r\n",
    "for img in np.linalg.norm(I, axis=-1):\r\n",
    "    ids.append( np.unravel_index(img.flatten().argmax(), img.shape) )\r\n",
    "max_norm_vecs = [ I[n, i[0], i[1]] for n, i in enumerate(ids) ]"
   ],
   "outputs": [],
   "metadata": {}
  },
  {
   "cell_type": "code",
   "execution_count": null,
   "source": [
    "x = np.stack(max_norm_vecs) * 255 * 3**(1/3)\r\n",
    "plt.plot(gain_range, x[:,0], label=\"r\", color =\"red\")\r\n",
    "plt.plot(gain_range, x[:,1], label=\"g\", color =\"green\")\r\n",
    "plt.plot(gain_range, x[:,2], label=\"b\", color =\"blue\")\r\n",
    "plt.xlabel(\"gain\")\r\n",
    "plt.legend()"
   ],
   "outputs": [],
   "metadata": {}
  }
 ],
 "metadata": {
  "orig_nbformat": 4,
  "language_info": {
   "name": "python",
   "version": "3.8.0",
   "mimetype": "text/x-python",
   "codemirror_mode": {
    "name": "ipython",
    "version": 3
   },
   "pygments_lexer": "ipython3",
   "nbconvert_exporter": "python",
   "file_extension": ".py"
  },
  "kernelspec": {
   "name": "python3",
   "display_name": "Python 3.8.0 64-bit ('myenv': venv)"
  },
  "interpreter": {
   "hash": "b579e5fbc9ee96b74887e9a62b90c5daaf193ad84cd3e0654970e29f1feb5853"
  }
 },
 "nbformat": 4,
 "nbformat_minor": 2
}